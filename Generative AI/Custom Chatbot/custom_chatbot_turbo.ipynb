{
 "cells": [
  {
   "cell_type": "markdown",
   "id": "124e5672",
   "metadata": {},
   "source": [
    "# Custom Chatbot Project"
   ]
  },
  {
   "cell_type": "markdown",
   "id": "2a4a94b3",
   "metadata": {},
   "source": [
    "I tried questions on clinical trials on ChatGPT 3.5 and found it could not provide the correct information. Hence I chose the clinical trials dataset from https://clinicaltrials.gov/ for this project to build custom chatbot to provide answers to questions of similar type\n",
    "\n",
    "![alternative text](images/ChatGPT_Novartis.png)\n",
    "![alternative text](images/ChatGPT_Pfizer.png)\n",
    "![alternative text](images/ChatGPT_HER2-Positive.png)"
   ]
  },
  {
   "cell_type": "code",
   "execution_count": 1,
   "id": "3bd549e5-7457-4358-84d8-a740ace60d2c",
   "metadata": {},
   "outputs": [],
   "source": [
    "#!pip install tiktoken"
   ]
  },
  {
   "cell_type": "code",
   "execution_count": 2,
   "id": "63ae549c-3e60-4b2b-a772-8f4a5a75c995",
   "metadata": {},
   "outputs": [],
   "source": [
    "import os\n",
    "import io\n",
    "import requests\n",
    "import numpy as np\n",
    "import pandas as pd\n",
    "from scipy import spatial\n",
    "from requests.models import PreparedRequest\n",
    "\n",
    "import tiktoken\n",
    "from openai import OpenAI"
   ]
  },
  {
   "cell_type": "code",
   "execution_count": 3,
   "id": "9c1abb46-8965-44a1-b4d3-dddbdf802c07",
   "metadata": {},
   "outputs": [],
   "source": [
    "# Environment variables\n",
    "b_download = False\n",
    "b_merge_data = False\n",
    "b_create_embeddings = False\n",
    "\n",
    "data_dir = 'data'\n",
    "os.makedirs(data_dir, exist_ok=True)\n",
    "\n",
    "DATA_CSV_FILEPATH = os.path.join(data_dir, \"clinical_trials.csv\")\n",
    "EMBEDDINGS_CSV_FILEPATH = os.path.join(data_dir, \"clinical_trials_embeddings.csv\")\n",
    "\n",
    "# OpenAI\n",
    "OPEN_API_KEY = \"YOUR API KEY\"\n",
    "\n",
    "# OpenAI Models\n",
    "EMBEDDING_MODEL_NAME = \"text-embedding-ada-002\"\n",
    "COMPLETION_MODEL_NAME = \"gpt-3.5-turbo-0613\"  #Legacy Snapshot of gpt-3.5-turbo from June 13th 2023. Will be deprecated on June 13, 2024."
   ]
  },
  {
   "cell_type": "code",
   "execution_count": 4,
   "id": "81234353-2771-4c23-b571-1204188f659a",
   "metadata": {},
   "outputs": [],
   "source": [
    "def get_url_data(fmt, category):\n",
    "    base_url = \"https://clinicaltrials.gov/api/v2/studies?\"\n",
    "    data = {'format': fmt, 'markupFormat':'markdown', 'query.cond': category, 'filter.advanced': \"AREA[StartDate]2022 OR AREA[StartDate]2023\"}\n",
    "\n",
    "    return base_url, data"
   ]
  },
  {
   "cell_type": "code",
   "execution_count": 5,
   "id": "2ef17367-ebf9-4b43-b4ed-517d868e0325",
   "metadata": {},
   "outputs": [],
   "source": [
    "def download_csv_format(category, data_dir):\n",
    "    base_url, data = get_url_data('csv', category)\n",
    "    token = None\n",
    "    next_page = True\n",
    "    study_csvs = []\n",
    "    header='infer'\n",
    "    \n",
    "    while next_page:\n",
    "        if token is not None:\n",
    "            data['pageToken'] = token\n",
    "        req = PreparedRequest()\n",
    "        req.prepare_url(base_url, data)\n",
    "        r = requests.get(req.url)\n",
    "    \n",
    "        cur_csv = pd.read_csv(io.StringIO(r.content.decode('utf-8')), header=header)    \n",
    "        study_csvs.append(cur_csv)\n",
    "        header = None\n",
    "        cur_csv.columns=study_csvs[0].columns.values\n",
    "        if 'x-next-page-token' in r.headers.keys():\n",
    "            token = r.headers['x-next-page-token']\n",
    "        else:\n",
    "            next_page = False\n",
    "        \n",
    "        # print(r.headers.keys(), token, next_page, req.url)\n",
    "    \n",
    "    df_csv = pd.concat(study_csvs, axis=0, ignore_index=True)\n",
    "    df_csv.to_csv(os.path.join(data_dir, \"clinical_trials_csv_fmt.csv\"), index=False)\n",
    "    print(len(study_csvs), df_csv.shape)\n",
    "    return df_csv"
   ]
  },
  {
   "cell_type": "code",
   "execution_count": 6,
   "id": "fd8d0898-0c21-4adb-b030-4cbb7d2d232b",
   "metadata": {},
   "outputs": [],
   "source": [
    "def fetch_page_json(url: str):\n",
    "    headers = {\n",
    "    'user-agent': 'Mozilla/5.0 (Macintosh; Intel Mac OS X 10_15_7) AppleWebKit/537.36 (KHTML, like Gecko) Chrome/112.0.0.0 Safari/537.36'\n",
    "    }\n",
    "    # Todo: fetch the page using the GET requests\n",
    "    r = requests.get(url, headers=headers)\n",
    "\n",
    "    # Todo check status code. Return the request body if code == 200, else print status code and return the body\n",
    "    if r.status_code == 200:\n",
    "        return r.json()\n",
    "    else:\n",
    "        raise Exception('Connection error: ' + r.status_code)"
   ]
  },
  {
   "cell_type": "code",
   "execution_count": 7,
   "id": "22b7fcdd-6963-483f-9de6-d426b5cce557",
   "metadata": {},
   "outputs": [],
   "source": [
    "def convert_json_list_to_df(study_jsons, data_dir):\n",
    "    # Initialize a list to collect data\n",
    "    study_list = []\n",
    "    \n",
    "    #Loop through each JSON file in the current directory\n",
    "    for cur_json in study_jsons:\n",
    "        data_list = cur_json['studies']\n",
    "        for data in data_list:\n",
    "            id_module = data['protocolSection']['identificationModule']\n",
    "            desc_module = data['protocolSection']['descriptionModule']\n",
    "            status_module = data['protocolSection']['statusModule']\n",
    "            oversight_module = data['protocolSection'].get('oversightModule', {})\n",
    "            sponsor_module = data['protocolSection'].get('sponsorCollaboratorsModule', {})\n",
    "            \n",
    "            leadSponsor = sponsor_module.get('leadSponsor', {})\n",
    "            collaborators = sponsor_module.get('collaborators', {})\n",
    "        \n",
    "            # Extract required data from JSON file\n",
    "            nct_id = id_module.get(\"nctId\", \"\")  \n",
    "            detailed_description = desc_module.get(\"detailedDescription\", \"\")\n",
    "            sd = status_module.get(\"startDateStruct\", \"\")\n",
    "            overall_status = status_module.get(\"overallStatus\", \"\")\n",
    "        \n",
    "            # Extracting Sponsor/Collaborator\n",
    "            if leadSponsor:\n",
    "                sponsor_name = leadSponsor.get(\"name\", \"\")\n",
    "                sponsor_class = leadSponsor.get(\"class\", \"\")\n",
    "            else:\n",
    "                sponsor_name = \"\"\n",
    "                sponsor_class = \"\"\n",
    "    \n",
    "            if collaborators:\n",
    "                collab_name = []\n",
    "                collab_class = []\n",
    "                for collab in collaborators:\n",
    "                    collab_class.append(collab.get(\"class\", \"\"))\n",
    "                    collab_name.append(collab.get(\"name\", \"\"))\n",
    "    \n",
    "                collab_class = '|'.join(collab_class)\n",
    "                collab_name = '|'.join(collab_name)\n",
    "            else:\n",
    "                collab_class = \"\"\n",
    "                collab_name = \"\"\n",
    "                \n",
    "            # Append the processed data to the list\n",
    "            study_list.append({\n",
    "                \"nct_id\": nct_id,\n",
    "                \"detailed_description\": detailed_description,\n",
    "                \"sponsor_name\": sponsor_name,\n",
    "                \"sponsor_class\": sponsor_class,\n",
    "                \"collab_name\": collab_name,\n",
    "                \"collab_class\": collab_class,\n",
    "                \"overall_status\": overall_status\n",
    "            })\n",
    "        \n",
    "    # Convert the list of dictionaries to a DataFrame\n",
    "    df_json = pd.DataFrame(study_list)\n",
    "    df_json.to_csv(os.path.join(data_dir, \"clinical_trials_json_fmt.csv\"), index=False)\n",
    "    return df_json"
   ]
  },
  {
   "cell_type": "code",
   "execution_count": 8,
   "id": "454554a5-0927-47e5-abf0-94f1b20bcbb6",
   "metadata": {},
   "outputs": [],
   "source": [
    "def download_json_format(category, data_dir):\n",
    "    base_url, data = get_url_data('json', category)\n",
    "    token = None\n",
    "    next_page = True\n",
    "    study_jsons = []\n",
    "    \n",
    "    while next_page:\n",
    "        if token is not None:\n",
    "            data['pageToken'] = token\n",
    "        req = PreparedRequest()\n",
    "        req.prepare_url(base_url, data)\n",
    "        cur_json = fetch_page_json(req.url)\n",
    "        study_jsons.append(cur_json)\n",
    "        if 'nextPageToken' in cur_json.keys():\n",
    "            token = cur_json['nextPageToken']\n",
    "        else:\n",
    "            next_page = False\n",
    "        \n",
    "        # print(cur_json.keys(), token, next_page, req.url)\n",
    "    df_json = convert_json_list_to_df(study_jsons, data_dir)\n",
    "    print(len(study_jsons), df_json.shape)\n",
    "    return df_json"
   ]
  },
  {
   "cell_type": "code",
   "execution_count": 9,
   "id": "970814d3-6a7f-4df8-bdb7-d65eb825bfc4",
   "metadata": {},
   "outputs": [],
   "source": [
    "if b_download:\n",
    "    category = 'Breast Cancer OR Lung Cancer'\n",
    "    df_csv = download_csv_format(category, data_dir)\n",
    "    df_json = download_json_format(category, data_dir)"
   ]
  },
  {
   "cell_type": "code",
   "execution_count": 10,
   "id": "b81aaab8-6175-41c2-b026-29c50d0affcf",
   "metadata": {},
   "outputs": [],
   "source": [
    "def load_data(b_merge_data, data_dir):\n",
    "    if b_merge_data:\n",
    "        df_json = pd.read_csv(os.path.join(data_dir, \"clinical_trials_json_fmt.csv\"))\n",
    "        df_csv = pd.read_csv(os.path.join(data_dir, \"clinical_trials_csv_fmt.csv\"))\n",
    "        \n",
    "        print(df_json.shape, df_csv.shape)\n",
    "        df_csv.rename(columns={'NCT Number': 'nct_id'}, inplace=True)\n",
    "        \n",
    "        df_json.drop(columns=[\"sponsor_name\", \"collab_name\"], inplace=True)\n",
    "        # Merge the DataFrames\n",
    "        df = pd.merge(df_csv, df_json, on='nct_id', how='left')\n",
    "    \n",
    "        df['Start Year'] = df['Start Date'].apply(lambda x: (x.split(\"-\"))[0])\n",
    "                \n",
    "        col_names = ['Sponsor', 'Start Year', 'nct_id', 'Study Title']\n",
    "        key_names = ['sponsor', 'start year', 'nct_id', 'title']\n",
    "        \n",
    "        for i in range(0, len(col_names)):\n",
    "            col_data = key_names[i] + \": \" + df[col_names[i]]\n",
    "            if i == 0:\n",
    "                df['text'] = col_data\n",
    "            else:\n",
    "                df['text'] = df['text'] + \", \" + col_data\n",
    "        \n",
    "        # Save the merged DataFrame to an csv file\n",
    "        df.to_csv(DATA_CSV_FILEPATH, index=False)\n",
    "        df = df[df['sponsor_class']=='INDUSTRY']\n",
    "        df.reset_index(drop=True)\n",
    "        \n",
    "        em_df = pd.DataFrame(columns=['text'])\n",
    "        em_df['text'] = df['text']\n",
    "        em_df.to_csv(EMBEDDINGS_CSV_FILEPATH, index=False)\n",
    "    else:\n",
    "        df = pd.read_csv(DATA_CSV_FILEPATH)\n",
    "        df = df[df['sponsor_class']=='INDUSTRY']\n",
    "        df.reset_index(drop=True)\n",
    "    \n",
    "    return df"
   ]
  },
  {
   "cell_type": "code",
   "execution_count": 11,
   "id": "da6ebd84-2625-496f-bc57-ed797fc3b5d6",
   "metadata": {},
   "outputs": [],
   "source": [
    "df = load_data(b_merge_data, data_dir)"
   ]
  },
  {
   "cell_type": "markdown",
   "id": "a63d4c5f",
   "metadata": {},
   "source": [
    "## Data Wrangling\n",
    "\n",
    "TODO: In the cells below, load your chosen dataset into a `pandas` dataframe with a column named `\"text\"`. This column should contain all of your text data, separated into at least 20 rows."
   ]
  },
  {
   "cell_type": "code",
   "execution_count": 12,
   "id": "9e4a6fcf-04c0-4757-a386-734f16facef8",
   "metadata": {},
   "outputs": [],
   "source": [
    "openai_client = OpenAI(api_key = OPEN_API_KEY)"
   ]
  },
  {
   "cell_type": "code",
   "execution_count": 13,
   "id": "c69b83a1",
   "metadata": {},
   "outputs": [],
   "source": [
    "def get_embeddings(text, openai_client, model=EMBEDDING_MODEL_NAME):\n",
    "    response = openai_client.embeddings.create(\n",
    "        input=text,\n",
    "        model=model\n",
    "    )\n",
    "    \n",
    "    # Extract embeddings\n",
    "    embeddings = [row.embedding for row in response.data]\n",
    "    \n",
    "    return embeddings"
   ]
  },
  {
   "cell_type": "code",
   "execution_count": 14,
   "id": "6cd8c387-9b3d-4661-bbec-3392205b5297",
   "metadata": {},
   "outputs": [],
   "source": [
    "def create_embeddings(openai_client):\n",
    "    em_df = pd.read_csv(EMBEDDINGS_CSV_FILEPATH)\n",
    "    \n",
    "    # Send text data to the model\n",
    "    embeddings = get_embeddings(em_df[\"text\"].tolist(), openai_client)\n",
    "    # Add embeddings list to dataframe\n",
    "    em_df[\"embeddings\"] = embeddings\n",
    "    em_df.to_csv(EMBEDDINGS_CSV_FILEPATH, index=False)\n"
   ]
  },
  {
   "cell_type": "code",
   "execution_count": 15,
   "id": "4da3c1e1-08df-4eb2-ac95-b6abdc91350a",
   "metadata": {},
   "outputs": [
    {
     "data": {
      "text/html": [
       "<div>\n",
       "<style scoped>\n",
       "    .dataframe tbody tr th:only-of-type {\n",
       "        vertical-align: middle;\n",
       "    }\n",
       "\n",
       "    .dataframe tbody tr th {\n",
       "        vertical-align: top;\n",
       "    }\n",
       "\n",
       "    .dataframe thead th {\n",
       "        text-align: right;\n",
       "    }\n",
       "</style>\n",
       "<table border=\"1\" class=\"dataframe\">\n",
       "  <thead>\n",
       "    <tr style=\"text-align: right;\">\n",
       "      <th></th>\n",
       "      <th>text</th>\n",
       "      <th>embeddings</th>\n",
       "    </tr>\n",
       "  </thead>\n",
       "  <tbody>\n",
       "    <tr>\n",
       "      <th>0</th>\n",
       "      <td>sponsor: SOTIO Biotech AG, start year: 2022, n...</td>\n",
       "      <td>[-0.022477557882666588, -0.03247052803635597, ...</td>\n",
       "    </tr>\n",
       "    <tr>\n",
       "      <th>1</th>\n",
       "      <td>sponsor: Adela, Inc, start year: 2022, nct_id:...</td>\n",
       "      <td>[-0.008026139810681343, -0.012029202654957771,...</td>\n",
       "    </tr>\n",
       "    <tr>\n",
       "      <th>2</th>\n",
       "      <td>sponsor: AstraZeneca, start year: 2022, nct_id...</td>\n",
       "      <td>[-0.011025339365005493, -0.010883902199566364,...</td>\n",
       "    </tr>\n",
       "    <tr>\n",
       "      <th>3</th>\n",
       "      <td>sponsor: Iksuda Therapeutics Ltd., start year:...</td>\n",
       "      <td>[-0.00710006570443511, -0.016954582184553146, ...</td>\n",
       "    </tr>\n",
       "    <tr>\n",
       "      <th>4</th>\n",
       "      <td>sponsor: Health Clinics Limited, start year: 2...</td>\n",
       "      <td>[-0.004834556486457586, -0.02596236951649189, ...</td>\n",
       "    </tr>\n",
       "    <tr>\n",
       "      <th>...</th>\n",
       "      <td>...</td>\n",
       "      <td>...</td>\n",
       "    </tr>\n",
       "    <tr>\n",
       "      <th>852</th>\n",
       "      <td>sponsor: Xoft, Inc., start year: 2022, nct_id:...</td>\n",
       "      <td>[-0.0140214953571558, -0.011602317914366722, -...</td>\n",
       "    </tr>\n",
       "    <tr>\n",
       "      <th>853</th>\n",
       "      <td>sponsor: AstraZeneca, start year: 2023, nct_id...</td>\n",
       "      <td>[-0.02016773261129856, -0.0142084751278162, 0....</td>\n",
       "    </tr>\n",
       "    <tr>\n",
       "      <th>854</th>\n",
       "      <td>sponsor: AstraZeneca, start year: 2022, nct_id...</td>\n",
       "      <td>[-0.007853938266634941, -0.010458695702254772,...</td>\n",
       "    </tr>\n",
       "    <tr>\n",
       "      <th>855</th>\n",
       "      <td>sponsor: Tempus AI, start year: 2022, nct_id: ...</td>\n",
       "      <td>[-0.010268607176840305, -0.005001166369765997,...</td>\n",
       "    </tr>\n",
       "    <tr>\n",
       "      <th>856</th>\n",
       "      <td>sponsor: 3D Medicines (Sichuan) Co., Ltd., sta...</td>\n",
       "      <td>[-0.01137755811214447, -0.011470544151961803, ...</td>\n",
       "    </tr>\n",
       "  </tbody>\n",
       "</table>\n",
       "<p>857 rows × 2 columns</p>\n",
       "</div>"
      ],
      "text/plain": [
       "                                                  text  \\\n",
       "0    sponsor: SOTIO Biotech AG, start year: 2022, n...   \n",
       "1    sponsor: Adela, Inc, start year: 2022, nct_id:...   \n",
       "2    sponsor: AstraZeneca, start year: 2022, nct_id...   \n",
       "3    sponsor: Iksuda Therapeutics Ltd., start year:...   \n",
       "4    sponsor: Health Clinics Limited, start year: 2...   \n",
       "..                                                 ...   \n",
       "852  sponsor: Xoft, Inc., start year: 2022, nct_id:...   \n",
       "853  sponsor: AstraZeneca, start year: 2023, nct_id...   \n",
       "854  sponsor: AstraZeneca, start year: 2022, nct_id...   \n",
       "855  sponsor: Tempus AI, start year: 2022, nct_id: ...   \n",
       "856  sponsor: 3D Medicines (Sichuan) Co., Ltd., sta...   \n",
       "\n",
       "                                            embeddings  \n",
       "0    [-0.022477557882666588, -0.03247052803635597, ...  \n",
       "1    [-0.008026139810681343, -0.012029202654957771,...  \n",
       "2    [-0.011025339365005493, -0.010883902199566364,...  \n",
       "3    [-0.00710006570443511, -0.016954582184553146, ...  \n",
       "4    [-0.004834556486457586, -0.02596236951649189, ...  \n",
       "..                                                 ...  \n",
       "852  [-0.0140214953571558, -0.011602317914366722, -...  \n",
       "853  [-0.02016773261129856, -0.0142084751278162, 0....  \n",
       "854  [-0.007853938266634941, -0.010458695702254772,...  \n",
       "855  [-0.010268607176840305, -0.005001166369765997,...  \n",
       "856  [-0.01137755811214447, -0.011470544151961803, ...  \n",
       "\n",
       "[857 rows x 2 columns]"
      ]
     },
     "execution_count": 15,
     "metadata": {},
     "output_type": "execute_result"
    }
   ],
   "source": [
    "if b_create_embeddings:\n",
    "    create_embeddings(openai_client)\n",
    "    \n",
    "em_df = pd.read_csv(EMBEDDINGS_CSV_FILEPATH)\n",
    "em_df[\"embeddings\"] = em_df[\"embeddings\"].apply(eval).apply(np.array)\n",
    "em_df"
   ]
  },
  {
   "cell_type": "code",
   "execution_count": 16,
   "id": "d2fa67ac-6078-4d05-869a-fd2efd0ca29e",
   "metadata": {},
   "outputs": [
    {
     "data": {
      "text/plain": [
       "'sponsor: SOTIO Biotech AG, start year: 2022, nct_id: NCT05256381, title: A Study of SOT101 in Combination With Pembrolizumab to Evaluate the Efficacy and Safety in Patients With Selected Advanced Solid Tumors'"
      ]
     },
     "execution_count": 16,
     "metadata": {},
     "output_type": "execute_result"
    }
   ],
   "source": [
    "em_df.loc[0].text"
   ]
  },
  {
   "cell_type": "markdown",
   "id": "ae769871",
   "metadata": {},
   "source": [
    "## Custom Query Completion\n",
    "\n",
    "TODO: In the cells below, compose a custom query using your chosen dataset and retrieve results from an OpenAI `Completion` model. You may copy and paste any useful code from the course materials."
   ]
  },
  {
   "cell_type": "code",
   "execution_count": 17,
   "id": "fb8ac06e-688a-4ed1-9cb0-92077f3c6478",
   "metadata": {},
   "outputs": [],
   "source": [
    "token_limit = 1000\n",
    "tokenizer = tiktoken.encoding_for_model(COMPLETION_MODEL_NAME)"
   ]
  },
  {
   "cell_type": "code",
   "execution_count": 18,
   "id": "ebf1cb2b-154d-4005-b1da-d8e33248decb",
   "metadata": {},
   "outputs": [],
   "source": [
    "def build_basic_prompt(USER_QUESTION):\n",
    "    prompt = [\n",
    "        {\n",
    "            'role': 'user',\n",
    "            'content': USER_QUESTION\n",
    "        }\n",
    "    ]\n",
    "    \n",
    "    return prompt"
   ]
  },
  {
   "cell_type": "code",
   "execution_count": 19,
   "id": "33ba4a66-d76b-40bf-97a5-8703918f564f",
   "metadata": {},
   "outputs": [],
   "source": [
    "def build_prompt_w_context(df, USER_QUESTION, tokenizer):\n",
    "    # Count the number of tokens in the question\n",
    "    token_count = len(tokenizer.encode(USER_QUESTION))\n",
    "    \n",
    "    # Create a list to store text for context\n",
    "    context_list = []\n",
    "    \n",
    "    # Loop over rows of the sorted dataframe\n",
    "    for text in df[\"text\"].values:\n",
    "        \n",
    "        # Append text to context_list if there is enough room\n",
    "        token_count += len(tokenizer.encode(text))\n",
    "        if token_count <= token_limit:\n",
    "            context_list.append(text)\n",
    "        else:\n",
    "             # Break once we're over the token limit\n",
    "            break    \n",
    "\n",
    "    prompt = [\n",
    "        {\n",
    "            'role': 'system',\n",
    "            'content': \"\"\"\n",
    "            Answer the question based on the context below. If the question can't be answered based on the context say \"I don't know the answer\". \n",
    "            Context is annotated with \"sponsor\", \"start year\", \"nct_id\" and \"title\". Context contains facts from year 2022 & 2023.\n",
    "            Context: {}\"\"\".format(\"\\n\\n###\\n\\n\".join(context_list))\n",
    "        },\n",
    "        {\n",
    "            'role': 'user',\n",
    "            'content': USER_QUESTION\n",
    "        }\n",
    "    ]\n",
    "    \n",
    "    return prompt"
   ]
  },
  {
   "cell_type": "code",
   "execution_count": 20,
   "id": "fe8b63b1-cb22-4529-86b6-0897ee41334b",
   "metadata": {},
   "outputs": [],
   "source": [
    "def openai_query(prompt, openai_client, model=COMPLETION_MODEL_NAME, max_tokens=250, seed=813547):\n",
    "    \n",
    "    response = openai_client.chat.completions.create(\n",
    "        model=model,\n",
    "        messages=prompt,\n",
    "        seed=seed,\n",
    "        max_tokens=max_tokens\n",
    "    )\n",
    "\n",
    "    # print(\"Finish Reason: \", response.choices[0].finish_reason)\n",
    "    answer = response.choices[0].message.content\n",
    "    \n",
    "    return answer"
   ]
  },
  {
   "cell_type": "code",
   "execution_count": 21,
   "id": "13f2dcd7",
   "metadata": {},
   "outputs": [],
   "source": [
    "def custom_query(question, df, openai_client, tokenizer):\n",
    "    question_embeddings = get_embeddings(question, openai_client)\n",
    "    question_embeddings = np.array(question_embeddings[0])\n",
    "    # Create a list containing the distances from question_embeddings\n",
    "    distances = [spatial.distance.cosine(question_embeddings, embedding) for embedding in df[\"embeddings\"]]\n",
    "    df[\"distances\"] = distances\n",
    "    df.sort_values(by=\"distances\", ascending=True, inplace=True)\n",
    "\n",
    "    prompt = build_prompt_w_context(df, USER_QUESTION, tokenizer)\n",
    "    answer = openai_query(prompt, openai_client)\n",
    "    # answer = answer.split(\", \")\n",
    "    # answer = \"\\n\".join(answer)\n",
    "    print(\"Custom Query answer: \")\n",
    "    print(answer)"
   ]
  },
  {
   "cell_type": "code",
   "execution_count": 22,
   "id": "c403f543",
   "metadata": {},
   "outputs": [],
   "source": [
    "def basic_query(question, openai_client):\n",
    "    prompt = build_basic_prompt(USER_QUESTION)\n",
    "    answer = openai_query(prompt, openai_client)\n",
    "    print(\"Basic Query answer: \")\n",
    "    print(answer)"
   ]
  },
  {
   "cell_type": "markdown",
   "id": "1783f146",
   "metadata": {},
   "source": [
    "## Custom Performance Demonstration\n",
    "\n",
    "TODO: In the cells below, demonstrate the performance of your custom query using at least 2 questions. For each question, show the answer from a basic `Completion` model query as well as the answer from your custom query."
   ]
  },
  {
   "cell_type": "markdown",
   "id": "4f11fdc0",
   "metadata": {},
   "source": [
    "### Question 1"
   ]
  },
  {
   "cell_type": "code",
   "execution_count": 23,
   "id": "731dcd97-d178-43d9-bba2-5b199191d968",
   "metadata": {},
   "outputs": [],
   "source": [
    "USER_QUESTION = \"What are 3 clinical trials on lung cancer started in year 2022 sponsored by Novartis\""
   ]
  },
  {
   "cell_type": "code",
   "execution_count": 24,
   "id": "4901c850",
   "metadata": {},
   "outputs": [
    {
     "name": "stdout",
     "output_type": "stream",
     "text": [
      "Basic Query answer: \n",
      "I'm sorry, but as an AI language model, I don't have real-time data or the ability to browse the internet. Therefore, I don't have access to information about specific clinical trials that might have started in 2022 or are sponsored by Novartis. To find accurate and up-to-date information on clinical trials sponsored by Novartis, I suggest visiting their official website or checking reputable clinical trial registries such as ClinicalTrials.gov.\n"
     ]
    }
   ],
   "source": [
    "basic_query(USER_QUESTION, openai_client)"
   ]
  },
  {
   "cell_type": "code",
   "execution_count": 25,
   "id": "bd7a093b",
   "metadata": {},
   "outputs": [
    {
     "name": "stdout",
     "output_type": "stream",
     "text": [
      "Custom Query answer: \n",
      "1. Clinical trial: Study of MGY825 in Patients With Advanced Non-small Cell Lung Cancer\n",
      "   - Sponsor: Novartis Pharmaceuticals\n",
      "   - Start year: 2022\n",
      "   - NCT ID: NCT05275868\n",
      "\n",
      "2. Clinical trial: Study of JDQ443 in Comparison With Docetaxel in Participants With Locally Advanced or Metastatic KRAS G12C Mutant Non-small Cell Lung Cancer\n",
      "   - Sponsor: Novartis Pharmaceuticals\n",
      "   - Start year: 2022\n",
      "   - NCT ID: NCT05132075\n",
      "\n",
      "3. Clinical trial: Phase II of Neoadjuvant and Adjuvant Capmatinib in NSCLC\n",
      "   - Sponsor: Novartis Pharmaceuticals\n",
      "   - Start year: 2022\n",
      "   - NCT ID: NCT04926831\n"
     ]
    }
   ],
   "source": [
    "custom_query(USER_QUESTION, em_df, openai_client, tokenizer)"
   ]
  },
  {
   "cell_type": "markdown",
   "id": "6e86e37c",
   "metadata": {},
   "source": [
    "### Question 2"
   ]
  },
  {
   "cell_type": "code",
   "execution_count": 26,
   "id": "cec23f54-67f1-4f66-bd18-2937b3354735",
   "metadata": {},
   "outputs": [],
   "source": [
    "USER_QUESTION = \"What are 3 clinical trials on breast cancer started in year 2023 and sponsored by Pfizer?\""
   ]
  },
  {
   "cell_type": "code",
   "execution_count": 27,
   "id": "6f646989",
   "metadata": {},
   "outputs": [
    {
     "name": "stdout",
     "output_type": "stream",
     "text": [
      "Basic Query answer: \n",
      "I'm sorry, but as an AI language model, I don't have access to real-time data on ongoing or future clinical trials. Additionally, I cannot browse the internet or access specific company databases. To find accurate and up-to-date information on clinical trials sponsored by Pfizer in 2023, I recommend visiting credible sources such as Pfizer's official website, clinical trial registries, or consulting with medical professionals and researchers specializing in breast cancer. They will be able to provide you with the most accurate and relevant information.\n"
     ]
    }
   ],
   "source": [
    "basic_query(USER_QUESTION, openai_client)"
   ]
  },
  {
   "cell_type": "code",
   "execution_count": 28,
   "id": "11c07a54",
   "metadata": {},
   "outputs": [
    {
     "name": "stdout",
     "output_type": "stream",
     "text": [
      "Custom Query answer: \n",
      "1. Clinical Trial: Study to Compare Overall Survival in Medicare Patients With Metastatic Breast Cancer Treated With a Medicine Called Palbociclib in Combination With Aromatase Inhibitor and Aromatase Inhibitor by Itself.\n",
      "   - Sponsor: Pfizer\n",
      "   - Start Year: 2023\n",
      "   - Clinical Trial ID: NCT06086340\n",
      "\n",
      "2. Clinical Trial: A Study to Understand the Use of Palbociclib in Canadian Patients With Breast Cancer That Has Spread to Other Organs.\n",
      "   - Sponsor: Pfizer\n",
      "   - Start Year: 2023\n",
      "   - Clinical Trial ID: NCT06003114\n",
      "\n",
      "3. Clinical Trial: A Study of ARV-471 (PF-07850327) Plus Palbociclib Versus Letrozole Plus Palbociclib in Participants With Estrogen Receptor Positive, Human Epidermal Growth Factor Negative Advanced Breast Cancer.\n",
      "   - Sponsor: Pfizer\n",
      "   - Start Year: 2023\n",
      "   - Clinical Trial ID: NCT05909397\n"
     ]
    }
   ],
   "source": [
    "custom_query(USER_QUESTION, em_df, openai_client, tokenizer)"
   ]
  },
  {
   "cell_type": "markdown",
   "id": "31d2dcf4-1fc4-47f4-ab23-bed0d7802e25",
   "metadata": {},
   "source": [
    "### Question 3"
   ]
  },
  {
   "cell_type": "code",
   "execution_count": 29,
   "id": "84b15a8a-8f9f-4ab8-94c2-ea64fe747008",
   "metadata": {},
   "outputs": [],
   "source": [
    "USER_QUESTION = \"What are 3 clinical trials on HER2-Positive breast cancer started in year 2022?\""
   ]
  },
  {
   "cell_type": "code",
   "execution_count": 30,
   "id": "7d815b98-71c4-4dba-b9c0-2ea47977bceb",
   "metadata": {},
   "outputs": [
    {
     "name": "stdout",
     "output_type": "stream",
     "text": [
      "Basic Query answer: \n",
      "I'm sorry, but as an AI language model, I don't have access to real-time data on ongoing or future clinical trials. Clinical trials are constantly being conducted and new ones are being initiated. To find up-to-date information on clinical trials for HER2-positive breast cancer starting in 2022, I recommend checking reputable sources such as clinical trial registries (such as ClinicalTrials.gov), research institutes, or consulting with healthcare professionals or organizations specializing in cancer research. They can provide you with the most current information and guide you to relevant clinical trials.\n"
     ]
    }
   ],
   "source": [
    "basic_query(USER_QUESTION, openai_client)"
   ]
  },
  {
   "cell_type": "code",
   "execution_count": 31,
   "id": "5795c72e-b799-45e4-ba11-31e7f1cb20a2",
   "metadata": {},
   "outputs": [
    {
     "name": "stdout",
     "output_type": "stream",
     "text": [
      "Custom Query answer: \n",
      "1. sponsor: Yuhan Corporation, start year: 2022, nct_id: NCT05523947, title: Clinical Trial of YH32367 in Patients With HER2 Positive Locally Advanced or Metastatic Solid Tumor\n",
      "\n",
      "2. sponsor: Accutar Biotechnology Inc, start year: 2022, nct_id: NCT05654532, title: Study of AC699 in Patients With Estrogen Receptor Positive/Human Epidermal Growth Factor Receptor 2 Negative (ER+/HER2-) Locally Advanced or Metastatic Breast Cancer\n",
      "\n",
      "3. sponsor: Kind Pharmaceuticals LLC, start year: 2022, nct_id: NCT05187832, title: A Study of AND019 in Women With ER Positive HER2 Negative Advanced or Metastatic Breast Cancer\n"
     ]
    }
   ],
   "source": [
    "custom_query(USER_QUESTION, em_df, openai_client, tokenizer)"
   ]
  },
  {
   "cell_type": "markdown",
   "id": "5faf6669-9567-4777-b37c-545a30b613d0",
   "metadata": {},
   "source": [
    "### Question 4"
   ]
  },
  {
   "cell_type": "code",
   "execution_count": 32,
   "id": "6ec4f566-1466-483b-8f7e-6c1add61b3ad",
   "metadata": {},
   "outputs": [],
   "source": [
    "USER_QUESTION = \"What are 3 clinical trials on Non-small Cell Lung Cancer started in year 2022?\""
   ]
  },
  {
   "cell_type": "code",
   "execution_count": 33,
   "id": "5c169861-1339-4abc-ae4c-95a5621b80bb",
   "metadata": {},
   "outputs": [
    {
     "name": "stdout",
     "output_type": "stream",
     "text": [
      "Basic Query answer: \n",
      "I'm sorry, but I am unable to browse the internet or access real-time information. Therefore, I do not have access to clinical trial data for the year 2022. It would be best to consult a reliable source like clinical trial registries or medical databases to find the specific information you are looking for.\n"
     ]
    }
   ],
   "source": [
    "basic_query(USER_QUESTION, openai_client)"
   ]
  },
  {
   "cell_type": "code",
   "execution_count": 34,
   "id": "a4038463-748d-47b0-8805-be624f82bb82",
   "metadata": {},
   "outputs": [
    {
     "name": "stdout",
     "output_type": "stream",
     "text": [
      "Custom Query answer: \n",
      "1. Trial 1: \n",
      "   - Sponsor: Bristol-Myers Squibb\n",
      "   - Start Year: 2022\n",
      "   - NCT ID: NCT05599685\n",
      "   - Title: A Study of Nivolumab, Ipilimumab, and Chemotherapy in Participants With Non-small Cell Lung Cancer\n",
      "\n",
      "2. Trial 2: \n",
      "   - Sponsor: Novartis Pharmaceuticals\n",
      "   - Start Year: 2022\n",
      "   - NCT ID: NCT05275868\n",
      "   - Title: Study of MGY825 in Patients With Advanced Non-small Cell Lung Cancer\n",
      "\n",
      "3. Trial 3: \n",
      "   - Sponsor: AstraZeneca\n",
      "   - Start Year: 2022\n",
      "   - NCT ID: NCT05061550\n",
      "   - Title: Neoadjuvant and Adjuvant Treatment in Resectable Non-small Cell Lung Cancer\n"
     ]
    }
   ],
   "source": [
    "custom_query(USER_QUESTION, em_df, openai_client, tokenizer)"
   ]
  },
  {
   "cell_type": "markdown",
   "id": "5afbb0e1-6baf-4807-9feb-55d08f7e6a2e",
   "metadata": {},
   "source": [
    "### Verifying Results"
   ]
  },
  {
   "cell_type": "code",
   "execution_count": 35,
   "id": "599507a5-a046-4830-bc1a-4e4be0c17095",
   "metadata": {},
   "outputs": [
    {
     "name": "stdout",
     "output_type": "stream",
     "text": [
      "['sponsor: Novartis Pharmaceuticals, start year: 2022, nct_id: NCT05275868, title: Study of MGY825 in Patients With Advanced Non-small Cell Lung Cancer']\n",
      "['sponsor: Novartis Pharmaceuticals, start year: 2022, nct_id: NCT05132075, title: Study of JDQ443 in Comparison With Docetaxel in Participants With Locally Advanced or Metastatic KRAS G12C Mutant Non-small Cell Lung Cancer']\n",
      "['sponsor: Novartis Pharmaceuticals, start year: 2022, nct_id: NCT04926831, title: Phase II of Neoadjuvant and Adjuvant Capmatinib in NSCLC']\n"
     ]
    }
   ],
   "source": [
    "print(em_df[em_df.text.str.contains(\"NCT05275868\")]['text'].values)\n",
    "print(em_df[em_df.text.str.contains(\"NCT05132075\")]['text'].values)\n",
    "print(em_df[em_df.text.str.contains(\"NCT04926831\")]['text'].values)"
   ]
  },
  {
   "cell_type": "code",
   "execution_count": 36,
   "id": "eec54b74-6686-4b50-a3ce-002a1465515f",
   "metadata": {},
   "outputs": [
    {
     "name": "stdout",
     "output_type": "stream",
     "text": [
      "['sponsor: Pfizer, start year: 2023, nct_id: NCT06086340, title: Study to Compare Overall Survival in Medicare Patients With Metastatic Breast Cancer Treated With a Medicine Called Palbociclib in Combination With Aromatase Inhibitor and Aromatase Inhibitor by Itself.']\n",
      "['sponsor: Pfizer, start year: 2023, nct_id: NCT06003114, title: A Study to Understand the Use of Palbociclib in Canadian Patients With Breast Cancer That Has Spread to Other Organs']\n",
      "['sponsor: Pfizer, start year: 2023, nct_id: NCT05909397, title: A Study of ARV-471 (PF-07850327) Plus Palbociclib Versus Letrozole Plus Palbociclib in Participants With Estrogen Receptor Positive, Human Epidermal Growth Factor Negative Advanced Breast Cancer']\n"
     ]
    }
   ],
   "source": [
    "print(em_df[em_df.text.str.contains(\"NCT06086340\")]['text'].values)\n",
    "print(em_df[em_df.text.str.contains(\"NCT06003114\")]['text'].values)\n",
    "print(em_df[em_df.text.str.contains(\"NCT05909397\")]['text'].values)"
   ]
  },
  {
   "cell_type": "code",
   "execution_count": 37,
   "id": "ff130200-6e7a-4abc-a80d-3633e316e11a",
   "metadata": {},
   "outputs": [
    {
     "name": "stdout",
     "output_type": "stream",
     "text": [
      "['sponsor: Yuhan Corporation, start year: 2022, nct_id: NCT05523947, title: Clinical Trial of YH32367 in Patients With HER2 Positive Locally Advanced or Metastatic Solid Tumor']\n",
      "['sponsor: Accutar Biotechnology Inc, start year: 2022, nct_id: NCT05654532, title: Study of AC699 in Patients With Estrogen Receptor Positive/Human Epidermal Growth Factor Receptor 2 Negative (ER+/HER2-) Locally Advanced or Metastatic Breast Cancer']\n",
      "['sponsor: Kind Pharmaceuticals LLC, start year: 2022, nct_id: NCT05187832, title: A Study of AND019 in Women With ER Positive HER2 Negative Advanced or Metastatic Breast Cancer']\n"
     ]
    }
   ],
   "source": [
    "print(em_df[em_df.text.str.contains(\"NCT05523947\")]['text'].values)\n",
    "print(em_df[em_df.text.str.contains(\"NCT05654532\")]['text'].values)\n",
    "print(em_df[em_df.text.str.contains(\"NCT05187832\")]['text'].values)"
   ]
  },
  {
   "cell_type": "code",
   "execution_count": 38,
   "id": "c751b73b-9184-49a0-8f6b-cafc63f348ac",
   "metadata": {},
   "outputs": [
    {
     "name": "stdout",
     "output_type": "stream",
     "text": [
      "['sponsor: Bristol-Myers Squibb, start year: 2022, nct_id: NCT05599685, title: A Study of Nivolumab, Ipilimumab, and Chemotherapy in Participants With Non-small Cell Lung Cancer']\n",
      "['sponsor: Novartis Pharmaceuticals, start year: 2022, nct_id: NCT05275868, title: Study of MGY825 in Patients With Advanced Non-small Cell Lung Cancer']\n",
      "['sponsor: AstraZeneca, start year: 2022, nct_id: NCT05061550, title: Neoadjuvant and Adjuvant Treatment in Resectable Non-small Cell Lung Cancer']\n"
     ]
    }
   ],
   "source": [
    "print(em_df[em_df.text.str.contains(\"NCT05599685\")]['text'].values)\n",
    "print(em_df[em_df.text.str.contains(\"NCT05275868\")]['text'].values)\n",
    "print(em_df[em_df.text.str.contains(\"NCT05061550\")]['text'].values)"
   ]
  },
  {
   "cell_type": "code",
   "execution_count": null,
   "id": "0af0ef94-0e82-4bc3-ab82-47f562abd4ff",
   "metadata": {},
   "outputs": [],
   "source": []
  }
 ],
 "metadata": {
  "kernelspec": {
   "display_name": "Python 3 (ipykernel)",
   "language": "python",
   "name": "python3"
  },
  "language_info": {
   "codemirror_mode": {
    "name": "ipython",
    "version": 3
   },
   "file_extension": ".py",
   "mimetype": "text/x-python",
   "name": "python",
   "nbconvert_exporter": "python",
   "pygments_lexer": "ipython3",
   "version": "3.10.13"
  }
 },
 "nbformat": 4,
 "nbformat_minor": 5
}
