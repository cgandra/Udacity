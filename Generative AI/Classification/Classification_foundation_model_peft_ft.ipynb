{
 "cells": [
  {
   "cell_type": "code",
   "execution_count": 1,
   "id": "a9f41607-8e58-48ab-bda1-8cf313422018",
   "metadata": {},
   "outputs": [],
   "source": [
    "import os\n",
    "import numpy as np\n",
    "import pandas as pd\n",
    "import matplotlib.pyplot as plt\n",
    "\n",
    "b_accelerator = True\n",
    "if not b_accelerator:\n",
    "    os.environ[\"CUDA_VISIBLE_DEVICES\"]=\"0\"\n",
    "else:\n",
    "    os.environ[\"CUDA_VISIBLE_DEVICES\"]=\"0,1,2,3\"\n",
    "\n",
    "os.environ[\"TOKENIZERS_PARALLELISM\"] = \"false\"\n",
    "    \n",
    "import torch\n",
    "from datasets import load_dataset, Dataset\n",
    "from transformers import BitsAndBytesConfig\n",
    "from transformers import Trainer, TrainingArguments\n",
    "from transformers import AutoTokenizer, AutoModelForSequenceClassification, DataCollatorWithPadding\n",
    "\n",
    "from sklearn.metrics import ConfusionMatrixDisplay, confusion_matrix\n",
    "from sklearn.metrics import accuracy_score, f1_score, classification_report\n",
    "\n",
    "from peft import LoraConfig, TaskType, PeftModel, get_peft_model, prepare_model_for_kbit_training\n",
    "\n",
    "if b_accelerator:\n",
    "    from accelerate import Accelerator\n",
    "    from accelerate.utils import set_seed"
   ]
  },
  {
   "cell_type": "code",
   "execution_count": 2,
   "id": "116f9107-f28c-4982-ba1b-b61e72044559",
   "metadata": {},
   "outputs": [],
   "source": [
    "seed = 3087\n",
    "\n",
    "if b_accelerator:\n",
    "    # Initialize accelerator\n",
    "    accelerator = Accelerator()\n",
    "    device = accelerator.device\n",
    "    # num_proc = accelerator.num_processes\n",
    "    set_seed(seed)\n",
    "else:\n",
    "    np.random.seed(seed)\n",
    "    torch.manual_seed(seed)\n",
    "    torch.cuda.manual_seed_all(seed)\n",
    "    device = torch.device(\"cuda\" if torch.cuda.is_available() else \"cpu\")\n",
    "\n",
    "num_proc = torch.cuda.device_count()\n",
    "\n",
    "# Training Params\n",
    "num_epochs = 16\n",
    "batch_size = 128//num_proc\n",
    "learning_rate = 2e-4*num_proc\n",
    "b_train = True\n",
    "test_metrics = {}\n",
    "model_params = {}"
   ]
  },
  {
   "cell_type": "code",
   "execution_count": 3,
   "id": "4b187158-4475-4d68-b647-8cc8f34df882",
   "metadata": {},
   "outputs": [
    {
     "name": "stderr",
     "output_type": "stream",
     "text": [
      "Some weights of DistilBertForSequenceClassification were not initialized from the model checkpoint at distilbert-base-uncased and are newly initialized: ['classifier.bias', 'classifier.weight', 'pre_classifier.bias', 'pre_classifier.weight']\n",
      "You should probably TRAIN this model on a down-stream task to be able to use it for predictions and inference.\n"
     ]
    },
    {
     "data": {
      "text/plain": [
       "DistilBertForSequenceClassification(\n",
       "  (distilbert): DistilBertModel(\n",
       "    (embeddings): Embeddings(\n",
       "      (word_embeddings): Embedding(30522, 768, padding_idx=0)\n",
       "      (position_embeddings): Embedding(512, 768)\n",
       "      (LayerNorm): LayerNorm((768,), eps=1e-12, elementwise_affine=True)\n",
       "      (dropout): Dropout(p=0.1, inplace=False)\n",
       "    )\n",
       "    (transformer): Transformer(\n",
       "      (layer): ModuleList(\n",
       "        (0-5): 6 x TransformerBlock(\n",
       "          (attention): MultiHeadSelfAttention(\n",
       "            (dropout): Dropout(p=0.1, inplace=False)\n",
       "            (q_lin): Linear(in_features=768, out_features=768, bias=True)\n",
       "            (k_lin): Linear(in_features=768, out_features=768, bias=True)\n",
       "            (v_lin): Linear(in_features=768, out_features=768, bias=True)\n",
       "            (out_lin): Linear(in_features=768, out_features=768, bias=True)\n",
       "          )\n",
       "          (sa_layer_norm): LayerNorm((768,), eps=1e-12, elementwise_affine=True)\n",
       "          (ffn): FFN(\n",
       "            (dropout): Dropout(p=0.1, inplace=False)\n",
       "            (lin1): Linear(in_features=768, out_features=3072, bias=True)\n",
       "            (lin2): Linear(in_features=3072, out_features=768, bias=True)\n",
       "            (activation): GELUActivation()\n",
       "          )\n",
       "          (output_layer_norm): LayerNorm((768,), eps=1e-12, elementwise_affine=True)\n",
       "        )\n",
       "      )\n",
       "    )\n",
       "  )\n",
       "  (pre_classifier): Linear(in_features=768, out_features=768, bias=True)\n",
       "  (classifier): Linear(in_features=768, out_features=2, bias=True)\n",
       "  (dropout): Dropout(p=0.2, inplace=False)\n",
       ")"
      ]
     },
     "execution_count": 3,
     "metadata": {},
     "output_type": "execute_result"
    }
   ],
   "source": [
    "# Load a pretrained HF model\n",
    "\n",
    "model_name = 'distilbert-base-uncased'\n",
    "\n",
    "tokenizer = AutoTokenizer.from_pretrained(model_name)\n",
    "# Padding\n",
    "data_collator = DataCollatorWithPadding(tokenizer=tokenizer)\n",
    "model = AutoModelForSequenceClassification.from_pretrained(model_name).to(device)\n",
    "model"
   ]
  },
  {
   "cell_type": "code",
   "execution_count": 4,
   "id": "14d05a51-9ec6-4dbf-85f1-913f28e0e0fe",
   "metadata": {},
   "outputs": [],
   "source": [
    "def print_trainable_parameters(model):\n",
    "    return sum(p.numel() for p in model.parameters() if p.requires_grad)"
   ]
  },
  {
   "cell_type": "code",
   "execution_count": 5,
   "id": "785b114b-a2f6-4204-9ee0-4e52b3f4f675",
   "metadata": {},
   "outputs": [
    {
     "data": {
      "text/plain": [
       "66955010"
      ]
     },
     "execution_count": 5,
     "metadata": {},
     "output_type": "execute_result"
    }
   ],
   "source": [
    "print_trainable_parameters(model)"
   ]
  },
  {
   "cell_type": "code",
   "execution_count": 6,
   "id": "2d90ca50-9606-4b63-9154-5e264570fc79",
   "metadata": {},
   "outputs": [
    {
     "data": {
      "text/plain": [
       "DatasetDict({\n",
       "    train: Dataset({\n",
       "        features: ['text', 'label'],\n",
       "        num_rows: 23516\n",
       "    })\n",
       "})"
      ]
     },
     "execution_count": 6,
     "metadata": {},
     "output_type": "execute_result"
    }
   ],
   "source": [
    "# Load and preprocess a dataset\n",
    "\n",
    "data_name = 'ade_corpus_v2'\n",
    "dataset_ade = load_dataset(data_name, 'Ade_corpus_v2_classification')\n",
    "dataset_ade"
   ]
  },
  {
   "cell_type": "code",
   "execution_count": 7,
   "id": "a7c5c2d5-eb77-4dd5-84d9-80d453437d36",
   "metadata": {},
   "outputs": [
    {
     "data": {
      "text/html": [
       "<div>\n",
       "<style scoped>\n",
       "    .dataframe tbody tr th:only-of-type {\n",
       "        vertical-align: middle;\n",
       "    }\n",
       "\n",
       "    .dataframe tbody tr th {\n",
       "        vertical-align: top;\n",
       "    }\n",
       "\n",
       "    .dataframe thead th {\n",
       "        text-align: right;\n",
       "    }\n",
       "</style>\n",
       "<table border=\"1\" class=\"dataframe\">\n",
       "  <thead>\n",
       "    <tr style=\"text-align: right;\">\n",
       "      <th></th>\n",
       "      <th>text</th>\n",
       "      <th>label</th>\n",
       "    </tr>\n",
       "  </thead>\n",
       "  <tbody>\n",
       "    <tr>\n",
       "      <th>0</th>\n",
       "      <td>Intravenous azithromycin-induced ototoxicity.</td>\n",
       "      <td>1</td>\n",
       "    </tr>\n",
       "    <tr>\n",
       "      <th>1</th>\n",
       "      <td>Immobilization, while Paget's bone disease was...</td>\n",
       "      <td>1</td>\n",
       "    </tr>\n",
       "    <tr>\n",
       "      <th>2</th>\n",
       "      <td>Unaccountable severe hypercalcemia in a patien...</td>\n",
       "      <td>1</td>\n",
       "    </tr>\n",
       "    <tr>\n",
       "      <th>3</th>\n",
       "      <td>METHODS: We report two cases of pseudoporphyri...</td>\n",
       "      <td>1</td>\n",
       "    </tr>\n",
       "    <tr>\n",
       "      <th>4</th>\n",
       "      <td>METHODS: We report two cases of pseudoporphyri...</td>\n",
       "      <td>1</td>\n",
       "    </tr>\n",
       "    <tr>\n",
       "      <th>...</th>\n",
       "      <td>...</td>\n",
       "      <td>...</td>\n",
       "    </tr>\n",
       "    <tr>\n",
       "      <th>23511</th>\n",
       "      <td>At autopsy, the liver was found to be small, s...</td>\n",
       "      <td>0</td>\n",
       "    </tr>\n",
       "    <tr>\n",
       "      <th>23512</th>\n",
       "      <td>Physical exam revealed a patient with aphasia,...</td>\n",
       "      <td>0</td>\n",
       "    </tr>\n",
       "    <tr>\n",
       "      <th>23513</th>\n",
       "      <td>At the time when the leukemia appeared seven o...</td>\n",
       "      <td>0</td>\n",
       "    </tr>\n",
       "    <tr>\n",
       "      <th>23514</th>\n",
       "      <td>The American Society for Regional Anesthesia a...</td>\n",
       "      <td>0</td>\n",
       "    </tr>\n",
       "    <tr>\n",
       "      <th>23515</th>\n",
       "      <td>Concomitant administration of estradiol result...</td>\n",
       "      <td>0</td>\n",
       "    </tr>\n",
       "  </tbody>\n",
       "</table>\n",
       "<p>23516 rows × 2 columns</p>\n",
       "</div>"
      ],
      "text/plain": [
       "                                                    text  label\n",
       "0          Intravenous azithromycin-induced ototoxicity.      1\n",
       "1      Immobilization, while Paget's bone disease was...      1\n",
       "2      Unaccountable severe hypercalcemia in a patien...      1\n",
       "3      METHODS: We report two cases of pseudoporphyri...      1\n",
       "4      METHODS: We report two cases of pseudoporphyri...      1\n",
       "...                                                  ...    ...\n",
       "23511  At autopsy, the liver was found to be small, s...      0\n",
       "23512  Physical exam revealed a patient with aphasia,...      0\n",
       "23513  At the time when the leukemia appeared seven o...      0\n",
       "23514  The American Society for Regional Anesthesia a...      0\n",
       "23515  Concomitant administration of estradiol result...      0\n",
       "\n",
       "[23516 rows x 2 columns]"
      ]
     },
     "execution_count": 7,
     "metadata": {},
     "output_type": "execute_result"
    }
   ],
   "source": [
    "train_df = pd.DataFrame(dataset_ade[\"train\"])\n",
    "train_df"
   ]
  },
  {
   "cell_type": "code",
   "execution_count": 8,
   "id": "82983a13-4690-4c53-92a4-cd1d54ed2f18",
   "metadata": {},
   "outputs": [
    {
     "name": "stdout",
     "output_type": "stream",
     "text": [
      "<class 'pandas.core.frame.DataFrame'>\n",
      "RangeIndex: 23516 entries, 0 to 23515\n",
      "Data columns (total 2 columns):\n",
      " #   Column  Non-Null Count  Dtype \n",
      "---  ------  --------------  ----- \n",
      " 0   text    23516 non-null  object\n",
      " 1   label   23516 non-null  int64 \n",
      "dtypes: int64(1), object(1)\n",
      "memory usage: 367.6+ KB\n"
     ]
    }
   ],
   "source": [
    "# Check for missing data etc\n",
    "train_df.info()"
   ]
  },
  {
   "cell_type": "code",
   "execution_count": 9,
   "id": "18031118-ed44-45a8-9feb-ba6e783845c8",
   "metadata": {},
   "outputs": [
    {
     "name": "stdout",
     "output_type": "stream",
     "text": [
      "<class 'pandas.core.frame.DataFrame'>\n",
      "RangeIndex: 23516 entries, 0 to 23515\n",
      "Data columns (total 2 columns):\n",
      " #   Column  Non-Null Count  Dtype \n",
      "---  ------  --------------  ----- \n",
      " 0   text    23516 non-null  object\n",
      " 1   label   23516 non-null  int64 \n",
      "dtypes: int64(1), object(1)\n",
      "memory usage: 367.6+ KB\n"
     ]
    }
   ],
   "source": [
    "# Check for duplicates and drop\n",
    "\n",
    "if train_df.duplicated().sum():\n",
    "    train_df.drop_duplicates()\n",
    "\n",
    "train_df.info()"
   ]
  },
  {
   "cell_type": "code",
   "execution_count": 10,
   "id": "060c71a2-74ff-469e-925c-9159f596e890",
   "metadata": {},
   "outputs": [],
   "source": [
    "# split data into train/val/test\n",
    "\n",
    "num_train = int(0.8*len(train_df))\n",
    "num_val = int(0.1*len(train_df))\n",
    "\n",
    "train_df, val_test_df = np.split(train_df.sample(frac=1, random_state=seed), [num_train])\n",
    "val_df, _ = np.split(val_test_df.sample(frac=1, random_state=seed), [num_val])"
   ]
  },
  {
   "cell_type": "code",
   "execution_count": 11,
   "id": "c6adfbed-87ef-4fd0-9796-aa8ef8eb5635",
   "metadata": {},
   "outputs": [],
   "source": [
    "ds = {}\n",
    "ds['train'] = Dataset.from_pandas(train_df)\n",
    "ds['val'] = Dataset.from_pandas(val_df)\n",
    "ds['val_test'] = Dataset.from_pandas(val_test_df)\n",
    "\n"
   ]
  },
  {
   "cell_type": "code",
   "execution_count": 12,
   "id": "88714c95-6ef2-4560-ad33-376617875d18",
   "metadata": {},
   "outputs": [
    {
     "data": {
      "application/vnd.jupyter.widget-view+json": {
       "model_id": "04116681807640efb5506cd581949323",
       "version_major": 2,
       "version_minor": 0
      },
      "text/plain": [
       "Map:   0%|          | 0/18812 [00:00<?, ? examples/s]"
      ]
     },
     "metadata": {},
     "output_type": "display_data"
    },
    {
     "data": {
      "application/vnd.jupyter.widget-view+json": {
       "model_id": "43c3f1c90ac34073b2eb62130132c56a",
       "version_major": 2,
       "version_minor": 0
      },
      "text/plain": [
       "Map:   0%|          | 0/2351 [00:00<?, ? examples/s]"
      ]
     },
     "metadata": {},
     "output_type": "display_data"
    },
    {
     "data": {
      "application/vnd.jupyter.widget-view+json": {
       "model_id": "6879da7bcc7940189c31664fc8422b7e",
       "version_major": 2,
       "version_minor": 0
      },
      "text/plain": [
       "Map:   0%|          | 0/4704 [00:00<?, ? examples/s]"
      ]
     },
     "metadata": {},
     "output_type": "display_data"
    }
   ],
   "source": [
    "def preprocess_function(data, tokenizer):\n",
    "    \"\"\"Preprocess the dataset by returning tokenized data\"\"\"\n",
    "    return tokenizer(data['text'], truncation=True, max_length=0)\n",
    "\n",
    "tokenized_ds = {}\n",
    "for split in ds.keys():\n",
    "    tokenized_ds[split] = ds[split].map(preprocess_function, \n",
    "                                        batched=True, \n",
    "                                        remove_columns=['__index_level_0__', 'text'], \n",
    "                                        fn_kwargs={\"tokenizer\": tokenizer})"
   ]
  },
  {
   "cell_type": "code",
   "execution_count": 13,
   "id": "8af2052a-3452-4200-8054-34241c9643bf",
   "metadata": {},
   "outputs": [
    {
     "data": {
      "text/plain": [
       "['label', 'input_ids', 'attention_mask']"
      ]
     },
     "execution_count": 13,
     "metadata": {},
     "output_type": "execute_result"
    }
   ],
   "source": [
    "tokenized_ds['train'].column_names"
   ]
  },
  {
   "cell_type": "code",
   "execution_count": 14,
   "id": "b4bcde0f-fffc-420e-b61d-7c0e78a7223c",
   "metadata": {},
   "outputs": [],
   "source": [
    "def compute_metrics(pred):\n",
    "    labels = pred.label_ids\n",
    "    preds = pred.predictions.argmax(-1)\n",
    "    f1 = f1_score(labels, preds, average=\"weighted\")\n",
    "    acc = accuracy_score(labels, preds)\n",
    "    return {\"accuracy\": acc, \"f1\": f1}"
   ]
  },
  {
   "cell_type": "code",
   "execution_count": 15,
   "id": "73b0d64e-ebcb-4307-97e3-3a80aaeeb930",
   "metadata": {},
   "outputs": [
    {
     "data": {
      "text/plain": [
       "TrainingArguments(\n",
       "_n_gpu=4,\n",
       "adafactor=False,\n",
       "adam_beta1=0.9,\n",
       "adam_beta2=0.999,\n",
       "adam_epsilon=1e-08,\n",
       "auto_find_batch_size=False,\n",
       "bf16=False,\n",
       "bf16_full_eval=False,\n",
       "data_seed=None,\n",
       "dataloader_drop_last=False,\n",
       "dataloader_num_workers=4,\n",
       "dataloader_persistent_workers=False,\n",
       "dataloader_pin_memory=True,\n",
       "ddp_backend=None,\n",
       "ddp_broadcast_buffers=None,\n",
       "ddp_bucket_cap_mb=None,\n",
       "ddp_find_unused_parameters=None,\n",
       "ddp_timeout=1800,\n",
       "debug=[],\n",
       "deepspeed=None,\n",
       "disable_tqdm=False,\n",
       "dispatch_batches=None,\n",
       "do_eval=True,\n",
       "do_predict=False,\n",
       "do_train=False,\n",
       "eval_accumulation_steps=None,\n",
       "eval_delay=0,\n",
       "eval_steps=None,\n",
       "evaluation_strategy=epoch,\n",
       "fp16=False,\n",
       "fp16_backend=auto,\n",
       "fp16_full_eval=False,\n",
       "fp16_opt_level=O1,\n",
       "fsdp=[],\n",
       "fsdp_config={'min_num_params': 0, 'xla': False, 'xla_fsdp_grad_ckpt': False},\n",
       "fsdp_min_num_params=0,\n",
       "fsdp_transformer_layer_cls_to_wrap=None,\n",
       "full_determinism=False,\n",
       "gradient_accumulation_steps=1,\n",
       "gradient_checkpointing=False,\n",
       "gradient_checkpointing_kwargs=None,\n",
       "greater_is_better=False,\n",
       "group_by_length=False,\n",
       "half_precision_backend=auto,\n",
       "hub_always_push=False,\n",
       "hub_model_id=None,\n",
       "hub_private_repo=False,\n",
       "hub_strategy=every_save,\n",
       "hub_token=<HUB_TOKEN>,\n",
       "ignore_data_skip=False,\n",
       "include_inputs_for_metrics=False,\n",
       "include_num_input_tokens_seen=False,\n",
       "include_tokens_per_second=False,\n",
       "jit_mode_eval=False,\n",
       "label_names=None,\n",
       "label_smoothing_factor=0.0,\n",
       "learning_rate=0.0008,\n",
       "length_column_name=length,\n",
       "load_best_model_at_end=True,\n",
       "local_rank=0,\n",
       "log_level=error,\n",
       "log_level_replica=warning,\n",
       "log_on_each_node=True,\n",
       "logging_dir=tmp,\n",
       "logging_first_step=False,\n",
       "logging_nan_inf_filter=True,\n",
       "logging_steps=1,\n",
       "logging_strategy=steps,\n",
       "lr_scheduler_kwargs={},\n",
       "lr_scheduler_type=linear,\n",
       "max_grad_norm=1.0,\n",
       "max_steps=-1,\n",
       "metric_for_best_model=loss,\n",
       "mp_parameters=,\n",
       "neftune_noise_alpha=None,\n",
       "no_cuda=False,\n",
       "num_train_epochs=16,\n",
       "optim=adamw_torch,\n",
       "optim_args=None,\n",
       "output_dir=tmp,\n",
       "overwrite_output_dir=True,\n",
       "past_index=-1,\n",
       "per_device_eval_batch_size=32,\n",
       "per_device_train_batch_size=32,\n",
       "prediction_loss_only=False,\n",
       "push_to_hub=False,\n",
       "push_to_hub_model_id=None,\n",
       "push_to_hub_organization=None,\n",
       "push_to_hub_token=<PUSH_TO_HUB_TOKEN>,\n",
       "ray_scope=last,\n",
       "remove_unused_columns=True,\n",
       "report_to=[],\n",
       "resume_from_checkpoint=None,\n",
       "run_name=tmp,\n",
       "save_on_each_node=False,\n",
       "save_only_model=False,\n",
       "save_safetensors=True,\n",
       "save_steps=500,\n",
       "save_strategy=epoch,\n",
       "save_total_limit=None,\n",
       "seed=42,\n",
       "skip_memory_metrics=True,\n",
       "split_batches=False,\n",
       "tf32=None,\n",
       "torch_compile=False,\n",
       "torch_compile_backend=None,\n",
       "torch_compile_mode=None,\n",
       "torchdynamo=None,\n",
       "tpu_metrics_debug=False,\n",
       "tpu_num_cores=None,\n",
       "use_cpu=False,\n",
       "use_ipex=False,\n",
       "use_legacy_prediction_loop=False,\n",
       "use_mps_device=False,\n",
       "warmup_ratio=0.0,\n",
       "warmup_steps=0,\n",
       "weight_decay=0.01,\n",
       ")"
      ]
     },
     "execution_count": 15,
     "metadata": {},
     "output_type": "execute_result"
    }
   ],
   "source": [
    "# Training\n",
    "\n",
    "training_args = TrainingArguments(\n",
    "    output_dir='tmp',\n",
    "    num_train_epochs=num_epochs,\n",
    "    learning_rate=learning_rate,\n",
    "    per_device_train_batch_size=batch_size,\n",
    "    per_device_eval_batch_size=batch_size,\n",
    "    weight_decay=0.01,\n",
    "    logging_dir='tmp',\n",
    "    logging_steps=1,\n",
    "    evaluation_strategy=\"epoch\",\n",
    "    save_strategy=\"epoch\",\n",
    "    log_level=\"error\",\n",
    "    report_to=\"none\",\n",
    "    dataloader_num_workers=num_proc,\n",
    "    load_best_model_at_end=True,\n",
    "    overwrite_output_dir=True,\n",
    ")\n",
    "\n",
    "training_args"
   ]
  },
  {
   "cell_type": "code",
   "execution_count": 16,
   "id": "a62d8329-f07f-4576-a99b-433e3bc995a3",
   "metadata": {},
   "outputs": [],
   "source": [
    "trainer = Trainer(\n",
    "    model=model,\n",
    "    args=training_args,\n",
    "    train_dataset=tokenized_ds['train'],\n",
    "    eval_dataset=tokenized_ds['val'],\n",
    "    tokenizer=tokenizer,\n",
    "    data_collator=data_collator,\n",
    "    compute_metrics=compute_metrics\n",
    ")"
   ]
  },
  {
   "cell_type": "code",
   "execution_count": 17,
   "id": "3d0b5b81-c18d-4c34-89da-ee6526b7fdc0",
   "metadata": {},
   "outputs": [],
   "source": [
    "# Code from https://github.com/huggingface/peft/blob/v0.9.0/src/peft/peft_model.py#L492\n",
    "def get_nb_trainable_parameters(model) -> tuple[int, int]:\n",
    "    r\"\"\"\n",
    "    Returns the number of trainable parameters and the number of all parameters in the model.\n",
    "    \"\"\"\n",
    "    trainable_params = 0\n",
    "    all_param = 0\n",
    "    for _, param in model.named_parameters():\n",
    "        num_params = param.numel()\n",
    "        # if using DS Zero 3 and the weights are initialized empty\n",
    "        if num_params == 0 and hasattr(param, \"ds_numel\"):\n",
    "            num_params = param.ds_numel\n",
    "\n",
    "        # Due to the design of 4bit linear layers from bitsandbytes\n",
    "        # one needs to multiply the number of parameters by 2 to get\n",
    "        # the correct number of parameters\n",
    "        if param.__class__.__name__ == \"Params4bit\":\n",
    "            num_params = num_params * 2\n",
    "\n",
    "        all_param += num_params\n",
    "        if param.requires_grad:\n",
    "            trainable_params += num_params\n",
    "\n",
    "    return trainable_params, all_param"
   ]
  },
  {
   "cell_type": "code",
   "execution_count": 18,
   "id": "816fe352-3fd6-44eb-b3f9-021f5e0b12f6",
   "metadata": {},
   "outputs": [],
   "source": [
    "trainable_params, all_param = get_nb_trainable_parameters(model)\n",
    "model_params['pretrain'] = [trainable_params, all_param]"
   ]
  },
  {
   "cell_type": "code",
   "execution_count": 19,
   "id": "e51ef2b0-5470-4d0e-b9c0-576580db2eac",
   "metadata": {},
   "outputs": [],
   "source": [
    "def plot_confusion_matrix(y_pred_list, y_true_list, labels):\n",
    "    no_plots = len(y_pred_list)\n",
    "    _, ax = plt.subplots(1, no_plots, figsize=(6*no_plots, 6))\n",
    "\n",
    "    if no_plots == 1:\n",
    "        ax = [ax]\n",
    "    \n",
    "    for i in range(no_plots):\n",
    "        cm = confusion_matrix(y_pred_list[i], y_true_list[i], normalize=\"true\")\n",
    "        disp = ConfusionMatrixDisplay(confusion_matrix=cm, display_labels=labels)\n",
    "        disp.plot(cmap=\"Blues\", values_format=\".2f\", ax=ax[i], colorbar=False)\n",
    "        plt.title(\"Normalized confusion matrix\")\n",
    "        \n",
    "    plt.show()"
   ]
  },
  {
   "cell_type": "code",
   "execution_count": 20,
   "id": "ef479dfb-4234-457f-b6a0-9eab3bcf2556",
   "metadata": {},
   "outputs": [],
   "source": [
    "#labels = ds[\"train\"].features[\"label\"].names\n",
    "labels = [\"NO_ADE\", \"ADE\"]"
   ]
  },
  {
   "cell_type": "code",
   "execution_count": 21,
   "id": "abf5eb88-4188-4a6d-a3e9-158b531825dd",
   "metadata": {},
   "outputs": [
    {
     "name": "stderr",
     "output_type": "stream",
     "text": [
      "/usr/lib/python3/dist-packages/torch/nn/parallel/_functions.py:68: UserWarning: Was asked to gather along dimension 0, but all input tensors were scalars; will instead unsqueeze and return a vector.\n",
      "  warnings.warn('Was asked to gather along dimension 0, but all '\n"
     ]
    },
    {
     "data": {
      "text/html": [],
      "text/plain": [
       "<IPython.core.display.HTML object>"
      ]
     },
     "metadata": {},
     "output_type": "display_data"
    },
    {
     "data": {
      "text/plain": [
       "{'test_loss': 0.6974156498908997,\n",
       " 'test_accuracy': 0.4085884353741497,\n",
       " 'test_f1': 0.4257540292163559,\n",
       " 'test_runtime': 5.0158,\n",
       " 'test_samples_per_second': 937.835,\n",
       " 'test_steps_per_second': 7.377}"
      ]
     },
     "execution_count": 21,
     "metadata": {},
     "output_type": "execute_result"
    }
   ],
   "source": [
    "# Evaluate the fine-tuned model\n",
    "\n",
    "preds_val_test = trainer.predict(tokenized_ds[\"val_test\"])\n",
    "test_metrics['pretrain'] = preds_val_test.metrics\n",
    "\n",
    "preds_val_test.metrics"
   ]
  },
  {
   "cell_type": "code",
   "execution_count": 22,
   "id": "72dbcead-a808-4422-a3f9-80547ae009c6",
   "metadata": {},
   "outputs": [
    {
     "data": {
      "image/png": "[encoded data removed]",
      "text/plain": [
       "<Figure size 432x432 with 1 Axes>"
      ]
     },
     "metadata": {
      "needs_background": "light"
     },
     "output_type": "display_data"
    }
   ],
   "source": [
    "preds_val_test = np.argmax(preds_val_test.predictions, axis=1)\n",
    "\n",
    "plot_confusion_matrix([preds_val_test], [ds['val_test']['label']], labels)"
   ]
  },
  {
   "cell_type": "code",
   "execution_count": 23,
   "id": "0f0cb6a5-8472-4980-a7e2-023a4707670f",
   "metadata": {},
   "outputs": [
    {
     "name": "stdout",
     "output_type": "stream",
     "text": [
      "              precision    recall  f1-score   support\n",
      "\n",
      "           0       0.66      0.35      0.46      3343\n",
      "           1       0.26      0.56      0.35      1361\n",
      "\n",
      "    accuracy                           0.41      4704\n",
      "   macro avg       0.46      0.45      0.40      4704\n",
      "weighted avg       0.54      0.41      0.43      4704\n",
      "\n"
     ]
    }
   ],
   "source": [
    "report_val_test = classification_report(ds['val_test']['label'], preds_val_test)\n",
    "print(report_val_test)"
   ]
  },
  {
   "cell_type": "code",
   "execution_count": 24,
   "id": "605bbf84-e138-417a-ad98-8ba234509249",
   "metadata": {},
   "outputs": [],
   "source": [
    "def train_eval_setup(model_name, tokenized_ds, device, training_args, out_dir, log_dir, lora_config=None, quant_config=None):\n",
    "\n",
    "    id2label={0: \"NO_ADE\", 1: \"ADE\"}  # For converting predictions to strings\n",
    "    label2id={\"NO_ADE\": 0, \"ADE\": 1}\n",
    "\n",
    "    tokenizer =  AutoTokenizer.from_pretrained(model_name)\n",
    "    data_collator = DataCollatorWithPadding(tokenizer=tokenizer)\n",
    "    model = AutoModelForSequenceClassification.from_pretrained(\n",
    "        model_name,\n",
    "        num_labels=2,\n",
    "        quantization_config=quant_config, \n",
    "        id2label=id2label,\n",
    "        label2id=label2id\n",
    "    )\n",
    "\n",
    "    if quant_config is not None:\n",
    "        model = prepare_model_for_kbit_training(model, use_gradient_checkpointing=False)\n",
    "    else:\n",
    "        model = model.to(device)\n",
    "    \n",
    "    if lora_config is not None:\n",
    "        model = get_peft_model(model, lora_config)\n",
    "    else:\n",
    "        model = PeftModel.from_pretrained(model, model_name, is_trainable=True)\n",
    "        \n",
    "    trainable_params, all_param = get_nb_trainable_parameters(model)\n",
    "\n",
    "    training_args.output_dir = out_dir\n",
    "    training_args.logging_dir = log_dir\n",
    "    trainer = Trainer(\n",
    "        model=model,\n",
    "        args=training_args,\n",
    "        train_dataset=tokenized_ds['train'],\n",
    "        eval_dataset=tokenized_ds['val'],\n",
    "        tokenizer=tokenizer,\n",
    "        data_collator=data_collator,\n",
    "        compute_metrics=compute_metrics\n",
    "    )\n",
    "\n",
    "    return trainer, trainable_params, all_param"
   ]
  },
  {
   "cell_type": "code",
   "execution_count": 25,
   "id": "62e2b76e-7a40-4bef-ad32-eb79f1ce034f",
   "metadata": {},
   "outputs": [],
   "source": [
    "def plot_train_log_history(log_history, num_epochs, batch_step):\n",
    "    history = {\"loss\" : [], \"val_loss\" : [], \"val_accuracy\" : [], \"val_f1\" : []}\n",
    "\n",
    "    for hist in log_history:\n",
    "        if len(history['val_loss']) == num_epochs:\n",
    "            break\n",
    "        if hist['step']%batch_step == 0:\n",
    "            if 'loss' in hist.keys():\n",
    "                history['loss'].append(hist['loss'])\n",
    "            if 'eval_loss' in hist.keys():\n",
    "                history['val_loss'].append(hist['eval_loss'])\n",
    "            if 'eval_accuracy' in hist.keys():\n",
    "                history['val_accuracy'].append(hist['eval_accuracy'])\n",
    "            if 'eval_f1' in hist.keys():\n",
    "                history['val_f1'].append(hist['eval_f1']) \n",
    "\n",
    "    plt.figure(figsize=(18, 6))\n",
    "    plt.subplot(1, 2, 1)\n",
    "    plt.plot(range(num_epochs), history['loss'], label=\"Train Loss\")\n",
    "    plt.plot(range(num_epochs), history['val_loss'], label=\"Val Loss\")\n",
    "    plt.xlabel(\"Epoch\")\n",
    "    plt.ylabel(\"Loss\")\n",
    "    plt.legend()\n",
    "    \n",
    "    plt.subplot(1, 2, 2)\n",
    "    plt.plot(range(num_epochs), history['val_accuracy'], label=\"Val Accuracy\")\n",
    "    plt.plot(range(num_epochs), history['val_f1'], label=\"Val F1\")\n",
    "    plt.xlabel(\"Epoch\")\n",
    "    plt.ylabel(\"Accuracy, F1\")\n",
    "    plt.legend()\n",
    "    \n",
    "    plt.show()"
   ]
  },
  {
   "cell_type": "code",
   "execution_count": 26,
   "id": "6d86b11f-80cb-4ac4-b57f-ab38035ba74e",
   "metadata": {},
   "outputs": [],
   "source": [
    "# Create a PEFT model\n",
    "\n",
    "# format of cfg_name is targetmodules_rank_scale\n",
    "cfg_name = \"q_r1_s1\"\n",
    "out_dir = os.path.join('submission', cfg_name)\n",
    "log_dir = os.path.join(out_dir, 'logs')\n",
    "\n",
    "if b_train:\n",
    "    # Lora config with rank 1, scale 1 (scale = lora_alpha/r)\n",
    "    lora_config = LoraConfig(\n",
    "        task_type=TaskType.SEQ_CLS, r=1, target_modules=[\"q_lin\"], bias=\"none\", lora_alpha=1, lora_dropout=0.2\n",
    "    )\n",
    "   \n",
    "    trainer, _, _ = train_eval_setup(model_name, tokenized_ds, device, training_args, out_dir, log_dir, lora_config=lora_config)"
   ]
  },
  {
   "cell_type": "code",
   "execution_count": 27,
   "id": "2a88e969-cd76-4124-9db7-d404faed3c8f",
   "metadata": {},
   "outputs": [
    {
     "name": "stderr",
     "output_type": "stream",
     "text": [
      "/usr/lib/python3/dist-packages/torch/nn/parallel/_functions.py:68: UserWarning: Was asked to gather along dimension 0, but all input tensors were scalars; will instead unsqueeze and return a vector.\n",
      "  warnings.warn('Was asked to gather along dimension 0, but all '\n"
     ]
    },
    {
     "data": {
      "text/html": [
       "\n",
       "    <div>\n",
       "      \n",
       "      <progress value='2352' max='2352' style='width:300px; height:20px; vertical-align: middle;'></progress>\n",
       "      [2352/2352 03:47, Epoch 16/16]\n",
       "    </div>\n",
       "    <table border=\"1\" class=\"dataframe\">\n",
       "  <thead>\n",
       " <tr style=\"text-align: left;\">\n",
       "      <th>Epoch</th>\n",
       "      <th>Training Loss</th>\n",
       "      <th>Validation Loss</th>\n",
       "      <th>Accuracy</th>\n",
       "      <th>F1</th>\n",
       "    </tr>\n",
       "  </thead>\n",
       "  <tbody>\n",
       "    <tr>\n",
       "      <td>1</td>\n",
       "      <td>0.337500</td>\n",
       "      <td>0.259003</td>\n",
       "      <td>0.894513</td>\n",
       "      <td>0.892976</td>\n",
       "    </tr>\n",
       "    <tr>\n",
       "      <td>2</td>\n",
       "      <td>0.186700</td>\n",
       "      <td>0.216911</td>\n",
       "      <td>0.909826</td>\n",
       "      <td>0.909361</td>\n",
       "    </tr>\n",
       "    <tr>\n",
       "      <td>3</td>\n",
       "      <td>0.193300</td>\n",
       "      <td>0.211955</td>\n",
       "      <td>0.909826</td>\n",
       "      <td>0.911213</td>\n",
       "    </tr>\n",
       "    <tr>\n",
       "      <td>4</td>\n",
       "      <td>0.178400</td>\n",
       "      <td>0.192499</td>\n",
       "      <td>0.925138</td>\n",
       "      <td>0.924339</td>\n",
       "    </tr>\n",
       "    <tr>\n",
       "      <td>5</td>\n",
       "      <td>0.153500</td>\n",
       "      <td>0.180674</td>\n",
       "      <td>0.921310</td>\n",
       "      <td>0.921734</td>\n",
       "    </tr>\n",
       "    <tr>\n",
       "      <td>6</td>\n",
       "      <td>0.139800</td>\n",
       "      <td>0.179411</td>\n",
       "      <td>0.925989</td>\n",
       "      <td>0.925801</td>\n",
       "    </tr>\n",
       "    <tr>\n",
       "      <td>7</td>\n",
       "      <td>0.202500</td>\n",
       "      <td>0.173197</td>\n",
       "      <td>0.931944</td>\n",
       "      <td>0.931801</td>\n",
       "    </tr>\n",
       "    <tr>\n",
       "      <td>8</td>\n",
       "      <td>0.202100</td>\n",
       "      <td>0.175705</td>\n",
       "      <td>0.927265</td>\n",
       "      <td>0.927486</td>\n",
       "    </tr>\n",
       "    <tr>\n",
       "      <td>9</td>\n",
       "      <td>0.153800</td>\n",
       "      <td>0.174341</td>\n",
       "      <td>0.932795</td>\n",
       "      <td>0.932986</td>\n",
       "    </tr>\n",
       "    <tr>\n",
       "      <td>10</td>\n",
       "      <td>0.155000</td>\n",
       "      <td>0.169114</td>\n",
       "      <td>0.930668</td>\n",
       "      <td>0.930624</td>\n",
       "    </tr>\n",
       "    <tr>\n",
       "      <td>11</td>\n",
       "      <td>0.114400</td>\n",
       "      <td>0.172336</td>\n",
       "      <td>0.926414</td>\n",
       "      <td>0.927137</td>\n",
       "    </tr>\n",
       "    <tr>\n",
       "      <td>12</td>\n",
       "      <td>0.080100</td>\n",
       "      <td>0.166443</td>\n",
       "      <td>0.934071</td>\n",
       "      <td>0.934029</td>\n",
       "    </tr>\n",
       "    <tr>\n",
       "      <td>13</td>\n",
       "      <td>0.131200</td>\n",
       "      <td>0.168949</td>\n",
       "      <td>0.934496</td>\n",
       "      <td>0.935009</td>\n",
       "    </tr>\n",
       "    <tr>\n",
       "      <td>14</td>\n",
       "      <td>0.172700</td>\n",
       "      <td>0.169357</td>\n",
       "      <td>0.933220</td>\n",
       "      <td>0.933554</td>\n",
       "    </tr>\n",
       "    <tr>\n",
       "      <td>15</td>\n",
       "      <td>0.085000</td>\n",
       "      <td>0.166432</td>\n",
       "      <td>0.935347</td>\n",
       "      <td>0.935479</td>\n",
       "    </tr>\n",
       "    <tr>\n",
       "      <td>16</td>\n",
       "      <td>0.183700</td>\n",
       "      <td>0.165993</td>\n",
       "      <td>0.937473</td>\n",
       "      <td>0.937713</td>\n",
       "    </tr>\n",
       "  </tbody>\n",
       "</table><p>"
      ],
      "text/plain": [
       "<IPython.core.display.HTML object>"
      ]
     },
     "metadata": {},
     "output_type": "display_data"
    },
    {
     "name": "stderr",
     "output_type": "stream",
     "text": [
      "/usr/lib/python3/dist-packages/torch/nn/parallel/_functions.py:68: UserWarning: Was asked to gather along dimension 0, but all input tensors were scalars; will instead unsqueeze and return a vector.\n",
      "  warnings.warn('Was asked to gather along dimension 0, but all '\n",
      "/usr/lib/python3/dist-packages/torch/nn/parallel/_functions.py:68: UserWarning: Was asked to gather along dimension 0, but all input tensors were scalars; will instead unsqueeze and return a vector.\n",
      "  warnings.warn('Was asked to gather along dimension 0, but all '\n",
      "/usr/lib/python3/dist-packages/torch/nn/parallel/_functions.py:68: UserWarning: Was asked to gather along dimension 0, but all input tensors were scalars; will instead unsqueeze and return a vector.\n",
      "  warnings.warn('Was asked to gather along dimension 0, but all '\n",
      "/usr/lib/python3/dist-packages/torch/nn/parallel/_functions.py:68: UserWarning: Was asked to gather along dimension 0, but all input tensors were scalars; will instead unsqueeze and return a vector.\n",
      "  warnings.warn('Was asked to gather along dimension 0, but all '\n",
      "/usr/lib/python3/dist-packages/torch/nn/parallel/_functions.py:68: UserWarning: Was asked to gather along dimension 0, but all input tensors were scalars; will instead unsqueeze and return a vector.\n",
      "  warnings.warn('Was asked to gather along dimension 0, but all '\n",
      "/usr/lib/python3/dist-packages/torch/nn/parallel/_functions.py:68: UserWarning: Was asked to gather along dimension 0, but all input tensors were scalars; will instead unsqueeze and return a vector.\n",
      "  warnings.warn('Was asked to gather along dimension 0, but all '\n",
      "/usr/lib/python3/dist-packages/torch/nn/parallel/_functions.py:68: UserWarning: Was asked to gather along dimension 0, but all input tensors were scalars; will instead unsqueeze and return a vector.\n",
      "  warnings.warn('Was asked to gather along dimension 0, but all '\n",
      "/usr/lib/python3/dist-packages/torch/nn/parallel/_functions.py:68: UserWarning: Was asked to gather along dimension 0, but all input tensors were scalars; will instead unsqueeze and return a vector.\n",
      "  warnings.warn('Was asked to gather along dimension 0, but all '\n",
      "/usr/lib/python3/dist-packages/torch/nn/parallel/_functions.py:68: UserWarning: Was asked to gather along dimension 0, but all input tensors were scalars; will instead unsqueeze and return a vector.\n",
      "  warnings.warn('Was asked to gather along dimension 0, but all '\n",
      "/usr/lib/python3/dist-packages/torch/nn/parallel/_functions.py:68: UserWarning: Was asked to gather along dimension 0, but all input tensors were scalars; will instead unsqueeze and return a vector.\n",
      "  warnings.warn('Was asked to gather along dimension 0, but all '\n",
      "/usr/lib/python3/dist-packages/torch/nn/parallel/_functions.py:68: UserWarning: Was asked to gather along dimension 0, but all input tensors were scalars; will instead unsqueeze and return a vector.\n",
      "  warnings.warn('Was asked to gather along dimension 0, but all '\n",
      "/usr/lib/python3/dist-packages/torch/nn/parallel/_functions.py:68: UserWarning: Was asked to gather along dimension 0, but all input tensors were scalars; will instead unsqueeze and return a vector.\n",
      "  warnings.warn('Was asked to gather along dimension 0, but all '\n",
      "/usr/lib/python3/dist-packages/torch/nn/parallel/_functions.py:68: UserWarning: Was asked to gather along dimension 0, but all input tensors were scalars; will instead unsqueeze and return a vector.\n",
      "  warnings.warn('Was asked to gather along dimension 0, but all '\n",
      "/usr/lib/python3/dist-packages/torch/nn/parallel/_functions.py:68: UserWarning: Was asked to gather along dimension 0, but all input tensors were scalars; will instead unsqueeze and return a vector.\n",
      "  warnings.warn('Was asked to gather along dimension 0, but all '\n",
      "/usr/lib/python3/dist-packages/torch/nn/parallel/_functions.py:68: UserWarning: Was asked to gather along dimension 0, but all input tensors were scalars; will instead unsqueeze and return a vector.\n",
      "  warnings.warn('Was asked to gather along dimension 0, but all '\n"
     ]
    }
   ],
   "source": [
    "# Train and save the PEFT model\n",
    "\n",
    "if b_train:\n",
    "    if b_accelerator:\n",
    "        trainer = accelerator.prepare(trainer)\n",
    "    \n",
    "    trainer.train()    \n",
    "    trainer.save_model(out_dir)   # internally calls save_pretrained for PreTrainedModel, PeftModel\n",
    "    trainer.save_state()"
   ]
  },
  {
   "cell_type": "code",
   "execution_count": 28,
   "id": "6d98d774-f0f7-41f5-b1c7-92c8deb6e3fa",
   "metadata": {},
   "outputs": [
    {
     "data": {
      "image/png": "[encoded data removed]",
      "text/plain": [
       "<Figure size 1296x432 with 2 Axes>"
      ]
     },
     "metadata": {
      "needs_background": "light"
     },
     "output_type": "display_data"
    }
   ],
   "source": [
    "if b_train:\n",
    "    batch_step = len(tokenized_ds['train'])/(trainer.args._n_gpu*batch_size)\n",
    "    batch_step = int(round(batch_step+0.5))\n",
    "\n",
    "    plot_train_log_history(trainer.state.log_history, num_epochs, batch_step)"
   ]
  },
  {
   "cell_type": "code",
   "execution_count": 29,
   "id": "c442ff6b-202b-41b5-bfc9-c5a9fd2b64d1",
   "metadata": {},
   "outputs": [],
   "source": [
    "# Load the saved PEFT model\n",
    "\n",
    "trainer, trainable_params, all_param = train_eval_setup(out_dir, tokenized_ds, device, training_args, out_dir, log_dir, lora_config=None)\n",
    "model_params[cfg_name] = [trainable_params, all_param]"
   ]
  },
  {
   "cell_type": "code",
   "execution_count": 30,
   "id": "96524cb6-f4af-4d6e-91f0-a5fe9a01a624",
   "metadata": {},
   "outputs": [
    {
     "name": "stderr",
     "output_type": "stream",
     "text": [
      "/usr/lib/python3/dist-packages/torch/nn/parallel/_functions.py:68: UserWarning: Was asked to gather along dimension 0, but all input tensors were scalars; will instead unsqueeze and return a vector.\n",
      "  warnings.warn('Was asked to gather along dimension 0, but all '\n"
     ]
    },
    {
     "data": {
      "text/html": [],
      "text/plain": [
       "<IPython.core.display.HTML object>"
      ]
     },
     "metadata": {},
     "output_type": "display_data"
    },
    {
     "data": {
      "text/plain": [
       "{'test_loss': 0.16852092742919922,\n",
       " 'test_accuracy': 0.9340986394557823,\n",
       " 'test_f1': 0.9344447157915902,\n",
       " 'test_runtime': 2.0522,\n",
       " 'test_samples_per_second': 2292.21,\n",
       " 'test_steps_per_second': 18.03}"
      ]
     },
     "execution_count": 30,
     "metadata": {},
     "output_type": "execute_result"
    }
   ],
   "source": [
    "# Evaluate the fine-tuned model\n",
    "\n",
    "preds_val_test = trainer.predict(tokenized_ds[\"val_test\"])\n",
    "test_metrics[cfg_name] = preds_val_test.metrics\n",
    "\n",
    "preds_val_test.metrics"
   ]
  },
  {
   "cell_type": "code",
   "execution_count": 31,
   "id": "b85c1d71-b2db-444b-bdb6-272cf37ded57",
   "metadata": {},
   "outputs": [
    {
     "data": {
      "image/png": "[encoded data removed]",
      "text/plain": [
       "<Figure size 432x432 with 1 Axes>"
      ]
     },
     "metadata": {
      "needs_background": "light"
     },
     "output_type": "display_data"
    }
   ],
   "source": [
    "preds_val_test = np.argmax(preds_val_test.predictions, axis=1)\n",
    "\n",
    "plot_confusion_matrix([preds_val_test], [ds['val_test']['label']], labels)"
   ]
  },
  {
   "cell_type": "code",
   "execution_count": 32,
   "id": "a094d259-abe6-4c85-9be0-39c814433f5b",
   "metadata": {},
   "outputs": [
    {
     "name": "stdout",
     "output_type": "stream",
     "text": [
      "              precision    recall  f1-score   support\n",
      "\n",
      "           0       0.96      0.95      0.95      3343\n",
      "           1       0.87      0.90      0.89      1361\n",
      "\n",
      "    accuracy                           0.93      4704\n",
      "   macro avg       0.92      0.93      0.92      4704\n",
      "weighted avg       0.94      0.93      0.93      4704\n",
      "\n"
     ]
    }
   ],
   "source": [
    "report_val_test = classification_report(ds['val_test']['label'], preds_val_test)\n",
    "print(report_val_test)"
   ]
  },
  {
   "cell_type": "code",
   "execution_count": 33,
   "id": "b700f8c7-2820-44a0-a744-6eec6928a367",
   "metadata": {},
   "outputs": [],
   "source": [
    "# Create a PEFT model for a new lora config\n",
    "\n",
    "# format of cfg_name is targetmodules_rank_scale\n",
    "cfg_name = \"v_r1_s1\"\n",
    "out_dir = os.path.join('submission', cfg_name)\n",
    "log_dir = os.path.join(out_dir, 'logs')\n",
    "\n",
    "if b_train:    \n",
    "    # Lora config with rank 1\n",
    "    lora_config = LoraConfig(\n",
    "        task_type=TaskType.SEQ_CLS, r=1, target_modules=[\"v_lin\"], bias=\"none\", lora_alpha=1, lora_dropout=0.2\n",
    "    )    \n",
    "    \n",
    "    trainer, _, _ = train_eval_setup(model_name, tokenized_ds, device, training_args, out_dir, log_dir, lora_config=lora_config)"
   ]
  },
  {
   "cell_type": "code",
   "execution_count": 34,
   "id": "99c13cbe-c6f6-4bee-927a-5c3907cb5a92",
   "metadata": {},
   "outputs": [
    {
     "name": "stderr",
     "output_type": "stream",
     "text": [
      "/usr/lib/python3/dist-packages/torch/nn/parallel/_functions.py:68: UserWarning: Was asked to gather along dimension 0, but all input tensors were scalars; will instead unsqueeze and return a vector.\n",
      "  warnings.warn('Was asked to gather along dimension 0, but all '\n"
     ]
    },
    {
     "data": {
      "text/html": [
       "\n",
       "    <div>\n",
       "      \n",
       "      <progress value='2352' max='2352' style='width:300px; height:20px; vertical-align: middle;'></progress>\n",
       "      [2352/2352 03:48, Epoch 16/16]\n",
       "    </div>\n",
       "    <table border=\"1\" class=\"dataframe\">\n",
       "  <thead>\n",
       " <tr style=\"text-align: left;\">\n",
       "      <th>Epoch</th>\n",
       "      <th>Training Loss</th>\n",
       "      <th>Validation Loss</th>\n",
       "      <th>Accuracy</th>\n",
       "      <th>F1</th>\n",
       "    </tr>\n",
       "  </thead>\n",
       "  <tbody>\n",
       "    <tr>\n",
       "      <td>1</td>\n",
       "      <td>0.292000</td>\n",
       "      <td>0.289731</td>\n",
       "      <td>0.874096</td>\n",
       "      <td>0.868347</td>\n",
       "    </tr>\n",
       "    <tr>\n",
       "      <td>2</td>\n",
       "      <td>0.205400</td>\n",
       "      <td>0.232587</td>\n",
       "      <td>0.908124</td>\n",
       "      <td>0.906694</td>\n",
       "    </tr>\n",
       "    <tr>\n",
       "      <td>3</td>\n",
       "      <td>0.241300</td>\n",
       "      <td>0.211808</td>\n",
       "      <td>0.906848</td>\n",
       "      <td>0.907763</td>\n",
       "    </tr>\n",
       "    <tr>\n",
       "      <td>4</td>\n",
       "      <td>0.203900</td>\n",
       "      <td>0.201229</td>\n",
       "      <td>0.920885</td>\n",
       "      <td>0.919810</td>\n",
       "    </tr>\n",
       "    <tr>\n",
       "      <td>5</td>\n",
       "      <td>0.203400</td>\n",
       "      <td>0.190563</td>\n",
       "      <td>0.918333</td>\n",
       "      <td>0.919319</td>\n",
       "    </tr>\n",
       "    <tr>\n",
       "      <td>6</td>\n",
       "      <td>0.138600</td>\n",
       "      <td>0.178359</td>\n",
       "      <td>0.929392</td>\n",
       "      <td>0.929243</td>\n",
       "    </tr>\n",
       "    <tr>\n",
       "      <td>7</td>\n",
       "      <td>0.239200</td>\n",
       "      <td>0.174359</td>\n",
       "      <td>0.926414</td>\n",
       "      <td>0.926638</td>\n",
       "    </tr>\n",
       "    <tr>\n",
       "      <td>8</td>\n",
       "      <td>0.227500</td>\n",
       "      <td>0.179636</td>\n",
       "      <td>0.921310</td>\n",
       "      <td>0.922247</td>\n",
       "    </tr>\n",
       "    <tr>\n",
       "      <td>9</td>\n",
       "      <td>0.165300</td>\n",
       "      <td>0.171604</td>\n",
       "      <td>0.931944</td>\n",
       "      <td>0.932165</td>\n",
       "    </tr>\n",
       "    <tr>\n",
       "      <td>10</td>\n",
       "      <td>0.171000</td>\n",
       "      <td>0.169037</td>\n",
       "      <td>0.934071</td>\n",
       "      <td>0.934375</td>\n",
       "    </tr>\n",
       "    <tr>\n",
       "      <td>11</td>\n",
       "      <td>0.132500</td>\n",
       "      <td>0.178714</td>\n",
       "      <td>0.925138</td>\n",
       "      <td>0.926314</td>\n",
       "    </tr>\n",
       "    <tr>\n",
       "      <td>12</td>\n",
       "      <td>0.146600</td>\n",
       "      <td>0.164490</td>\n",
       "      <td>0.934496</td>\n",
       "      <td>0.934708</td>\n",
       "    </tr>\n",
       "    <tr>\n",
       "      <td>13</td>\n",
       "      <td>0.137800</td>\n",
       "      <td>0.162968</td>\n",
       "      <td>0.932369</td>\n",
       "      <td>0.932655</td>\n",
       "    </tr>\n",
       "    <tr>\n",
       "      <td>14</td>\n",
       "      <td>0.184200</td>\n",
       "      <td>0.165745</td>\n",
       "      <td>0.930242</td>\n",
       "      <td>0.930763</td>\n",
       "    </tr>\n",
       "    <tr>\n",
       "      <td>15</td>\n",
       "      <td>0.109100</td>\n",
       "      <td>0.162655</td>\n",
       "      <td>0.936197</td>\n",
       "      <td>0.936224</td>\n",
       "    </tr>\n",
       "    <tr>\n",
       "      <td>16</td>\n",
       "      <td>0.146800</td>\n",
       "      <td>0.162244</td>\n",
       "      <td>0.931093</td>\n",
       "      <td>0.931398</td>\n",
       "    </tr>\n",
       "  </tbody>\n",
       "</table><p>"
      ],
      "text/plain": [
       "<IPython.core.display.HTML object>"
      ]
     },
     "metadata": {},
     "output_type": "display_data"
    },
    {
     "name": "stderr",
     "output_type": "stream",
     "text": [
      "/usr/lib/python3/dist-packages/torch/nn/parallel/_functions.py:68: UserWarning: Was asked to gather along dimension 0, but all input tensors were scalars; will instead unsqueeze and return a vector.\n",
      "  warnings.warn('Was asked to gather along dimension 0, but all '\n",
      "/usr/lib/python3/dist-packages/torch/nn/parallel/_functions.py:68: UserWarning: Was asked to gather along dimension 0, but all input tensors were scalars; will instead unsqueeze and return a vector.\n",
      "  warnings.warn('Was asked to gather along dimension 0, but all '\n",
      "/usr/lib/python3/dist-packages/torch/nn/parallel/_functions.py:68: UserWarning: Was asked to gather along dimension 0, but all input tensors were scalars; will instead unsqueeze and return a vector.\n",
      "  warnings.warn('Was asked to gather along dimension 0, but all '\n",
      "/usr/lib/python3/dist-packages/torch/nn/parallel/_functions.py:68: UserWarning: Was asked to gather along dimension 0, but all input tensors were scalars; will instead unsqueeze and return a vector.\n",
      "  warnings.warn('Was asked to gather along dimension 0, but all '\n",
      "/usr/lib/python3/dist-packages/torch/nn/parallel/_functions.py:68: UserWarning: Was asked to gather along dimension 0, but all input tensors were scalars; will instead unsqueeze and return a vector.\n",
      "  warnings.warn('Was asked to gather along dimension 0, but all '\n",
      "/usr/lib/python3/dist-packages/torch/nn/parallel/_functions.py:68: UserWarning: Was asked to gather along dimension 0, but all input tensors were scalars; will instead unsqueeze and return a vector.\n",
      "  warnings.warn('Was asked to gather along dimension 0, but all '\n",
      "/usr/lib/python3/dist-packages/torch/nn/parallel/_functions.py:68: UserWarning: Was asked to gather along dimension 0, but all input tensors were scalars; will instead unsqueeze and return a vector.\n",
      "  warnings.warn('Was asked to gather along dimension 0, but all '\n",
      "/usr/lib/python3/dist-packages/torch/nn/parallel/_functions.py:68: UserWarning: Was asked to gather along dimension 0, but all input tensors were scalars; will instead unsqueeze and return a vector.\n",
      "  warnings.warn('Was asked to gather along dimension 0, but all '\n",
      "/usr/lib/python3/dist-packages/torch/nn/parallel/_functions.py:68: UserWarning: Was asked to gather along dimension 0, but all input tensors were scalars; will instead unsqueeze and return a vector.\n",
      "  warnings.warn('Was asked to gather along dimension 0, but all '\n",
      "/usr/lib/python3/dist-packages/torch/nn/parallel/_functions.py:68: UserWarning: Was asked to gather along dimension 0, but all input tensors were scalars; will instead unsqueeze and return a vector.\n",
      "  warnings.warn('Was asked to gather along dimension 0, but all '\n",
      "/usr/lib/python3/dist-packages/torch/nn/parallel/_functions.py:68: UserWarning: Was asked to gather along dimension 0, but all input tensors were scalars; will instead unsqueeze and return a vector.\n",
      "  warnings.warn('Was asked to gather along dimension 0, but all '\n",
      "/usr/lib/python3/dist-packages/torch/nn/parallel/_functions.py:68: UserWarning: Was asked to gather along dimension 0, but all input tensors were scalars; will instead unsqueeze and return a vector.\n",
      "  warnings.warn('Was asked to gather along dimension 0, but all '\n",
      "/usr/lib/python3/dist-packages/torch/nn/parallel/_functions.py:68: UserWarning: Was asked to gather along dimension 0, but all input tensors were scalars; will instead unsqueeze and return a vector.\n",
      "  warnings.warn('Was asked to gather along dimension 0, but all '\n",
      "/usr/lib/python3/dist-packages/torch/nn/parallel/_functions.py:68: UserWarning: Was asked to gather along dimension 0, but all input tensors were scalars; will instead unsqueeze and return a vector.\n",
      "  warnings.warn('Was asked to gather along dimension 0, but all '\n",
      "/usr/lib/python3/dist-packages/torch/nn/parallel/_functions.py:68: UserWarning: Was asked to gather along dimension 0, but all input tensors were scalars; will instead unsqueeze and return a vector.\n",
      "  warnings.warn('Was asked to gather along dimension 0, but all '\n"
     ]
    }
   ],
   "source": [
    "# Train and save the PEFT model\n",
    "\n",
    "if b_train:\n",
    "    if b_accelerator:\n",
    "        trainer = accelerator.prepare(trainer)\n",
    "    \n",
    "    trainer.train()\n",
    "    trainer.save_model(out_dir)\n",
    "    trainer.save_state()"
   ]
  },
  {
   "cell_type": "code",
   "execution_count": 35,
   "id": "ff60fc70-001a-48d9-aa43-a4238ba7c7a2",
   "metadata": {},
   "outputs": [
    {
     "data": {
      "image/png": "[encoded data removed]",
      "text/plain": [
       "<Figure size 1296x432 with 2 Axes>"
      ]
     },
     "metadata": {
      "needs_background": "light"
     },
     "output_type": "display_data"
    }
   ],
   "source": [
    "if b_train:\n",
    "    batch_step = len(tokenized_ds['train'])/(trainer.args._n_gpu*batch_size)\n",
    "    batch_step = int(round(batch_step+0.5))\n",
    "\n",
    "    plot_train_log_history(trainer.state.log_history, num_epochs, batch_step)"
   ]
  },
  {
   "cell_type": "code",
   "execution_count": 36,
   "id": "dd91e698-ff95-49b8-8388-220ab3396e63",
   "metadata": {},
   "outputs": [],
   "source": [
    "# Load the saved PEFT model\n",
    "\n",
    "trainer, trainable_params, all_param = train_eval_setup(out_dir, tokenized_ds, device, training_args, out_dir, log_dir, lora_config=None)\n",
    "model_params[cfg_name] = [trainable_params, all_param]"
   ]
  },
  {
   "cell_type": "code",
   "execution_count": 37,
   "id": "b5304e45-15ef-4a47-a87d-3d423ce9b1a3",
   "metadata": {},
   "outputs": [
    {
     "name": "stderr",
     "output_type": "stream",
     "text": [
      "/usr/lib/python3/dist-packages/torch/nn/parallel/_functions.py:68: UserWarning: Was asked to gather along dimension 0, but all input tensors were scalars; will instead unsqueeze and return a vector.\n",
      "  warnings.warn('Was asked to gather along dimension 0, but all '\n"
     ]
    },
    {
     "data": {
      "text/html": [],
      "text/plain": [
       "<IPython.core.display.HTML object>"
      ]
     },
     "metadata": {},
     "output_type": "display_data"
    },
    {
     "data": {
      "text/plain": [
       "{'test_loss': 0.17149889469146729,\n",
       " 'test_accuracy': 0.9292091836734694,\n",
       " 'test_f1': 0.9295160225912705,\n",
       " 'test_runtime': 1.9488,\n",
       " 'test_samples_per_second': 2413.817,\n",
       " 'test_steps_per_second': 18.986}"
      ]
     },
     "execution_count": 37,
     "metadata": {},
     "output_type": "execute_result"
    }
   ],
   "source": [
    "# Evaluate the fine-tuned model\n",
    "\n",
    "preds_val_test = trainer.predict(tokenized_ds[\"val_test\"])\n",
    "test_metrics[cfg_name] = preds_val_test.metrics\n",
    "\n",
    "preds_val_test.metrics"
   ]
  },
  {
   "cell_type": "code",
   "execution_count": 38,
   "id": "d6a88234-11cd-4736-bef7-98832df68ae8",
   "metadata": {},
   "outputs": [
    {
     "data": {
      "image/png": "[encoded data removed]",
      "text/plain": [
       "<Figure size 432x432 with 1 Axes>"
      ]
     },
     "metadata": {
      "needs_background": "light"
     },
     "output_type": "display_data"
    }
   ],
   "source": [
    "preds_val_test = np.argmax(preds_val_test.predictions, axis=1)\n",
    "\n",
    "plot_confusion_matrix([preds_val_test], [ds['val_test']['label']], labels)"
   ]
  },
  {
   "cell_type": "code",
   "execution_count": 39,
   "id": "ae322db7-ac6e-45bb-97f1-8b65ed4e8892",
   "metadata": {},
   "outputs": [
    {
     "name": "stdout",
     "output_type": "stream",
     "text": [
      "              precision    recall  f1-score   support\n",
      "\n",
      "           0       0.96      0.94      0.95      3343\n",
      "           1       0.87      0.89      0.88      1361\n",
      "\n",
      "    accuracy                           0.93      4704\n",
      "   macro avg       0.91      0.92      0.91      4704\n",
      "weighted avg       0.93      0.93      0.93      4704\n",
      "\n"
     ]
    }
   ],
   "source": [
    "report_val_test = classification_report(ds['val_test']['label'], preds_val_test)\n",
    "print(report_val_test)"
   ]
  },
  {
   "cell_type": "code",
   "execution_count": 40,
   "id": "eaaae027-1b9e-4c40-a728-12765e3be289",
   "metadata": {},
   "outputs": [],
   "source": [
    "# Create a PEFT model for a new lora config\n",
    "\n",
    "# format of cfg_name is targetmodules_rank_scale\n",
    "cfg_name = \"q_v_r1_s1\"\n",
    "out_dir = os.path.join('submission', cfg_name)\n",
    "log_dir = os.path.join(out_dir, 'logs')\n",
    "\n",
    "if b_train:\n",
    "    # Lora config with rank 1, qv target modules \n",
    "    lora_config = LoraConfig(\n",
    "        task_type=TaskType.SEQ_CLS, r=1, target_modules=[\"q_lin\", \"v_lin\"], bias=\"none\", lora_alpha=1, lora_dropout=0.2\n",
    "    )    \n",
    "\n",
    "    trainer, _, _ = train_eval_setup(model_name, tokenized_ds, device, training_args, out_dir, log_dir, lora_config=lora_config)"
   ]
  },
  {
   "cell_type": "code",
   "execution_count": 41,
   "id": "d53f819d-519a-46b3-a1ab-9b9badc7fa5f",
   "metadata": {},
   "outputs": [
    {
     "name": "stderr",
     "output_type": "stream",
     "text": [
      "/usr/lib/python3/dist-packages/torch/nn/parallel/_functions.py:68: UserWarning: Was asked to gather along dimension 0, but all input tensors were scalars; will instead unsqueeze and return a vector.\n",
      "  warnings.warn('Was asked to gather along dimension 0, but all '\n"
     ]
    },
    {
     "data": {
      "text/html": [
       "\n",
       "    <div>\n",
       "      \n",
       "      <progress value='2352' max='2352' style='width:300px; height:20px; vertical-align: middle;'></progress>\n",
       "      [2352/2352 04:23, Epoch 16/16]\n",
       "    </div>\n",
       "    <table border=\"1\" class=\"dataframe\">\n",
       "  <thead>\n",
       " <tr style=\"text-align: left;\">\n",
       "      <th>Epoch</th>\n",
       "      <th>Training Loss</th>\n",
       "      <th>Validation Loss</th>\n",
       "      <th>Accuracy</th>\n",
       "      <th>F1</th>\n",
       "    </tr>\n",
       "  </thead>\n",
       "  <tbody>\n",
       "    <tr>\n",
       "      <td>1</td>\n",
       "      <td>0.285100</td>\n",
       "      <td>0.248506</td>\n",
       "      <td>0.896214</td>\n",
       "      <td>0.893439</td>\n",
       "    </tr>\n",
       "    <tr>\n",
       "      <td>2</td>\n",
       "      <td>0.178200</td>\n",
       "      <td>0.200564</td>\n",
       "      <td>0.920034</td>\n",
       "      <td>0.919331</td>\n",
       "    </tr>\n",
       "    <tr>\n",
       "      <td>3</td>\n",
       "      <td>0.157300</td>\n",
       "      <td>0.192743</td>\n",
       "      <td>0.917057</td>\n",
       "      <td>0.918266</td>\n",
       "    </tr>\n",
       "    <tr>\n",
       "      <td>4</td>\n",
       "      <td>0.166300</td>\n",
       "      <td>0.179599</td>\n",
       "      <td>0.934496</td>\n",
       "      <td>0.933670</td>\n",
       "    </tr>\n",
       "    <tr>\n",
       "      <td>5</td>\n",
       "      <td>0.139300</td>\n",
       "      <td>0.172456</td>\n",
       "      <td>0.928966</td>\n",
       "      <td>0.929483</td>\n",
       "    </tr>\n",
       "    <tr>\n",
       "      <td>6</td>\n",
       "      <td>0.147800</td>\n",
       "      <td>0.163299</td>\n",
       "      <td>0.931944</td>\n",
       "      <td>0.932110</td>\n",
       "    </tr>\n",
       "    <tr>\n",
       "      <td>7</td>\n",
       "      <td>0.216900</td>\n",
       "      <td>0.163796</td>\n",
       "      <td>0.934496</td>\n",
       "      <td>0.934129</td>\n",
       "    </tr>\n",
       "    <tr>\n",
       "      <td>8</td>\n",
       "      <td>0.193400</td>\n",
       "      <td>0.172178</td>\n",
       "      <td>0.930242</td>\n",
       "      <td>0.930964</td>\n",
       "    </tr>\n",
       "    <tr>\n",
       "      <td>9</td>\n",
       "      <td>0.122100</td>\n",
       "      <td>0.162732</td>\n",
       "      <td>0.937473</td>\n",
       "      <td>0.937639</td>\n",
       "    </tr>\n",
       "    <tr>\n",
       "      <td>10</td>\n",
       "      <td>0.118100</td>\n",
       "      <td>0.166786</td>\n",
       "      <td>0.939600</td>\n",
       "      <td>0.939675</td>\n",
       "    </tr>\n",
       "    <tr>\n",
       "      <td>11</td>\n",
       "      <td>0.058400</td>\n",
       "      <td>0.163889</td>\n",
       "      <td>0.937899</td>\n",
       "      <td>0.938339</td>\n",
       "    </tr>\n",
       "    <tr>\n",
       "      <td>12</td>\n",
       "      <td>0.079900</td>\n",
       "      <td>0.157892</td>\n",
       "      <td>0.943428</td>\n",
       "      <td>0.943417</td>\n",
       "    </tr>\n",
       "    <tr>\n",
       "      <td>13</td>\n",
       "      <td>0.144500</td>\n",
       "      <td>0.161683</td>\n",
       "      <td>0.941727</td>\n",
       "      <td>0.941927</td>\n",
       "    </tr>\n",
       "    <tr>\n",
       "      <td>14</td>\n",
       "      <td>0.135700</td>\n",
       "      <td>0.160118</td>\n",
       "      <td>0.943003</td>\n",
       "      <td>0.943277</td>\n",
       "    </tr>\n",
       "    <tr>\n",
       "      <td>15</td>\n",
       "      <td>0.066500</td>\n",
       "      <td>0.159789</td>\n",
       "      <td>0.943428</td>\n",
       "      <td>0.943533</td>\n",
       "    </tr>\n",
       "    <tr>\n",
       "      <td>16</td>\n",
       "      <td>0.168500</td>\n",
       "      <td>0.161019</td>\n",
       "      <td>0.944279</td>\n",
       "      <td>0.944493</td>\n",
       "    </tr>\n",
       "  </tbody>\n",
       "</table><p>"
      ],
      "text/plain": [
       "<IPython.core.display.HTML object>"
      ]
     },
     "metadata": {},
     "output_type": "display_data"
    },
    {
     "name": "stderr",
     "output_type": "stream",
     "text": [
      "/usr/lib/python3/dist-packages/torch/nn/parallel/_functions.py:68: UserWarning: Was asked to gather along dimension 0, but all input tensors were scalars; will instead unsqueeze and return a vector.\n",
      "  warnings.warn('Was asked to gather along dimension 0, but all '\n",
      "/usr/lib/python3/dist-packages/torch/nn/parallel/_functions.py:68: UserWarning: Was asked to gather along dimension 0, but all input tensors were scalars; will instead unsqueeze and return a vector.\n",
      "  warnings.warn('Was asked to gather along dimension 0, but all '\n",
      "/usr/lib/python3/dist-packages/torch/nn/parallel/_functions.py:68: UserWarning: Was asked to gather along dimension 0, but all input tensors were scalars; will instead unsqueeze and return a vector.\n",
      "  warnings.warn('Was asked to gather along dimension 0, but all '\n",
      "/usr/lib/python3/dist-packages/torch/nn/parallel/_functions.py:68: UserWarning: Was asked to gather along dimension 0, but all input tensors were scalars; will instead unsqueeze and return a vector.\n",
      "  warnings.warn('Was asked to gather along dimension 0, but all '\n",
      "/usr/lib/python3/dist-packages/torch/nn/parallel/_functions.py:68: UserWarning: Was asked to gather along dimension 0, but all input tensors were scalars; will instead unsqueeze and return a vector.\n",
      "  warnings.warn('Was asked to gather along dimension 0, but all '\n",
      "/usr/lib/python3/dist-packages/torch/nn/parallel/_functions.py:68: UserWarning: Was asked to gather along dimension 0, but all input tensors were scalars; will instead unsqueeze and return a vector.\n",
      "  warnings.warn('Was asked to gather along dimension 0, but all '\n",
      "/usr/lib/python3/dist-packages/torch/nn/parallel/_functions.py:68: UserWarning: Was asked to gather along dimension 0, but all input tensors were scalars; will instead unsqueeze and return a vector.\n",
      "  warnings.warn('Was asked to gather along dimension 0, but all '\n",
      "/usr/lib/python3/dist-packages/torch/nn/parallel/_functions.py:68: UserWarning: Was asked to gather along dimension 0, but all input tensors were scalars; will instead unsqueeze and return a vector.\n",
      "  warnings.warn('Was asked to gather along dimension 0, but all '\n",
      "/usr/lib/python3/dist-packages/torch/nn/parallel/_functions.py:68: UserWarning: Was asked to gather along dimension 0, but all input tensors were scalars; will instead unsqueeze and return a vector.\n",
      "  warnings.warn('Was asked to gather along dimension 0, but all '\n",
      "/usr/lib/python3/dist-packages/torch/nn/parallel/_functions.py:68: UserWarning: Was asked to gather along dimension 0, but all input tensors were scalars; will instead unsqueeze and return a vector.\n",
      "  warnings.warn('Was asked to gather along dimension 0, but all '\n",
      "/usr/lib/python3/dist-packages/torch/nn/parallel/_functions.py:68: UserWarning: Was asked to gather along dimension 0, but all input tensors were scalars; will instead unsqueeze and return a vector.\n",
      "  warnings.warn('Was asked to gather along dimension 0, but all '\n",
      "/usr/lib/python3/dist-packages/torch/nn/parallel/_functions.py:68: UserWarning: Was asked to gather along dimension 0, but all input tensors were scalars; will instead unsqueeze and return a vector.\n",
      "  warnings.warn('Was asked to gather along dimension 0, but all '\n",
      "/usr/lib/python3/dist-packages/torch/nn/parallel/_functions.py:68: UserWarning: Was asked to gather along dimension 0, but all input tensors were scalars; will instead unsqueeze and return a vector.\n",
      "  warnings.warn('Was asked to gather along dimension 0, but all '\n",
      "/usr/lib/python3/dist-packages/torch/nn/parallel/_functions.py:68: UserWarning: Was asked to gather along dimension 0, but all input tensors were scalars; will instead unsqueeze and return a vector.\n",
      "  warnings.warn('Was asked to gather along dimension 0, but all '\n",
      "/usr/lib/python3/dist-packages/torch/nn/parallel/_functions.py:68: UserWarning: Was asked to gather along dimension 0, but all input tensors were scalars; will instead unsqueeze and return a vector.\n",
      "  warnings.warn('Was asked to gather along dimension 0, but all '\n"
     ]
    }
   ],
   "source": [
    "# Train and save the PEFT model\n",
    "\n",
    "if b_train:\n",
    "    if b_accelerator:\n",
    "        trainer = accelerator.prepare(trainer)\n",
    "    \n",
    "    trainer.train()\n",
    "    trainer.save_model(out_dir)\n",
    "    trainer.save_state()"
   ]
  },
  {
   "cell_type": "code",
   "execution_count": 42,
   "id": "b859e181-44a1-49ca-87c2-d93cc64e3df2",
   "metadata": {},
   "outputs": [
    {
     "data": {
      "image/png": "[encoded data removed]",
      "text/plain": [
       "<Figure size 1296x432 with 2 Axes>"
      ]
     },
     "metadata": {
      "needs_background": "light"
     },
     "output_type": "display_data"
    }
   ],
   "source": [
    "if b_train:\n",
    "    batch_step = len(tokenized_ds['train'])/(trainer.args._n_gpu*batch_size)\n",
    "    batch_step = int(round(batch_step+0.5))\n",
    "\n",
    "    plot_train_log_history(trainer.state.log_history, num_epochs, batch_step)"
   ]
  },
  {
   "cell_type": "code",
   "execution_count": 43,
   "id": "c8273342-c91b-4c00-95fb-a8d7a7ce1043",
   "metadata": {},
   "outputs": [],
   "source": [
    "# Load the saved PEFT model\n",
    "\n",
    "trainer, trainable_params, all_param = train_eval_setup(out_dir, tokenized_ds, device, training_args, out_dir, log_dir, lora_config=None)\n",
    "model_params[cfg_name] = [trainable_params, all_param]"
   ]
  },
  {
   "cell_type": "code",
   "execution_count": 44,
   "id": "e80c7b7a-5dde-4637-a7c1-b4954b361c5a",
   "metadata": {},
   "outputs": [
    {
     "name": "stderr",
     "output_type": "stream",
     "text": [
      "/usr/lib/python3/dist-packages/torch/nn/parallel/_functions.py:68: UserWarning: Was asked to gather along dimension 0, but all input tensors were scalars; will instead unsqueeze and return a vector.\n",
      "  warnings.warn('Was asked to gather along dimension 0, but all '\n"
     ]
    },
    {
     "data": {
      "text/html": [],
      "text/plain": [
       "<IPython.core.display.HTML object>"
      ]
     },
     "metadata": {},
     "output_type": "display_data"
    },
    {
     "data": {
      "text/plain": [
       "{'test_loss': 0.15913715958595276,\n",
       " 'test_accuracy': 0.9402636054421769,\n",
       " 'test_f1': 0.9403217763076263,\n",
       " 'test_runtime': 2.3062,\n",
       " 'test_samples_per_second': 2039.724,\n",
       " 'test_steps_per_second': 16.044}"
      ]
     },
     "execution_count": 44,
     "metadata": {},
     "output_type": "execute_result"
    }
   ],
   "source": [
    "# Evaluate the fine-tuned model\n",
    "\n",
    "preds_val_test = trainer.predict(tokenized_ds[\"val_test\"])\n",
    "test_metrics[cfg_name] = preds_val_test.metrics\n",
    "\n",
    "preds_val_test.metrics"
   ]
  },
  {
   "cell_type": "code",
   "execution_count": 45,
   "id": "453c4c04-2695-4d4e-bdef-1e31d5cce87c",
   "metadata": {},
   "outputs": [
    {
     "data": {
      "image/png": "[encoded data removed]",
      "text/plain": [
       "<Figure size 432x432 with 1 Axes>"
      ]
     },
     "metadata": {
      "needs_background": "light"
     },
     "output_type": "display_data"
    }
   ],
   "source": [
    "preds_val_test = np.argmax(preds_val_test.predictions, axis=1)\n",
    "\n",
    "plot_confusion_matrix([preds_val_test], [ds['val_test']['label']], labels)"
   ]
  },
  {
   "cell_type": "code",
   "execution_count": 46,
   "id": "e9b84302-c656-4ca6-9cf7-b8c250b09c25",
   "metadata": {},
   "outputs": [
    {
     "name": "stdout",
     "output_type": "stream",
     "text": [
      "              precision    recall  f1-score   support\n",
      "\n",
      "           0       0.96      0.96      0.96      3343\n",
      "           1       0.89      0.90      0.90      1361\n",
      "\n",
      "    accuracy                           0.94      4704\n",
      "   macro avg       0.93      0.93      0.93      4704\n",
      "weighted avg       0.94      0.94      0.94      4704\n",
      "\n"
     ]
    }
   ],
   "source": [
    "report_val_test = classification_report(ds['val_test']['label'], preds_val_test)\n",
    "print(report_val_test)"
   ]
  },
  {
   "cell_type": "code",
   "execution_count": 47,
   "id": "0e403561-31f8-437f-aa97-361b317898e4",
   "metadata": {},
   "outputs": [],
   "source": [
    "# Create a PEFT model for a new lora config\n",
    "\n",
    "# format of cfg_name is targetmodules_rank_scale\n",
    "cfg_name = \"q_v_k_o_r1_s1\"\n",
    "out_dir = os.path.join('submission', cfg_name)\n",
    "log_dir = os.path.join(out_dir, 'logs')\n",
    "\n",
    "if b_train:    \n",
    "    # Lora config with rank 1, additional tgt modules\n",
    "    lora_config = LoraConfig(\n",
    "        task_type=TaskType.SEQ_CLS, r=1, target_modules=[\"q_lin\", \"v_lin\", \"k_lin\", \"out_lin\"], bias=\"none\", lora_alpha=1, lora_dropout=0.2\n",
    "    )\n",
    "    \n",
    "    trainer, _, _ = train_eval_setup(model_name, tokenized_ds, device, training_args, out_dir, log_dir, lora_config=lora_config)"
   ]
  },
  {
   "cell_type": "code",
   "execution_count": 48,
   "id": "212a1300-62bc-4ec4-af8c-6bfd1353eca8",
   "metadata": {},
   "outputs": [
    {
     "name": "stderr",
     "output_type": "stream",
     "text": [
      "/usr/lib/python3/dist-packages/torch/nn/parallel/_functions.py:68: UserWarning: Was asked to gather along dimension 0, but all input tensors were scalars; will instead unsqueeze and return a vector.\n",
      "  warnings.warn('Was asked to gather along dimension 0, but all '\n"
     ]
    },
    {
     "data": {
      "text/html": [
       "\n",
       "    <div>\n",
       "      \n",
       "      <progress value='2352' max='2352' style='width:300px; height:20px; vertical-align: middle;'></progress>\n",
       "      [2352/2352 05:28, Epoch 16/16]\n",
       "    </div>\n",
       "    <table border=\"1\" class=\"dataframe\">\n",
       "  <thead>\n",
       " <tr style=\"text-align: left;\">\n",
       "      <th>Epoch</th>\n",
       "      <th>Training Loss</th>\n",
       "      <th>Validation Loss</th>\n",
       "      <th>Accuracy</th>\n",
       "      <th>F1</th>\n",
       "    </tr>\n",
       "  </thead>\n",
       "  <tbody>\n",
       "    <tr>\n",
       "      <td>1</td>\n",
       "      <td>0.294800</td>\n",
       "      <td>0.240028</td>\n",
       "      <td>0.901319</td>\n",
       "      <td>0.898624</td>\n",
       "    </tr>\n",
       "    <tr>\n",
       "      <td>2</td>\n",
       "      <td>0.185700</td>\n",
       "      <td>0.189238</td>\n",
       "      <td>0.919609</td>\n",
       "      <td>0.918883</td>\n",
       "    </tr>\n",
       "    <tr>\n",
       "      <td>3</td>\n",
       "      <td>0.145200</td>\n",
       "      <td>0.182276</td>\n",
       "      <td>0.923437</td>\n",
       "      <td>0.924362</td>\n",
       "    </tr>\n",
       "    <tr>\n",
       "      <td>4</td>\n",
       "      <td>0.153000</td>\n",
       "      <td>0.168579</td>\n",
       "      <td>0.937048</td>\n",
       "      <td>0.936068</td>\n",
       "    </tr>\n",
       "    <tr>\n",
       "      <td>5</td>\n",
       "      <td>0.134800</td>\n",
       "      <td>0.152474</td>\n",
       "      <td>0.937473</td>\n",
       "      <td>0.937486</td>\n",
       "    </tr>\n",
       "    <tr>\n",
       "      <td>6</td>\n",
       "      <td>0.146500</td>\n",
       "      <td>0.150684</td>\n",
       "      <td>0.939600</td>\n",
       "      <td>0.939395</td>\n",
       "    </tr>\n",
       "    <tr>\n",
       "      <td>7</td>\n",
       "      <td>0.212300</td>\n",
       "      <td>0.145382</td>\n",
       "      <td>0.941302</td>\n",
       "      <td>0.941350</td>\n",
       "    </tr>\n",
       "    <tr>\n",
       "      <td>8</td>\n",
       "      <td>0.127000</td>\n",
       "      <td>0.155580</td>\n",
       "      <td>0.935347</td>\n",
       "      <td>0.936038</td>\n",
       "    </tr>\n",
       "    <tr>\n",
       "      <td>9</td>\n",
       "      <td>0.097000</td>\n",
       "      <td>0.150308</td>\n",
       "      <td>0.943428</td>\n",
       "      <td>0.943689</td>\n",
       "    </tr>\n",
       "    <tr>\n",
       "      <td>10</td>\n",
       "      <td>0.069600</td>\n",
       "      <td>0.152360</td>\n",
       "      <td>0.941302</td>\n",
       "      <td>0.941606</td>\n",
       "    </tr>\n",
       "    <tr>\n",
       "      <td>11</td>\n",
       "      <td>0.082200</td>\n",
       "      <td>0.163648</td>\n",
       "      <td>0.934071</td>\n",
       "      <td>0.934989</td>\n",
       "    </tr>\n",
       "    <tr>\n",
       "      <td>12</td>\n",
       "      <td>0.140700</td>\n",
       "      <td>0.151660</td>\n",
       "      <td>0.944279</td>\n",
       "      <td>0.944382</td>\n",
       "    </tr>\n",
       "    <tr>\n",
       "      <td>13</td>\n",
       "      <td>0.099000</td>\n",
       "      <td>0.151698</td>\n",
       "      <td>0.945130</td>\n",
       "      <td>0.945446</td>\n",
       "    </tr>\n",
       "    <tr>\n",
       "      <td>14</td>\n",
       "      <td>0.075800</td>\n",
       "      <td>0.150608</td>\n",
       "      <td>0.942578</td>\n",
       "      <td>0.942887</td>\n",
       "    </tr>\n",
       "    <tr>\n",
       "      <td>15</td>\n",
       "      <td>0.032200</td>\n",
       "      <td>0.155099</td>\n",
       "      <td>0.945555</td>\n",
       "      <td>0.945688</td>\n",
       "    </tr>\n",
       "    <tr>\n",
       "      <td>16</td>\n",
       "      <td>0.127100</td>\n",
       "      <td>0.154393</td>\n",
       "      <td>0.943428</td>\n",
       "      <td>0.943578</td>\n",
       "    </tr>\n",
       "  </tbody>\n",
       "</table><p>"
      ],
      "text/plain": [
       "<IPython.core.display.HTML object>"
      ]
     },
     "metadata": {},
     "output_type": "display_data"
    },
    {
     "name": "stderr",
     "output_type": "stream",
     "text": [
      "/usr/lib/python3/dist-packages/torch/nn/parallel/_functions.py:68: UserWarning: Was asked to gather along dimension 0, but all input tensors were scalars; will instead unsqueeze and return a vector.\n",
      "  warnings.warn('Was asked to gather along dimension 0, but all '\n",
      "/usr/lib/python3/dist-packages/torch/nn/parallel/_functions.py:68: UserWarning: Was asked to gather along dimension 0, but all input tensors were scalars; will instead unsqueeze and return a vector.\n",
      "  warnings.warn('Was asked to gather along dimension 0, but all '\n",
      "/usr/lib/python3/dist-packages/torch/nn/parallel/_functions.py:68: UserWarning: Was asked to gather along dimension 0, but all input tensors were scalars; will instead unsqueeze and return a vector.\n",
      "  warnings.warn('Was asked to gather along dimension 0, but all '\n",
      "/usr/lib/python3/dist-packages/torch/nn/parallel/_functions.py:68: UserWarning: Was asked to gather along dimension 0, but all input tensors were scalars; will instead unsqueeze and return a vector.\n",
      "  warnings.warn('Was asked to gather along dimension 0, but all '\n",
      "/usr/lib/python3/dist-packages/torch/nn/parallel/_functions.py:68: UserWarning: Was asked to gather along dimension 0, but all input tensors were scalars; will instead unsqueeze and return a vector.\n",
      "  warnings.warn('Was asked to gather along dimension 0, but all '\n",
      "/usr/lib/python3/dist-packages/torch/nn/parallel/_functions.py:68: UserWarning: Was asked to gather along dimension 0, but all input tensors were scalars; will instead unsqueeze and return a vector.\n",
      "  warnings.warn('Was asked to gather along dimension 0, but all '\n",
      "/usr/lib/python3/dist-packages/torch/nn/parallel/_functions.py:68: UserWarning: Was asked to gather along dimension 0, but all input tensors were scalars; will instead unsqueeze and return a vector.\n",
      "  warnings.warn('Was asked to gather along dimension 0, but all '\n",
      "/usr/lib/python3/dist-packages/torch/nn/parallel/_functions.py:68: UserWarning: Was asked to gather along dimension 0, but all input tensors were scalars; will instead unsqueeze and return a vector.\n",
      "  warnings.warn('Was asked to gather along dimension 0, but all '\n",
      "/usr/lib/python3/dist-packages/torch/nn/parallel/_functions.py:68: UserWarning: Was asked to gather along dimension 0, but all input tensors were scalars; will instead unsqueeze and return a vector.\n",
      "  warnings.warn('Was asked to gather along dimension 0, but all '\n",
      "/usr/lib/python3/dist-packages/torch/nn/parallel/_functions.py:68: UserWarning: Was asked to gather along dimension 0, but all input tensors were scalars; will instead unsqueeze and return a vector.\n",
      "  warnings.warn('Was asked to gather along dimension 0, but all '\n",
      "/usr/lib/python3/dist-packages/torch/nn/parallel/_functions.py:68: UserWarning: Was asked to gather along dimension 0, but all input tensors were scalars; will instead unsqueeze and return a vector.\n",
      "  warnings.warn('Was asked to gather along dimension 0, but all '\n",
      "/usr/lib/python3/dist-packages/torch/nn/parallel/_functions.py:68: UserWarning: Was asked to gather along dimension 0, but all input tensors were scalars; will instead unsqueeze and return a vector.\n",
      "  warnings.warn('Was asked to gather along dimension 0, but all '\n",
      "/usr/lib/python3/dist-packages/torch/nn/parallel/_functions.py:68: UserWarning: Was asked to gather along dimension 0, but all input tensors were scalars; will instead unsqueeze and return a vector.\n",
      "  warnings.warn('Was asked to gather along dimension 0, but all '\n",
      "/usr/lib/python3/dist-packages/torch/nn/parallel/_functions.py:68: UserWarning: Was asked to gather along dimension 0, but all input tensors were scalars; will instead unsqueeze and return a vector.\n",
      "  warnings.warn('Was asked to gather along dimension 0, but all '\n",
      "/usr/lib/python3/dist-packages/torch/nn/parallel/_functions.py:68: UserWarning: Was asked to gather along dimension 0, but all input tensors were scalars; will instead unsqueeze and return a vector.\n",
      "  warnings.warn('Was asked to gather along dimension 0, but all '\n"
     ]
    }
   ],
   "source": [
    "# Train and save the PEFT model\n",
    "\n",
    "if b_train:\n",
    "    if b_accelerator:\n",
    "        trainer = accelerator.prepare(trainer)\n",
    "    \n",
    "    trainer.train()\n",
    "    trainer.save_model(out_dir)\n",
    "    trainer.save_state()"
   ]
  },
  {
   "cell_type": "code",
   "execution_count": 49,
   "id": "b84a5a73-6b9a-4e46-8ebe-cfd980f4be65",
   "metadata": {},
   "outputs": [
    {
     "data": {
      "image/png": "[encoded data removed]",
      "text/plain": [
       "<Figure size 1296x432 with 2 Axes>"
      ]
     },
     "metadata": {
      "needs_background": "light"
     },
     "output_type": "display_data"
    }
   ],
   "source": [
    "if b_train:\n",
    "    batch_step = len(tokenized_ds['train'])/(trainer.args._n_gpu*batch_size)\n",
    "    batch_step = int(round(batch_step+0.5))\n",
    "\n",
    "    plot_train_log_history(trainer.state.log_history, num_epochs, batch_step)"
   ]
  },
  {
   "cell_type": "code",
   "execution_count": 50,
   "id": "0604df08-472c-4643-8aef-5e66b5aa3198",
   "metadata": {},
   "outputs": [],
   "source": [
    "# Load the saved PEFT model\n",
    "\n",
    "trainer, trainable_params, all_param = train_eval_setup(out_dir, tokenized_ds, device, training_args, out_dir, log_dir, lora_config=None)\n",
    "model_params[cfg_name] = [trainable_params, all_param]"
   ]
  },
  {
   "cell_type": "code",
   "execution_count": 51,
   "id": "6d772e2c-554c-46d8-9546-977c5939d4b5",
   "metadata": {},
   "outputs": [
    {
     "name": "stderr",
     "output_type": "stream",
     "text": [
      "/usr/lib/python3/dist-packages/torch/nn/parallel/_functions.py:68: UserWarning: Was asked to gather along dimension 0, but all input tensors were scalars; will instead unsqueeze and return a vector.\n",
      "  warnings.warn('Was asked to gather along dimension 0, but all '\n"
     ]
    },
    {
     "data": {
      "text/html": [],
      "text/plain": [
       "<IPython.core.display.HTML object>"
      ]
     },
     "metadata": {},
     "output_type": "display_data"
    },
    {
     "data": {
      "text/plain": [
       "{'test_loss': 0.15253745019435883,\n",
       " 'test_accuracy': 0.9377125850340136,\n",
       " 'test_f1': 0.9378264942948489,\n",
       " 'test_runtime': 2.7387,\n",
       " 'test_samples_per_second': 1717.608,\n",
       " 'test_steps_per_second': 13.51}"
      ]
     },
     "execution_count": 51,
     "metadata": {},
     "output_type": "execute_result"
    }
   ],
   "source": [
    "# Evaluate the fine-tuned model\n",
    "\n",
    "preds_val_test = trainer.predict(tokenized_ds[\"val_test\"])\n",
    "test_metrics[cfg_name] = preds_val_test.metrics\n",
    "\n",
    "preds_val_test.metrics"
   ]
  },
  {
   "cell_type": "code",
   "execution_count": 52,
   "id": "87c360e0-72d9-4e1d-b0d4-7c545922d126",
   "metadata": {},
   "outputs": [
    {
     "data": {
      "image/png": "[encoded data removed]",
      "text/plain": [
       "<Figure size 432x432 with 1 Axes>"
      ]
     },
     "metadata": {
      "needs_background": "light"
     },
     "output_type": "display_data"
    }
   ],
   "source": [
    "preds_val_test = np.argmax(preds_val_test.predictions, axis=1)\n",
    "\n",
    "plot_confusion_matrix([preds_val_test], [ds['val_test']['label']], labels)"
   ]
  },
  {
   "cell_type": "code",
   "execution_count": 53,
   "id": "df89f001-8d94-4978-a69d-a078020c5217",
   "metadata": {},
   "outputs": [
    {
     "name": "stdout",
     "output_type": "stream",
     "text": [
      "              precision    recall  f1-score   support\n",
      "\n",
      "           0       0.96      0.95      0.96      3343\n",
      "           1       0.89      0.90      0.89      1361\n",
      "\n",
      "    accuracy                           0.94      4704\n",
      "   macro avg       0.92      0.93      0.92      4704\n",
      "weighted avg       0.94      0.94      0.94      4704\n",
      "\n"
     ]
    }
   ],
   "source": [
    "report_val_test = classification_report(ds['val_test']['label'], preds_val_test)\n",
    "print(report_val_test)"
   ]
  },
  {
   "cell_type": "code",
   "execution_count": 54,
   "id": "c3085a00-a993-4eea-b793-4102b9ee8dfd",
   "metadata": {},
   "outputs": [],
   "source": [
    "# Compare metrics across configs\n",
    "# format of cfg_name is targetmodules_rank_scale\n",
    "def compare_metrics(test_metrics, model_params):\n",
    "    cfgs = list(test_metrics.keys())\n",
    "    test_accuracy = []\n",
    "    test_f1 = []\n",
    "    trainable_params = []\n",
    "    all_params = []\n",
    "    \n",
    "    for key, value in test_metrics.items():\n",
    "        test_accuracy.append(value['test_accuracy']) \n",
    "        test_f1.append(value['test_f1'])\n",
    "        \n",
    "    for key, value in model_params.items():\n",
    "        trainable_params.append(value[0]) \n",
    "        all_params.append(value[1])\n",
    "    \n",
    "    metrics_df = pd.DataFrame(columns=cfgs, index=['accuracy','f1', 'trainable_params', 'all_params'])\n",
    "    metrics_df.loc['accuracy'] = test_accuracy\n",
    "    metrics_df.loc['f1'] = test_f1\n",
    "    metrics_df.loc['trainable_params'] = trainable_params\n",
    "    metrics_df.loc['all_params'] = all_params\n",
    "    return metrics_df"
   ]
  },
  {
   "cell_type": "code",
   "execution_count": 55,
   "id": "47cea38f-16a0-4866-b0bd-72591bb3bb3a",
   "metadata": {},
   "outputs": [
    {
     "data": {
      "text/html": [
       "<div>\n",
       "<style scoped>\n",
       "    .dataframe tbody tr th:only-of-type {\n",
       "        vertical-align: middle;\n",
       "    }\n",
       "\n",
       "    .dataframe tbody tr th {\n",
       "        vertical-align: top;\n",
       "    }\n",
       "\n",
       "    .dataframe thead th {\n",
       "        text-align: right;\n",
       "    }\n",
       "</style>\n",
       "<table border=\"1\" class=\"dataframe\">\n",
       "  <thead>\n",
       "    <tr style=\"text-align: right;\">\n",
       "      <th></th>\n",
       "      <th>pretrain</th>\n",
       "      <th>q_r1_s1</th>\n",
       "      <th>v_r1_s1</th>\n",
       "      <th>q_v_r1_s1</th>\n",
       "      <th>q_v_k_o_r1_s1</th>\n",
       "    </tr>\n",
       "  </thead>\n",
       "  <tbody>\n",
       "    <tr>\n",
       "      <th>accuracy</th>\n",
       "      <td>0.408588</td>\n",
       "      <td>0.934099</td>\n",
       "      <td>0.929209</td>\n",
       "      <td>0.940264</td>\n",
       "      <td>0.937713</td>\n",
       "    </tr>\n",
       "    <tr>\n",
       "      <th>f1</th>\n",
       "      <td>0.425754</td>\n",
       "      <td>0.934445</td>\n",
       "      <td>0.929516</td>\n",
       "      <td>0.940322</td>\n",
       "      <td>0.937826</td>\n",
       "    </tr>\n",
       "    <tr>\n",
       "      <th>trainable_params</th>\n",
       "      <td>66955010</td>\n",
       "      <td>601346</td>\n",
       "      <td>601346</td>\n",
       "      <td>610562</td>\n",
       "      <td>628994</td>\n",
       "    </tr>\n",
       "    <tr>\n",
       "      <th>all_params</th>\n",
       "      <td>66955010</td>\n",
       "      <td>67556356</td>\n",
       "      <td>67556356</td>\n",
       "      <td>67565572</td>\n",
       "      <td>67584004</td>\n",
       "    </tr>\n",
       "  </tbody>\n",
       "</table>\n",
       "</div>"
      ],
      "text/plain": [
       "                  pretrain   q_r1_s1   v_r1_s1 q_v_r1_s1 q_v_k_o_r1_s1\n",
       "accuracy          0.408588  0.934099  0.929209  0.940264      0.937713\n",
       "f1                0.425754  0.934445  0.929516  0.940322      0.937826\n",
       "trainable_params  66955010    601346    601346    610562        628994\n",
       "all_params        66955010  67556356  67556356  67565572      67584004"
      ]
     },
     "execution_count": 55,
     "metadata": {},
     "output_type": "execute_result"
    }
   ],
   "source": [
    "compare_metrics(test_metrics, model_params)"
   ]
  },
  {
   "cell_type": "code",
   "execution_count": 56,
   "id": "2acbe91d-7dc8-4fc9-a812-ad8d1df35b5c",
   "metadata": {},
   "outputs": [],
   "source": [
    "# Keep the best of different target_modules\n",
    "test_metrics_n = {}\n",
    "test_metrics_n['pretrain']  = test_metrics['pretrain'] \n",
    "test_metrics_n['q_v_r1_s1'] = test_metrics['q_v_r1_s1']\n",
    "\n",
    "model_params_n = {}\n",
    "model_params_n['pretrain']  = model_params['pretrain'] \n",
    "model_params_n['q_v_r1_s1'] = model_params['q_v_r1_s1']\n",
    "\n",
    "test_metrics = test_metrics_n\n",
    "model_params = model_params_n"
   ]
  },
  {
   "cell_type": "code",
   "execution_count": 57,
   "id": "184997c0-54e8-44ff-a42e-af1f9ae41a4d",
   "metadata": {},
   "outputs": [],
   "source": [
    "# Create a PEFT model for a new lora config\n",
    "\n",
    "# format of cfg_name is targetmodules_rank_scale\n",
    "cfg_name = \"q_v_r1_s2\"\n",
    "out_dir = os.path.join('submission', cfg_name)\n",
    "log_dir = os.path.join(out_dir, 'logs')\n",
    "\n",
    "if b_train:    \n",
    "    # Lora config with rank 1, additional tgt modules\n",
    "    lora_config = LoraConfig(\n",
    "        task_type=TaskType.SEQ_CLS, r=1, target_modules=[\"q_lin\", \"v_lin\"], bias=\"none\", lora_alpha=2, lora_dropout=0.2\n",
    "    )\n",
    "    \n",
    "    trainer, _, _ = train_eval_setup(model_name, tokenized_ds, device, training_args, out_dir, log_dir, lora_config=lora_config)"
   ]
  },
  {
   "cell_type": "code",
   "execution_count": 58,
   "id": "378d5b22-7427-4083-8007-785cdf929406",
   "metadata": {},
   "outputs": [
    {
     "name": "stderr",
     "output_type": "stream",
     "text": [
      "/usr/lib/python3/dist-packages/torch/nn/parallel/_functions.py:68: UserWarning: Was asked to gather along dimension 0, but all input tensors were scalars; will instead unsqueeze and return a vector.\n",
      "  warnings.warn('Was asked to gather along dimension 0, but all '\n"
     ]
    },
    {
     "data": {
      "text/html": [
       "\n",
       "    <div>\n",
       "      \n",
       "      <progress value='2352' max='2352' style='width:300px; height:20px; vertical-align: middle;'></progress>\n",
       "      [2352/2352 04:26, Epoch 16/16]\n",
       "    </div>\n",
       "    <table border=\"1\" class=\"dataframe\">\n",
       "  <thead>\n",
       " <tr style=\"text-align: left;\">\n",
       "      <th>Epoch</th>\n",
       "      <th>Training Loss</th>\n",
       "      <th>Validation Loss</th>\n",
       "      <th>Accuracy</th>\n",
       "      <th>F1</th>\n",
       "    </tr>\n",
       "  </thead>\n",
       "  <tbody>\n",
       "    <tr>\n",
       "      <td>1</td>\n",
       "      <td>0.278500</td>\n",
       "      <td>0.221551</td>\n",
       "      <td>0.913654</td>\n",
       "      <td>0.912874</td>\n",
       "    </tr>\n",
       "    <tr>\n",
       "      <td>2</td>\n",
       "      <td>0.160300</td>\n",
       "      <td>0.189012</td>\n",
       "      <td>0.925989</td>\n",
       "      <td>0.925541</td>\n",
       "    </tr>\n",
       "    <tr>\n",
       "      <td>3</td>\n",
       "      <td>0.145100</td>\n",
       "      <td>0.184371</td>\n",
       "      <td>0.920885</td>\n",
       "      <td>0.922102</td>\n",
       "    </tr>\n",
       "    <tr>\n",
       "      <td>4</td>\n",
       "      <td>0.167600</td>\n",
       "      <td>0.170833</td>\n",
       "      <td>0.933645</td>\n",
       "      <td>0.933031</td>\n",
       "    </tr>\n",
       "    <tr>\n",
       "      <td>5</td>\n",
       "      <td>0.147000</td>\n",
       "      <td>0.166430</td>\n",
       "      <td>0.933220</td>\n",
       "      <td>0.933828</td>\n",
       "    </tr>\n",
       "    <tr>\n",
       "      <td>6</td>\n",
       "      <td>0.157700</td>\n",
       "      <td>0.157723</td>\n",
       "      <td>0.937473</td>\n",
       "      <td>0.937512</td>\n",
       "    </tr>\n",
       "    <tr>\n",
       "      <td>7</td>\n",
       "      <td>0.209700</td>\n",
       "      <td>0.159685</td>\n",
       "      <td>0.937048</td>\n",
       "      <td>0.936807</td>\n",
       "    </tr>\n",
       "    <tr>\n",
       "      <td>8</td>\n",
       "      <td>0.165000</td>\n",
       "      <td>0.174859</td>\n",
       "      <td>0.928966</td>\n",
       "      <td>0.929909</td>\n",
       "    </tr>\n",
       "    <tr>\n",
       "      <td>9</td>\n",
       "      <td>0.112500</td>\n",
       "      <td>0.159962</td>\n",
       "      <td>0.938749</td>\n",
       "      <td>0.938899</td>\n",
       "    </tr>\n",
       "    <tr>\n",
       "      <td>10</td>\n",
       "      <td>0.105000</td>\n",
       "      <td>0.164365</td>\n",
       "      <td>0.940026</td>\n",
       "      <td>0.939861</td>\n",
       "    </tr>\n",
       "    <tr>\n",
       "      <td>11</td>\n",
       "      <td>0.068100</td>\n",
       "      <td>0.163107</td>\n",
       "      <td>0.939175</td>\n",
       "      <td>0.939572</td>\n",
       "    </tr>\n",
       "    <tr>\n",
       "      <td>12</td>\n",
       "      <td>0.081500</td>\n",
       "      <td>0.155198</td>\n",
       "      <td>0.944704</td>\n",
       "      <td>0.944516</td>\n",
       "    </tr>\n",
       "    <tr>\n",
       "      <td>13</td>\n",
       "      <td>0.150500</td>\n",
       "      <td>0.160635</td>\n",
       "      <td>0.940451</td>\n",
       "      <td>0.940668</td>\n",
       "    </tr>\n",
       "    <tr>\n",
       "      <td>14</td>\n",
       "      <td>0.123300</td>\n",
       "      <td>0.159733</td>\n",
       "      <td>0.943003</td>\n",
       "      <td>0.943210</td>\n",
       "    </tr>\n",
       "    <tr>\n",
       "      <td>15</td>\n",
       "      <td>0.043000</td>\n",
       "      <td>0.159384</td>\n",
       "      <td>0.944704</td>\n",
       "      <td>0.944704</td>\n",
       "    </tr>\n",
       "    <tr>\n",
       "      <td>16</td>\n",
       "      <td>0.151800</td>\n",
       "      <td>0.161551</td>\n",
       "      <td>0.944704</td>\n",
       "      <td>0.944862</td>\n",
       "    </tr>\n",
       "  </tbody>\n",
       "</table><p>"
      ],
      "text/plain": [
       "<IPython.core.display.HTML object>"
      ]
     },
     "metadata": {},
     "output_type": "display_data"
    },
    {
     "name": "stderr",
     "output_type": "stream",
     "text": [
      "/usr/lib/python3/dist-packages/torch/nn/parallel/_functions.py:68: UserWarning: Was asked to gather along dimension 0, but all input tensors were scalars; will instead unsqueeze and return a vector.\n",
      "  warnings.warn('Was asked to gather along dimension 0, but all '\n",
      "/usr/lib/python3/dist-packages/torch/nn/parallel/_functions.py:68: UserWarning: Was asked to gather along dimension 0, but all input tensors were scalars; will instead unsqueeze and return a vector.\n",
      "  warnings.warn('Was asked to gather along dimension 0, but all '\n",
      "/usr/lib/python3/dist-packages/torch/nn/parallel/_functions.py:68: UserWarning: Was asked to gather along dimension 0, but all input tensors were scalars; will instead unsqueeze and return a vector.\n",
      "  warnings.warn('Was asked to gather along dimension 0, but all '\n",
      "/usr/lib/python3/dist-packages/torch/nn/parallel/_functions.py:68: UserWarning: Was asked to gather along dimension 0, but all input tensors were scalars; will instead unsqueeze and return a vector.\n",
      "  warnings.warn('Was asked to gather along dimension 0, but all '\n",
      "/usr/lib/python3/dist-packages/torch/nn/parallel/_functions.py:68: UserWarning: Was asked to gather along dimension 0, but all input tensors were scalars; will instead unsqueeze and return a vector.\n",
      "  warnings.warn('Was asked to gather along dimension 0, but all '\n",
      "/usr/lib/python3/dist-packages/torch/nn/parallel/_functions.py:68: UserWarning: Was asked to gather along dimension 0, but all input tensors were scalars; will instead unsqueeze and return a vector.\n",
      "  warnings.warn('Was asked to gather along dimension 0, but all '\n",
      "/usr/lib/python3/dist-packages/torch/nn/parallel/_functions.py:68: UserWarning: Was asked to gather along dimension 0, but all input tensors were scalars; will instead unsqueeze and return a vector.\n",
      "  warnings.warn('Was asked to gather along dimension 0, but all '\n",
      "/usr/lib/python3/dist-packages/torch/nn/parallel/_functions.py:68: UserWarning: Was asked to gather along dimension 0, but all input tensors were scalars; will instead unsqueeze and return a vector.\n",
      "  warnings.warn('Was asked to gather along dimension 0, but all '\n",
      "/usr/lib/python3/dist-packages/torch/nn/parallel/_functions.py:68: UserWarning: Was asked to gather along dimension 0, but all input tensors were scalars; will instead unsqueeze and return a vector.\n",
      "  warnings.warn('Was asked to gather along dimension 0, but all '\n",
      "/usr/lib/python3/dist-packages/torch/nn/parallel/_functions.py:68: UserWarning: Was asked to gather along dimension 0, but all input tensors were scalars; will instead unsqueeze and return a vector.\n",
      "  warnings.warn('Was asked to gather along dimension 0, but all '\n",
      "/usr/lib/python3/dist-packages/torch/nn/parallel/_functions.py:68: UserWarning: Was asked to gather along dimension 0, but all input tensors were scalars; will instead unsqueeze and return a vector.\n",
      "  warnings.warn('Was asked to gather along dimension 0, but all '\n",
      "/usr/lib/python3/dist-packages/torch/nn/parallel/_functions.py:68: UserWarning: Was asked to gather along dimension 0, but all input tensors were scalars; will instead unsqueeze and return a vector.\n",
      "  warnings.warn('Was asked to gather along dimension 0, but all '\n",
      "/usr/lib/python3/dist-packages/torch/nn/parallel/_functions.py:68: UserWarning: Was asked to gather along dimension 0, but all input tensors were scalars; will instead unsqueeze and return a vector.\n",
      "  warnings.warn('Was asked to gather along dimension 0, but all '\n",
      "/usr/lib/python3/dist-packages/torch/nn/parallel/_functions.py:68: UserWarning: Was asked to gather along dimension 0, but all input tensors were scalars; will instead unsqueeze and return a vector.\n",
      "  warnings.warn('Was asked to gather along dimension 0, but all '\n",
      "/usr/lib/python3/dist-packages/torch/nn/parallel/_functions.py:68: UserWarning: Was asked to gather along dimension 0, but all input tensors were scalars; will instead unsqueeze and return a vector.\n",
      "  warnings.warn('Was asked to gather along dimension 0, but all '\n"
     ]
    }
   ],
   "source": [
    "# Train and save the PEFT model\n",
    "\n",
    "if b_train:\n",
    "    if b_accelerator:\n",
    "        trainer = accelerator.prepare(trainer)\n",
    "    \n",
    "    trainer.train()\n",
    "    trainer.save_model(out_dir)\n",
    "    trainer.save_state()"
   ]
  },
  {
   "cell_type": "code",
   "execution_count": 59,
   "id": "dc390179-d65d-4096-8139-69df626edef0",
   "metadata": {},
   "outputs": [
    {
     "data": {
      "image/png": "[encoded data removed]",
      "text/plain": [
       "<Figure size 1296x432 with 2 Axes>"
      ]
     },
     "metadata": {
      "needs_background": "light"
     },
     "output_type": "display_data"
    }
   ],
   "source": [
    "if b_train:\n",
    "    batch_step = len(tokenized_ds['train'])/(trainer.args._n_gpu*batch_size)\n",
    "    batch_step = int(round(batch_step+0.5))\n",
    "\n",
    "    plot_train_log_history(trainer.state.log_history, num_epochs, batch_step)"
   ]
  },
  {
   "cell_type": "code",
   "execution_count": 60,
   "id": "82a51a9e-20fc-4c55-bd52-3b26b8a58897",
   "metadata": {},
   "outputs": [],
   "source": [
    "# Load the saved PEFT model\n",
    "\n",
    "trainer, trainable_params, all_param = train_eval_setup(out_dir, tokenized_ds, device, training_args, out_dir, log_dir, lora_config=None)\n",
    "model_params[cfg_name] = [trainable_params, all_param]"
   ]
  },
  {
   "cell_type": "code",
   "execution_count": 61,
   "id": "5321156b-2deb-4895-8168-9cedb753401f",
   "metadata": {},
   "outputs": [
    {
     "name": "stderr",
     "output_type": "stream",
     "text": [
      "/usr/lib/python3/dist-packages/torch/nn/parallel/_functions.py:68: UserWarning: Was asked to gather along dimension 0, but all input tensors were scalars; will instead unsqueeze and return a vector.\n",
      "  warnings.warn('Was asked to gather along dimension 0, but all '\n"
     ]
    },
    {
     "data": {
      "text/html": [],
      "text/plain": [
       "<IPython.core.display.HTML object>"
      ]
     },
     "metadata": {},
     "output_type": "display_data"
    },
    {
     "data": {
      "text/plain": [
       "{'test_loss': 0.1594163477420807,\n",
       " 'test_accuracy': 0.9409013605442177,\n",
       " 'test_f1': 0.9408365326840393,\n",
       " 'test_runtime': 2.2337,\n",
       " 'test_samples_per_second': 2105.886,\n",
       " 'test_steps_per_second': 16.564}"
      ]
     },
     "execution_count": 61,
     "metadata": {},
     "output_type": "execute_result"
    }
   ],
   "source": [
    "# Evaluate the fine-tuned model\n",
    "\n",
    "preds_val_test = trainer.predict(tokenized_ds[\"val_test\"])\n",
    "test_metrics[cfg_name] = preds_val_test.metrics\n",
    "\n",
    "preds_val_test.metrics"
   ]
  },
  {
   "cell_type": "code",
   "execution_count": 62,
   "id": "d499c081-2b4d-4b47-bef4-fa75a5dedd7f",
   "metadata": {},
   "outputs": [
    {
     "data": {
      "image/png": "[encoded data removed]",
      "text/plain": [
       "<Figure size 432x432 with 1 Axes>"
      ]
     },
     "metadata": {
      "needs_background": "light"
     },
     "output_type": "display_data"
    }
   ],
   "source": [
    "preds_val_test = np.argmax(preds_val_test.predictions, axis=1)\n",
    "\n",
    "plot_confusion_matrix([preds_val_test], [ds['val_test']['label']], labels)"
   ]
  },
  {
   "cell_type": "code",
   "execution_count": 63,
   "id": "b576b190-144e-49d2-a452-91d098330aaa",
   "metadata": {},
   "outputs": [
    {
     "name": "stdout",
     "output_type": "stream",
     "text": [
      "              precision    recall  f1-score   support\n",
      "\n",
      "           0       0.96      0.96      0.96      3343\n",
      "           1       0.90      0.89      0.90      1361\n",
      "\n",
      "    accuracy                           0.94      4704\n",
      "   macro avg       0.93      0.93      0.93      4704\n",
      "weighted avg       0.94      0.94      0.94      4704\n",
      "\n"
     ]
    }
   ],
   "source": [
    "report_val_test = classification_report(ds['val_test']['label'], preds_val_test)\n",
    "print(report_val_test)"
   ]
  },
  {
   "cell_type": "code",
   "execution_count": 64,
   "id": "a117ad29-939e-4bd6-bb6d-d6b8a1a39f32",
   "metadata": {},
   "outputs": [],
   "source": [
    "# Create a PEFT model for a new lora config\n",
    "\n",
    "# format of cfg_name is targetmodules_rank_scale\n",
    "cfg_name = \"q_v_r4_s1\"\n",
    "out_dir = os.path.join('submission', cfg_name)\n",
    "log_dir = os.path.join(out_dir, 'logs')\n",
    "\n",
    "if b_train:    \n",
    "    # Lora config with rank 4, additional tgt modules\n",
    "    lora_config = LoraConfig(\n",
    "        task_type=TaskType.SEQ_CLS, r=4, target_modules=[\"q_lin\", \"v_lin\"], bias=\"none\", lora_alpha=4, lora_dropout=0.2\n",
    "    )\n",
    "    \n",
    "    trainer, _, _ = train_eval_setup(model_name, tokenized_ds, device, training_args, out_dir, log_dir, lora_config=lora_config)"
   ]
  },
  {
   "cell_type": "code",
   "execution_count": 65,
   "id": "2b860fac-8039-4cd4-b8c7-cb07776d8c8d",
   "metadata": {},
   "outputs": [
    {
     "name": "stderr",
     "output_type": "stream",
     "text": [
      "/usr/lib/python3/dist-packages/torch/nn/parallel/_functions.py:68: UserWarning: Was asked to gather along dimension 0, but all input tensors were scalars; will instead unsqueeze and return a vector.\n",
      "  warnings.warn('Was asked to gather along dimension 0, but all '\n"
     ]
    },
    {
     "data": {
      "text/html": [
       "\n",
       "    <div>\n",
       "      \n",
       "      <progress value='2352' max='2352' style='width:300px; height:20px; vertical-align: middle;'></progress>\n",
       "      [2352/2352 04:31, Epoch 16/16]\n",
       "    </div>\n",
       "    <table border=\"1\" class=\"dataframe\">\n",
       "  <thead>\n",
       " <tr style=\"text-align: left;\">\n",
       "      <th>Epoch</th>\n",
       "      <th>Training Loss</th>\n",
       "      <th>Validation Loss</th>\n",
       "      <th>Accuracy</th>\n",
       "      <th>F1</th>\n",
       "    </tr>\n",
       "  </thead>\n",
       "  <tbody>\n",
       "    <tr>\n",
       "      <td>1</td>\n",
       "      <td>0.261500</td>\n",
       "      <td>0.206188</td>\n",
       "      <td>0.913228</td>\n",
       "      <td>0.912050</td>\n",
       "    </tr>\n",
       "    <tr>\n",
       "      <td>2</td>\n",
       "      <td>0.131200</td>\n",
       "      <td>0.178700</td>\n",
       "      <td>0.928966</td>\n",
       "      <td>0.928981</td>\n",
       "    </tr>\n",
       "    <tr>\n",
       "      <td>3</td>\n",
       "      <td>0.122600</td>\n",
       "      <td>0.172892</td>\n",
       "      <td>0.921735</td>\n",
       "      <td>0.922864</td>\n",
       "    </tr>\n",
       "    <tr>\n",
       "      <td>4</td>\n",
       "      <td>0.152600</td>\n",
       "      <td>0.159817</td>\n",
       "      <td>0.936623</td>\n",
       "      <td>0.935931</td>\n",
       "    </tr>\n",
       "    <tr>\n",
       "      <td>5</td>\n",
       "      <td>0.122600</td>\n",
       "      <td>0.149575</td>\n",
       "      <td>0.941302</td>\n",
       "      <td>0.941515</td>\n",
       "    </tr>\n",
       "    <tr>\n",
       "      <td>6</td>\n",
       "      <td>0.131200</td>\n",
       "      <td>0.146070</td>\n",
       "      <td>0.943854</td>\n",
       "      <td>0.943969</td>\n",
       "    </tr>\n",
       "    <tr>\n",
       "      <td>7</td>\n",
       "      <td>0.175000</td>\n",
       "      <td>0.146472</td>\n",
       "      <td>0.941727</td>\n",
       "      <td>0.941491</td>\n",
       "    </tr>\n",
       "    <tr>\n",
       "      <td>8</td>\n",
       "      <td>0.174300</td>\n",
       "      <td>0.155573</td>\n",
       "      <td>0.937048</td>\n",
       "      <td>0.937655</td>\n",
       "    </tr>\n",
       "    <tr>\n",
       "      <td>9</td>\n",
       "      <td>0.081900</td>\n",
       "      <td>0.154581</td>\n",
       "      <td>0.941727</td>\n",
       "      <td>0.941763</td>\n",
       "    </tr>\n",
       "    <tr>\n",
       "      <td>10</td>\n",
       "      <td>0.050600</td>\n",
       "      <td>0.155016</td>\n",
       "      <td>0.942578</td>\n",
       "      <td>0.942752</td>\n",
       "    </tr>\n",
       "    <tr>\n",
       "      <td>11</td>\n",
       "      <td>0.049800</td>\n",
       "      <td>0.163109</td>\n",
       "      <td>0.938749</td>\n",
       "      <td>0.939362</td>\n",
       "    </tr>\n",
       "    <tr>\n",
       "      <td>12</td>\n",
       "      <td>0.050300</td>\n",
       "      <td>0.154809</td>\n",
       "      <td>0.945980</td>\n",
       "      <td>0.946014</td>\n",
       "    </tr>\n",
       "    <tr>\n",
       "      <td>13</td>\n",
       "      <td>0.125600</td>\n",
       "      <td>0.159062</td>\n",
       "      <td>0.943854</td>\n",
       "      <td>0.943969</td>\n",
       "    </tr>\n",
       "    <tr>\n",
       "      <td>14</td>\n",
       "      <td>0.085300</td>\n",
       "      <td>0.161487</td>\n",
       "      <td>0.943854</td>\n",
       "      <td>0.944209</td>\n",
       "    </tr>\n",
       "    <tr>\n",
       "      <td>15</td>\n",
       "      <td>0.027800</td>\n",
       "      <td>0.160670</td>\n",
       "      <td>0.944279</td>\n",
       "      <td>0.944359</td>\n",
       "    </tr>\n",
       "    <tr>\n",
       "      <td>16</td>\n",
       "      <td>0.121900</td>\n",
       "      <td>0.162483</td>\n",
       "      <td>0.944279</td>\n",
       "      <td>0.944471</td>\n",
       "    </tr>\n",
       "  </tbody>\n",
       "</table><p>"
      ],
      "text/plain": [
       "<IPython.core.display.HTML object>"
      ]
     },
     "metadata": {},
     "output_type": "display_data"
    },
    {
     "name": "stderr",
     "output_type": "stream",
     "text": [
      "/usr/lib/python3/dist-packages/torch/nn/parallel/_functions.py:68: UserWarning: Was asked to gather along dimension 0, but all input tensors were scalars; will instead unsqueeze and return a vector.\n",
      "  warnings.warn('Was asked to gather along dimension 0, but all '\n",
      "/usr/lib/python3/dist-packages/torch/nn/parallel/_functions.py:68: UserWarning: Was asked to gather along dimension 0, but all input tensors were scalars; will instead unsqueeze and return a vector.\n",
      "  warnings.warn('Was asked to gather along dimension 0, but all '\n",
      "/usr/lib/python3/dist-packages/torch/nn/parallel/_functions.py:68: UserWarning: Was asked to gather along dimension 0, but all input tensors were scalars; will instead unsqueeze and return a vector.\n",
      "  warnings.warn('Was asked to gather along dimension 0, but all '\n",
      "/usr/lib/python3/dist-packages/torch/nn/parallel/_functions.py:68: UserWarning: Was asked to gather along dimension 0, but all input tensors were scalars; will instead unsqueeze and return a vector.\n",
      "  warnings.warn('Was asked to gather along dimension 0, but all '\n",
      "/usr/lib/python3/dist-packages/torch/nn/parallel/_functions.py:68: UserWarning: Was asked to gather along dimension 0, but all input tensors were scalars; will instead unsqueeze and return a vector.\n",
      "  warnings.warn('Was asked to gather along dimension 0, but all '\n",
      "/usr/lib/python3/dist-packages/torch/nn/parallel/_functions.py:68: UserWarning: Was asked to gather along dimension 0, but all input tensors were scalars; will instead unsqueeze and return a vector.\n",
      "  warnings.warn('Was asked to gather along dimension 0, but all '\n",
      "/usr/lib/python3/dist-packages/torch/nn/parallel/_functions.py:68: UserWarning: Was asked to gather along dimension 0, but all input tensors were scalars; will instead unsqueeze and return a vector.\n",
      "  warnings.warn('Was asked to gather along dimension 0, but all '\n",
      "/usr/lib/python3/dist-packages/torch/nn/parallel/_functions.py:68: UserWarning: Was asked to gather along dimension 0, but all input tensors were scalars; will instead unsqueeze and return a vector.\n",
      "  warnings.warn('Was asked to gather along dimension 0, but all '\n",
      "/usr/lib/python3/dist-packages/torch/nn/parallel/_functions.py:68: UserWarning: Was asked to gather along dimension 0, but all input tensors were scalars; will instead unsqueeze and return a vector.\n",
      "  warnings.warn('Was asked to gather along dimension 0, but all '\n",
      "/usr/lib/python3/dist-packages/torch/nn/parallel/_functions.py:68: UserWarning: Was asked to gather along dimension 0, but all input tensors were scalars; will instead unsqueeze and return a vector.\n",
      "  warnings.warn('Was asked to gather along dimension 0, but all '\n",
      "/usr/lib/python3/dist-packages/torch/nn/parallel/_functions.py:68: UserWarning: Was asked to gather along dimension 0, but all input tensors were scalars; will instead unsqueeze and return a vector.\n",
      "  warnings.warn('Was asked to gather along dimension 0, but all '\n",
      "/usr/lib/python3/dist-packages/torch/nn/parallel/_functions.py:68: UserWarning: Was asked to gather along dimension 0, but all input tensors were scalars; will instead unsqueeze and return a vector.\n",
      "  warnings.warn('Was asked to gather along dimension 0, but all '\n",
      "/usr/lib/python3/dist-packages/torch/nn/parallel/_functions.py:68: UserWarning: Was asked to gather along dimension 0, but all input tensors were scalars; will instead unsqueeze and return a vector.\n",
      "  warnings.warn('Was asked to gather along dimension 0, but all '\n",
      "/usr/lib/python3/dist-packages/torch/nn/parallel/_functions.py:68: UserWarning: Was asked to gather along dimension 0, but all input tensors were scalars; will instead unsqueeze and return a vector.\n",
      "  warnings.warn('Was asked to gather along dimension 0, but all '\n",
      "/usr/lib/python3/dist-packages/torch/nn/parallel/_functions.py:68: UserWarning: Was asked to gather along dimension 0, but all input tensors were scalars; will instead unsqueeze and return a vector.\n",
      "  warnings.warn('Was asked to gather along dimension 0, but all '\n"
     ]
    }
   ],
   "source": [
    "# Train and save the PEFT model\n",
    "\n",
    "if b_train:\n",
    "    if b_accelerator:\n",
    "        trainer = accelerator.prepare(trainer)\n",
    "    \n",
    "    trainer.train()\n",
    "    trainer.save_model(out_dir)\n",
    "    trainer.save_state()"
   ]
  },
  {
   "cell_type": "code",
   "execution_count": 66,
   "id": "00f6b4ce-323f-4fcb-8f5f-e703c5d14ae8",
   "metadata": {},
   "outputs": [
    {
     "data": {
      "image/png": "[encoded data removed]",
      "text/plain": [
       "<Figure size 1296x432 with 2 Axes>"
      ]
     },
     "metadata": {
      "needs_background": "light"
     },
     "output_type": "display_data"
    }
   ],
   "source": [
    "if b_train:\n",
    "    batch_step = len(tokenized_ds['train'])/(trainer.args._n_gpu*batch_size)\n",
    "    batch_step = int(round(batch_step+0.5))\n",
    "\n",
    "    plot_train_log_history(trainer.state.log_history, num_epochs, batch_step)"
   ]
  },
  {
   "cell_type": "code",
   "execution_count": 67,
   "id": "9da24c3f-cc77-44b8-b782-729c24e74cfe",
   "metadata": {},
   "outputs": [],
   "source": [
    "# Load the saved PEFT model\n",
    "\n",
    "trainer, trainable_params, all_param = train_eval_setup(out_dir, tokenized_ds, device, training_args, out_dir, log_dir, lora_config=None)\n",
    "model_params[cfg_name] = [trainable_params, all_param]"
   ]
  },
  {
   "cell_type": "code",
   "execution_count": 68,
   "id": "b18f6b02-828e-4a9a-a8e8-db76a333f4fd",
   "metadata": {},
   "outputs": [
    {
     "name": "stderr",
     "output_type": "stream",
     "text": [
      "/usr/lib/python3/dist-packages/torch/nn/parallel/_functions.py:68: UserWarning: Was asked to gather along dimension 0, but all input tensors were scalars; will instead unsqueeze and return a vector.\n",
      "  warnings.warn('Was asked to gather along dimension 0, but all '\n"
     ]
    },
    {
     "data": {
      "text/html": [],
      "text/plain": [
       "<IPython.core.display.HTML object>"
      ]
     },
     "metadata": {},
     "output_type": "display_data"
    },
    {
     "data": {
      "text/plain": [
       "{'test_loss': 0.15624122321605682,\n",
       " 'test_accuracy': 0.9398384353741497,\n",
       " 'test_f1': 0.940086842725782,\n",
       " 'test_runtime': 2.1097,\n",
       " 'test_samples_per_second': 2229.673,\n",
       " 'test_steps_per_second': 17.538}"
      ]
     },
     "execution_count": 68,
     "metadata": {},
     "output_type": "execute_result"
    }
   ],
   "source": [
    "# Evaluate the fine-tuned model\n",
    "\n",
    "preds_val_test = trainer.predict(tokenized_ds[\"val_test\"])\n",
    "test_metrics[cfg_name] = preds_val_test.metrics\n",
    "\n",
    "preds_val_test.metrics"
   ]
  },
  {
   "cell_type": "code",
   "execution_count": 69,
   "id": "b0c2aaa9-5485-4dde-af43-ce903b8bd56f",
   "metadata": {},
   "outputs": [
    {
     "data": {
      "image/png": "[encoded data removed]",
      "text/plain": [
       "<Figure size 432x432 with 1 Axes>"
      ]
     },
     "metadata": {
      "needs_background": "light"
     },
     "output_type": "display_data"
    }
   ],
   "source": [
    "preds_val_test = np.argmax(preds_val_test.predictions, axis=1)\n",
    "\n",
    "plot_confusion_matrix([preds_val_test], [ds['val_test']['label']], labels)"
   ]
  },
  {
   "cell_type": "code",
   "execution_count": 70,
   "id": "36258c2d-75c1-4b95-9e73-0e90e79dcf41",
   "metadata": {},
   "outputs": [
    {
     "name": "stdout",
     "output_type": "stream",
     "text": [
      "              precision    recall  f1-score   support\n",
      "\n",
      "           0       0.96      0.95      0.96      3343\n",
      "           1       0.89      0.91      0.90      1361\n",
      "\n",
      "    accuracy                           0.94      4704\n",
      "   macro avg       0.92      0.93      0.93      4704\n",
      "weighted avg       0.94      0.94      0.94      4704\n",
      "\n"
     ]
    }
   ],
   "source": [
    "report_val_test = classification_report(ds['val_test']['label'], preds_val_test)\n",
    "print(report_val_test)"
   ]
  },
  {
   "cell_type": "code",
   "execution_count": 71,
   "id": "f292381c-1111-47b3-82ef-55d5cbede687",
   "metadata": {},
   "outputs": [],
   "source": [
    "# Create a PEFT model for a new lora config\n",
    "\n",
    "# format of cfg_name is targetmodules_rank_scale\n",
    "cfg_name = \"q_v_r8_s1\"\n",
    "out_dir = os.path.join('submission', cfg_name)\n",
    "log_dir = os.path.join(out_dir, 'logs')\n",
    "\n",
    "if b_train:    \n",
    "    # Lora config with rank 8, additional tgt modules\n",
    "    lora_config = LoraConfig(\n",
    "        task_type=TaskType.SEQ_CLS, r=8, target_modules=[\"q_lin\", \"v_lin\"], bias=\"none\", lora_alpha=8, lora_dropout=0.2\n",
    "    )\n",
    "    \n",
    "    trainer, _, _ = train_eval_setup(model_name, tokenized_ds, device, training_args, out_dir, log_dir, lora_config=lora_config)"
   ]
  },
  {
   "cell_type": "code",
   "execution_count": 72,
   "id": "3f3444b1-d6d1-4969-8556-e1030451b1b0",
   "metadata": {},
   "outputs": [
    {
     "name": "stderr",
     "output_type": "stream",
     "text": [
      "/usr/lib/python3/dist-packages/torch/nn/parallel/_functions.py:68: UserWarning: Was asked to gather along dimension 0, but all input tensors were scalars; will instead unsqueeze and return a vector.\n",
      "  warnings.warn('Was asked to gather along dimension 0, but all '\n"
     ]
    },
    {
     "data": {
      "text/html": [
       "\n",
       "    <div>\n",
       "      \n",
       "      <progress value='2352' max='2352' style='width:300px; height:20px; vertical-align: middle;'></progress>\n",
       "      [2352/2352 04:35, Epoch 16/16]\n",
       "    </div>\n",
       "    <table border=\"1\" class=\"dataframe\">\n",
       "  <thead>\n",
       " <tr style=\"text-align: left;\">\n",
       "      <th>Epoch</th>\n",
       "      <th>Training Loss</th>\n",
       "      <th>Validation Loss</th>\n",
       "      <th>Accuracy</th>\n",
       "      <th>F1</th>\n",
       "    </tr>\n",
       "  </thead>\n",
       "  <tbody>\n",
       "    <tr>\n",
       "      <td>1</td>\n",
       "      <td>0.265400</td>\n",
       "      <td>0.195426</td>\n",
       "      <td>0.920885</td>\n",
       "      <td>0.919964</td>\n",
       "    </tr>\n",
       "    <tr>\n",
       "      <td>2</td>\n",
       "      <td>0.125300</td>\n",
       "      <td>0.172982</td>\n",
       "      <td>0.934496</td>\n",
       "      <td>0.934302</td>\n",
       "    </tr>\n",
       "    <tr>\n",
       "      <td>3</td>\n",
       "      <td>0.124400</td>\n",
       "      <td>0.164181</td>\n",
       "      <td>0.926414</td>\n",
       "      <td>0.927189</td>\n",
       "    </tr>\n",
       "    <tr>\n",
       "      <td>4</td>\n",
       "      <td>0.141100</td>\n",
       "      <td>0.153049</td>\n",
       "      <td>0.945130</td>\n",
       "      <td>0.944785</td>\n",
       "    </tr>\n",
       "    <tr>\n",
       "      <td>5</td>\n",
       "      <td>0.106200</td>\n",
       "      <td>0.152894</td>\n",
       "      <td>0.941302</td>\n",
       "      <td>0.941584</td>\n",
       "    </tr>\n",
       "    <tr>\n",
       "      <td>6</td>\n",
       "      <td>0.117500</td>\n",
       "      <td>0.147092</td>\n",
       "      <td>0.945555</td>\n",
       "      <td>0.945440</td>\n",
       "    </tr>\n",
       "    <tr>\n",
       "      <td>7</td>\n",
       "      <td>0.118300</td>\n",
       "      <td>0.150015</td>\n",
       "      <td>0.948533</td>\n",
       "      <td>0.948770</td>\n",
       "    </tr>\n",
       "    <tr>\n",
       "      <td>8</td>\n",
       "      <td>0.131600</td>\n",
       "      <td>0.157384</td>\n",
       "      <td>0.937899</td>\n",
       "      <td>0.938385</td>\n",
       "    </tr>\n",
       "    <tr>\n",
       "      <td>9</td>\n",
       "      <td>0.091000</td>\n",
       "      <td>0.158663</td>\n",
       "      <td>0.943854</td>\n",
       "      <td>0.943735</td>\n",
       "    </tr>\n",
       "    <tr>\n",
       "      <td>10</td>\n",
       "      <td>0.035400</td>\n",
       "      <td>0.166135</td>\n",
       "      <td>0.944704</td>\n",
       "      <td>0.944970</td>\n",
       "    </tr>\n",
       "    <tr>\n",
       "      <td>11</td>\n",
       "      <td>0.050800</td>\n",
       "      <td>0.175553</td>\n",
       "      <td>0.941727</td>\n",
       "      <td>0.942215</td>\n",
       "    </tr>\n",
       "    <tr>\n",
       "      <td>12</td>\n",
       "      <td>0.031400</td>\n",
       "      <td>0.172797</td>\n",
       "      <td>0.946831</td>\n",
       "      <td>0.946886</td>\n",
       "    </tr>\n",
       "    <tr>\n",
       "      <td>13</td>\n",
       "      <td>0.103800</td>\n",
       "      <td>0.182643</td>\n",
       "      <td>0.947256</td>\n",
       "      <td>0.947591</td>\n",
       "    </tr>\n",
       "    <tr>\n",
       "      <td>14</td>\n",
       "      <td>0.078200</td>\n",
       "      <td>0.187982</td>\n",
       "      <td>0.944279</td>\n",
       "      <td>0.944746</td>\n",
       "    </tr>\n",
       "    <tr>\n",
       "      <td>15</td>\n",
       "      <td>0.008500</td>\n",
       "      <td>0.185529</td>\n",
       "      <td>0.943854</td>\n",
       "      <td>0.944167</td>\n",
       "    </tr>\n",
       "    <tr>\n",
       "      <td>16</td>\n",
       "      <td>0.093200</td>\n",
       "      <td>0.188586</td>\n",
       "      <td>0.944704</td>\n",
       "      <td>0.944992</td>\n",
       "    </tr>\n",
       "  </tbody>\n",
       "</table><p>"
      ],
      "text/plain": [
       "<IPython.core.display.HTML object>"
      ]
     },
     "metadata": {},
     "output_type": "display_data"
    },
    {
     "name": "stderr",
     "output_type": "stream",
     "text": [
      "/usr/lib/python3/dist-packages/torch/nn/parallel/_functions.py:68: UserWarning: Was asked to gather along dimension 0, but all input tensors were scalars; will instead unsqueeze and return a vector.\n",
      "  warnings.warn('Was asked to gather along dimension 0, but all '\n",
      "/usr/lib/python3/dist-packages/torch/nn/parallel/_functions.py:68: UserWarning: Was asked to gather along dimension 0, but all input tensors were scalars; will instead unsqueeze and return a vector.\n",
      "  warnings.warn('Was asked to gather along dimension 0, but all '\n",
      "/usr/lib/python3/dist-packages/torch/nn/parallel/_functions.py:68: UserWarning: Was asked to gather along dimension 0, but all input tensors were scalars; will instead unsqueeze and return a vector.\n",
      "  warnings.warn('Was asked to gather along dimension 0, but all '\n",
      "/usr/lib/python3/dist-packages/torch/nn/parallel/_functions.py:68: UserWarning: Was asked to gather along dimension 0, but all input tensors were scalars; will instead unsqueeze and return a vector.\n",
      "  warnings.warn('Was asked to gather along dimension 0, but all '\n",
      "/usr/lib/python3/dist-packages/torch/nn/parallel/_functions.py:68: UserWarning: Was asked to gather along dimension 0, but all input tensors were scalars; will instead unsqueeze and return a vector.\n",
      "  warnings.warn('Was asked to gather along dimension 0, but all '\n",
      "/usr/lib/python3/dist-packages/torch/nn/parallel/_functions.py:68: UserWarning: Was asked to gather along dimension 0, but all input tensors were scalars; will instead unsqueeze and return a vector.\n",
      "  warnings.warn('Was asked to gather along dimension 0, but all '\n",
      "/usr/lib/python3/dist-packages/torch/nn/parallel/_functions.py:68: UserWarning: Was asked to gather along dimension 0, but all input tensors were scalars; will instead unsqueeze and return a vector.\n",
      "  warnings.warn('Was asked to gather along dimension 0, but all '\n",
      "/usr/lib/python3/dist-packages/torch/nn/parallel/_functions.py:68: UserWarning: Was asked to gather along dimension 0, but all input tensors were scalars; will instead unsqueeze and return a vector.\n",
      "  warnings.warn('Was asked to gather along dimension 0, but all '\n",
      "/usr/lib/python3/dist-packages/torch/nn/parallel/_functions.py:68: UserWarning: Was asked to gather along dimension 0, but all input tensors were scalars; will instead unsqueeze and return a vector.\n",
      "  warnings.warn('Was asked to gather along dimension 0, but all '\n",
      "/usr/lib/python3/dist-packages/torch/nn/parallel/_functions.py:68: UserWarning: Was asked to gather along dimension 0, but all input tensors were scalars; will instead unsqueeze and return a vector.\n",
      "  warnings.warn('Was asked to gather along dimension 0, but all '\n",
      "/usr/lib/python3/dist-packages/torch/nn/parallel/_functions.py:68: UserWarning: Was asked to gather along dimension 0, but all input tensors were scalars; will instead unsqueeze and return a vector.\n",
      "  warnings.warn('Was asked to gather along dimension 0, but all '\n",
      "/usr/lib/python3/dist-packages/torch/nn/parallel/_functions.py:68: UserWarning: Was asked to gather along dimension 0, but all input tensors were scalars; will instead unsqueeze and return a vector.\n",
      "  warnings.warn('Was asked to gather along dimension 0, but all '\n",
      "/usr/lib/python3/dist-packages/torch/nn/parallel/_functions.py:68: UserWarning: Was asked to gather along dimension 0, but all input tensors were scalars; will instead unsqueeze and return a vector.\n",
      "  warnings.warn('Was asked to gather along dimension 0, but all '\n",
      "/usr/lib/python3/dist-packages/torch/nn/parallel/_functions.py:68: UserWarning: Was asked to gather along dimension 0, but all input tensors were scalars; will instead unsqueeze and return a vector.\n",
      "  warnings.warn('Was asked to gather along dimension 0, but all '\n",
      "/usr/lib/python3/dist-packages/torch/nn/parallel/_functions.py:68: UserWarning: Was asked to gather along dimension 0, but all input tensors were scalars; will instead unsqueeze and return a vector.\n",
      "  warnings.warn('Was asked to gather along dimension 0, but all '\n"
     ]
    }
   ],
   "source": [
    "# Train and save the PEFT model\n",
    "\n",
    "if b_train:\n",
    "    if b_accelerator:\n",
    "        trainer = accelerator.prepare(trainer)\n",
    "    \n",
    "    trainer.train()\n",
    "    trainer.save_model(out_dir)\n",
    "    trainer.save_state()"
   ]
  },
  {
   "cell_type": "code",
   "execution_count": 73,
   "id": "343917ef-3cbf-4cdb-9a92-c9b34f48d961",
   "metadata": {},
   "outputs": [
    {
     "data": {
      "image/png": "[encoded data removed]",
      "text/plain": [
       "<Figure size 1296x432 with 2 Axes>"
      ]
     },
     "metadata": {
      "needs_background": "light"
     },
     "output_type": "display_data"
    }
   ],
   "source": [
    "if b_train:\n",
    "    batch_step = len(tokenized_ds['train'])/(trainer.args._n_gpu*batch_size)\n",
    "    batch_step = int(round(batch_step+0.5))\n",
    "\n",
    "    plot_train_log_history(trainer.state.log_history, num_epochs, batch_step)"
   ]
  },
  {
   "cell_type": "code",
   "execution_count": 74,
   "id": "e59eace8-2a33-4d6c-a7f1-3f140bc5a532",
   "metadata": {},
   "outputs": [],
   "source": [
    "# Load the saved PEFT model\n",
    "\n",
    "trainer, trainable_params, all_param = train_eval_setup(out_dir, tokenized_ds, device, training_args, out_dir, log_dir, lora_config=None)\n",
    "model_params[cfg_name] = [trainable_params, all_param]"
   ]
  },
  {
   "cell_type": "code",
   "execution_count": 75,
   "id": "b84ac97e-2a48-40ed-8aac-ad6273b6302b",
   "metadata": {},
   "outputs": [
    {
     "name": "stderr",
     "output_type": "stream",
     "text": [
      "/usr/lib/python3/dist-packages/torch/nn/parallel/_functions.py:68: UserWarning: Was asked to gather along dimension 0, but all input tensors were scalars; will instead unsqueeze and return a vector.\n",
      "  warnings.warn('Was asked to gather along dimension 0, but all '\n"
     ]
    },
    {
     "data": {
      "text/html": [],
      "text/plain": [
       "<IPython.core.display.HTML object>"
      ]
     },
     "metadata": {},
     "output_type": "display_data"
    },
    {
     "data": {
      "text/plain": [
       "{'test_loss': 0.15537989139556885,\n",
       " 'test_accuracy': 0.9415391156462585,\n",
       " 'test_f1': 0.9414814418186288,\n",
       " 'test_runtime': 2.3698,\n",
       " 'test_samples_per_second': 1984.937,\n",
       " 'test_steps_per_second': 15.613}"
      ]
     },
     "execution_count": 75,
     "metadata": {},
     "output_type": "execute_result"
    }
   ],
   "source": [
    "# Evaluate the fine-tuned model\n",
    "\n",
    "preds_val_test = trainer.predict(tokenized_ds[\"val_test\"])\n",
    "test_metrics[cfg_name] = preds_val_test.metrics\n",
    "\n",
    "preds_val_test.metrics"
   ]
  },
  {
   "cell_type": "code",
   "execution_count": 76,
   "id": "733a737f-613d-4984-b4c8-8750b5d387a8",
   "metadata": {},
   "outputs": [
    {
     "data": {
      "image/png": "[encoded data removed]",
      "text/plain": [
       "<Figure size 432x432 with 1 Axes>"
      ]
     },
     "metadata": {
      "needs_background": "light"
     },
     "output_type": "display_data"
    }
   ],
   "source": [
    "preds_val_test = np.argmax(preds_val_test.predictions, axis=1)\n",
    "\n",
    "plot_confusion_matrix([preds_val_test], [ds['val_test']['label']], labels)"
   ]
  },
  {
   "cell_type": "code",
   "execution_count": 77,
   "id": "d0a9e3f1-6acc-4682-b2d0-cb4979170175",
   "metadata": {},
   "outputs": [
    {
     "name": "stdout",
     "output_type": "stream",
     "text": [
      "              precision    recall  f1-score   support\n",
      "\n",
      "           0       0.96      0.96      0.96      3343\n",
      "           1       0.90      0.90      0.90      1361\n",
      "\n",
      "    accuracy                           0.94      4704\n",
      "   macro avg       0.93      0.93      0.93      4704\n",
      "weighted avg       0.94      0.94      0.94      4704\n",
      "\n"
     ]
    }
   ],
   "source": [
    "report_val_test = classification_report(ds['val_test']['label'], preds_val_test)\n",
    "print(report_val_test)"
   ]
  },
  {
   "cell_type": "code",
   "execution_count": 78,
   "id": "08d99ec6-dc35-434d-b0ad-eb8ea36d086f",
   "metadata": {},
   "outputs": [],
   "source": [
    "# Create a PEFT model for a new lora config\n",
    "\n",
    "# format of cfg_name is targetmodules_rank_scale\n",
    "cfg_name = \"q_v_r16_s1\"\n",
    "out_dir = os.path.join('submission', cfg_name)\n",
    "log_dir = os.path.join(out_dir, 'logs')\n",
    "\n",
    "if b_train:    \n",
    "    # Lora config with rank 16, additional tgt modules\n",
    "    lora_config = LoraConfig(\n",
    "        task_type=TaskType.SEQ_CLS, r=16, target_modules=[\"q_lin\", \"v_lin\"], bias=\"none\", lora_alpha=16, lora_dropout=0.2\n",
    "    )\n",
    "    \n",
    "    trainer, _, _ = train_eval_setup(model_name, tokenized_ds, device, training_args, out_dir, log_dir, lora_config=lora_config)"
   ]
  },
  {
   "cell_type": "code",
   "execution_count": 79,
   "id": "01e4872c-f5f0-4fdf-a1e2-c3d6335a333b",
   "metadata": {},
   "outputs": [
    {
     "name": "stderr",
     "output_type": "stream",
     "text": [
      "/usr/lib/python3/dist-packages/torch/nn/parallel/_functions.py:68: UserWarning: Was asked to gather along dimension 0, but all input tensors were scalars; will instead unsqueeze and return a vector.\n",
      "  warnings.warn('Was asked to gather along dimension 0, but all '\n"
     ]
    },
    {
     "data": {
      "text/html": [
       "\n",
       "    <div>\n",
       "      \n",
       "      <progress value='2352' max='2352' style='width:300px; height:20px; vertical-align: middle;'></progress>\n",
       "      [2352/2352 04:26, Epoch 16/16]\n",
       "    </div>\n",
       "    <table border=\"1\" class=\"dataframe\">\n",
       "  <thead>\n",
       " <tr style=\"text-align: left;\">\n",
       "      <th>Epoch</th>\n",
       "      <th>Training Loss</th>\n",
       "      <th>Validation Loss</th>\n",
       "      <th>Accuracy</th>\n",
       "      <th>F1</th>\n",
       "    </tr>\n",
       "  </thead>\n",
       "  <tbody>\n",
       "    <tr>\n",
       "      <td>1</td>\n",
       "      <td>0.251800</td>\n",
       "      <td>0.189993</td>\n",
       "      <td>0.923437</td>\n",
       "      <td>0.922128</td>\n",
       "    </tr>\n",
       "    <tr>\n",
       "      <td>2</td>\n",
       "      <td>0.111400</td>\n",
       "      <td>0.164458</td>\n",
       "      <td>0.935347</td>\n",
       "      <td>0.935183</td>\n",
       "    </tr>\n",
       "    <tr>\n",
       "      <td>3</td>\n",
       "      <td>0.101600</td>\n",
       "      <td>0.167383</td>\n",
       "      <td>0.927690</td>\n",
       "      <td>0.928917</td>\n",
       "    </tr>\n",
       "    <tr>\n",
       "      <td>4</td>\n",
       "      <td>0.110400</td>\n",
       "      <td>0.146495</td>\n",
       "      <td>0.946831</td>\n",
       "      <td>0.946616</td>\n",
       "    </tr>\n",
       "    <tr>\n",
       "      <td>5</td>\n",
       "      <td>0.109700</td>\n",
       "      <td>0.163866</td>\n",
       "      <td>0.937048</td>\n",
       "      <td>0.937765</td>\n",
       "    </tr>\n",
       "    <tr>\n",
       "      <td>6</td>\n",
       "      <td>0.071500</td>\n",
       "      <td>0.154030</td>\n",
       "      <td>0.943854</td>\n",
       "      <td>0.944036</td>\n",
       "    </tr>\n",
       "    <tr>\n",
       "      <td>7</td>\n",
       "      <td>0.103500</td>\n",
       "      <td>0.154120</td>\n",
       "      <td>0.944704</td>\n",
       "      <td>0.944949</td>\n",
       "    </tr>\n",
       "    <tr>\n",
       "      <td>8</td>\n",
       "      <td>0.090800</td>\n",
       "      <td>0.168691</td>\n",
       "      <td>0.939600</td>\n",
       "      <td>0.940371</td>\n",
       "    </tr>\n",
       "    <tr>\n",
       "      <td>9</td>\n",
       "      <td>0.058100</td>\n",
       "      <td>0.170351</td>\n",
       "      <td>0.944704</td>\n",
       "      <td>0.944927</td>\n",
       "    </tr>\n",
       "    <tr>\n",
       "      <td>10</td>\n",
       "      <td>0.015500</td>\n",
       "      <td>0.181430</td>\n",
       "      <td>0.949809</td>\n",
       "      <td>0.950127</td>\n",
       "    </tr>\n",
       "    <tr>\n",
       "      <td>11</td>\n",
       "      <td>0.026300</td>\n",
       "      <td>0.186469</td>\n",
       "      <td>0.945980</td>\n",
       "      <td>0.946209</td>\n",
       "    </tr>\n",
       "    <tr>\n",
       "      <td>12</td>\n",
       "      <td>0.051200</td>\n",
       "      <td>0.201515</td>\n",
       "      <td>0.951510</td>\n",
       "      <td>0.951217</td>\n",
       "    </tr>\n",
       "    <tr>\n",
       "      <td>13</td>\n",
       "      <td>0.052300</td>\n",
       "      <td>0.203137</td>\n",
       "      <td>0.950234</td>\n",
       "      <td>0.950326</td>\n",
       "    </tr>\n",
       "    <tr>\n",
       "      <td>14</td>\n",
       "      <td>0.017100</td>\n",
       "      <td>0.215799</td>\n",
       "      <td>0.952786</td>\n",
       "      <td>0.953022</td>\n",
       "    </tr>\n",
       "    <tr>\n",
       "      <td>15</td>\n",
       "      <td>0.002500</td>\n",
       "      <td>0.209154</td>\n",
       "      <td>0.954062</td>\n",
       "      <td>0.954100</td>\n",
       "    </tr>\n",
       "    <tr>\n",
       "      <td>16</td>\n",
       "      <td>0.022700</td>\n",
       "      <td>0.218770</td>\n",
       "      <td>0.953211</td>\n",
       "      <td>0.953345</td>\n",
       "    </tr>\n",
       "  </tbody>\n",
       "</table><p>"
      ],
      "text/plain": [
       "<IPython.core.display.HTML object>"
      ]
     },
     "metadata": {},
     "output_type": "display_data"
    },
    {
     "name": "stderr",
     "output_type": "stream",
     "text": [
      "/usr/lib/python3/dist-packages/torch/nn/parallel/_functions.py:68: UserWarning: Was asked to gather along dimension 0, but all input tensors were scalars; will instead unsqueeze and return a vector.\n",
      "  warnings.warn('Was asked to gather along dimension 0, but all '\n",
      "/usr/lib/python3/dist-packages/torch/nn/parallel/_functions.py:68: UserWarning: Was asked to gather along dimension 0, but all input tensors were scalars; will instead unsqueeze and return a vector.\n",
      "  warnings.warn('Was asked to gather along dimension 0, but all '\n",
      "/usr/lib/python3/dist-packages/torch/nn/parallel/_functions.py:68: UserWarning: Was asked to gather along dimension 0, but all input tensors were scalars; will instead unsqueeze and return a vector.\n",
      "  warnings.warn('Was asked to gather along dimension 0, but all '\n",
      "/usr/lib/python3/dist-packages/torch/nn/parallel/_functions.py:68: UserWarning: Was asked to gather along dimension 0, but all input tensors were scalars; will instead unsqueeze and return a vector.\n",
      "  warnings.warn('Was asked to gather along dimension 0, but all '\n",
      "/usr/lib/python3/dist-packages/torch/nn/parallel/_functions.py:68: UserWarning: Was asked to gather along dimension 0, but all input tensors were scalars; will instead unsqueeze and return a vector.\n",
      "  warnings.warn('Was asked to gather along dimension 0, but all '\n",
      "/usr/lib/python3/dist-packages/torch/nn/parallel/_functions.py:68: UserWarning: Was asked to gather along dimension 0, but all input tensors were scalars; will instead unsqueeze and return a vector.\n",
      "  warnings.warn('Was asked to gather along dimension 0, but all '\n",
      "/usr/lib/python3/dist-packages/torch/nn/parallel/_functions.py:68: UserWarning: Was asked to gather along dimension 0, but all input tensors were scalars; will instead unsqueeze and return a vector.\n",
      "  warnings.warn('Was asked to gather along dimension 0, but all '\n",
      "/usr/lib/python3/dist-packages/torch/nn/parallel/_functions.py:68: UserWarning: Was asked to gather along dimension 0, but all input tensors were scalars; will instead unsqueeze and return a vector.\n",
      "  warnings.warn('Was asked to gather along dimension 0, but all '\n",
      "/usr/lib/python3/dist-packages/torch/nn/parallel/_functions.py:68: UserWarning: Was asked to gather along dimension 0, but all input tensors were scalars; will instead unsqueeze and return a vector.\n",
      "  warnings.warn('Was asked to gather along dimension 0, but all '\n",
      "/usr/lib/python3/dist-packages/torch/nn/parallel/_functions.py:68: UserWarning: Was asked to gather along dimension 0, but all input tensors were scalars; will instead unsqueeze and return a vector.\n",
      "  warnings.warn('Was asked to gather along dimension 0, but all '\n",
      "/usr/lib/python3/dist-packages/torch/nn/parallel/_functions.py:68: UserWarning: Was asked to gather along dimension 0, but all input tensors were scalars; will instead unsqueeze and return a vector.\n",
      "  warnings.warn('Was asked to gather along dimension 0, but all '\n",
      "/usr/lib/python3/dist-packages/torch/nn/parallel/_functions.py:68: UserWarning: Was asked to gather along dimension 0, but all input tensors were scalars; will instead unsqueeze and return a vector.\n",
      "  warnings.warn('Was asked to gather along dimension 0, but all '\n",
      "/usr/lib/python3/dist-packages/torch/nn/parallel/_functions.py:68: UserWarning: Was asked to gather along dimension 0, but all input tensors were scalars; will instead unsqueeze and return a vector.\n",
      "  warnings.warn('Was asked to gather along dimension 0, but all '\n",
      "/usr/lib/python3/dist-packages/torch/nn/parallel/_functions.py:68: UserWarning: Was asked to gather along dimension 0, but all input tensors were scalars; will instead unsqueeze and return a vector.\n",
      "  warnings.warn('Was asked to gather along dimension 0, but all '\n",
      "/usr/lib/python3/dist-packages/torch/nn/parallel/_functions.py:68: UserWarning: Was asked to gather along dimension 0, but all input tensors were scalars; will instead unsqueeze and return a vector.\n",
      "  warnings.warn('Was asked to gather along dimension 0, but all '\n"
     ]
    }
   ],
   "source": [
    "# Train and save the PEFT model\n",
    "\n",
    "if b_train:\n",
    "    if b_accelerator:\n",
    "        trainer = accelerator.prepare(trainer)\n",
    "    \n",
    "    trainer.train()\n",
    "    trainer.save_model(out_dir)\n",
    "    trainer.save_state()"
   ]
  },
  {
   "cell_type": "code",
   "execution_count": 80,
   "id": "acfa4b51-7911-4d03-9c35-dffecc0b1e80",
   "metadata": {},
   "outputs": [
    {
     "data": {
      "image/png": "[encoded data removed]",
      "text/plain": [
       "<Figure size 1296x432 with 2 Axes>"
      ]
     },
     "metadata": {
      "needs_background": "light"
     },
     "output_type": "display_data"
    }
   ],
   "source": [
    "if b_train:\n",
    "    batch_step = len(tokenized_ds['train'])/(trainer.args._n_gpu*batch_size)\n",
    "    batch_step = int(round(batch_step+0.5))\n",
    "\n",
    "    plot_train_log_history(trainer.state.log_history, num_epochs, batch_step)"
   ]
  },
  {
   "cell_type": "code",
   "execution_count": 81,
   "id": "21b47468-e8f9-47fb-b006-237ce68c6a32",
   "metadata": {},
   "outputs": [],
   "source": [
    "# Load the saved PEFT model\n",
    "\n",
    "trainer, trainable_params, all_param = train_eval_setup(out_dir, tokenized_ds, device, training_args, out_dir, log_dir, lora_config=None)\n",
    "model_params[cfg_name] = [trainable_params, all_param]"
   ]
  },
  {
   "cell_type": "code",
   "execution_count": 82,
   "id": "4b05077a-614e-4980-97a1-3396a8b867c7",
   "metadata": {},
   "outputs": [
    {
     "name": "stderr",
     "output_type": "stream",
     "text": [
      "/usr/lib/python3/dist-packages/torch/nn/parallel/_functions.py:68: UserWarning: Was asked to gather along dimension 0, but all input tensors were scalars; will instead unsqueeze and return a vector.\n",
      "  warnings.warn('Was asked to gather along dimension 0, but all '\n"
     ]
    },
    {
     "data": {
      "text/html": [],
      "text/plain": [
       "<IPython.core.display.HTML object>"
      ]
     },
     "metadata": {},
     "output_type": "display_data"
    },
    {
     "data": {
      "text/plain": [
       "{'test_loss': 0.15368396043777466,\n",
       " 'test_accuracy': 0.9415391156462585,\n",
       " 'test_f1': 0.9413505801715272,\n",
       " 'test_runtime': 3.6065,\n",
       " 'test_samples_per_second': 1304.324,\n",
       " 'test_steps_per_second': 10.259}"
      ]
     },
     "execution_count": 82,
     "metadata": {},
     "output_type": "execute_result"
    }
   ],
   "source": [
    "# Evaluate the fine-tuned model\n",
    "\n",
    "preds_val_test = trainer.predict(tokenized_ds[\"val_test\"])\n",
    "test_metrics[cfg_name] = preds_val_test.metrics\n",
    "\n",
    "preds_val_test.metrics"
   ]
  },
  {
   "cell_type": "code",
   "execution_count": 83,
   "id": "25dafd06-8fbd-48f5-8a03-df76863c8bba",
   "metadata": {},
   "outputs": [
    {
     "data": {
      "image/png": "[encoded data removed]",
      "text/plain": [
       "<Figure size 432x432 with 1 Axes>"
      ]
     },
     "metadata": {
      "needs_background": "light"
     },
     "output_type": "display_data"
    }
   ],
   "source": [
    "preds_val_test = np.argmax(preds_val_test.predictions, axis=1)\n",
    "\n",
    "plot_confusion_matrix([preds_val_test], [ds['val_test']['label']], labels)"
   ]
  },
  {
   "cell_type": "code",
   "execution_count": 84,
   "id": "7ba1451f-7ec5-48ae-a4bb-dbf19b8f76ea",
   "metadata": {},
   "outputs": [
    {
     "name": "stdout",
     "output_type": "stream",
     "text": [
      "              precision    recall  f1-score   support\n",
      "\n",
      "           0       0.95      0.96      0.96      3343\n",
      "           1       0.91      0.89      0.90      1361\n",
      "\n",
      "    accuracy                           0.94      4704\n",
      "   macro avg       0.93      0.93      0.93      4704\n",
      "weighted avg       0.94      0.94      0.94      4704\n",
      "\n"
     ]
    }
   ],
   "source": [
    "report_val_test = classification_report(ds['val_test']['label'], preds_val_test)\n",
    "print(report_val_test)"
   ]
  },
  {
   "cell_type": "code",
   "execution_count": 85,
   "id": "d9b33104-9a4e-4aa5-82dd-6280b9a161ab",
   "metadata": {},
   "outputs": [],
   "source": [
    "# Create a PEFT model for a new lora config\n",
    "\n",
    "# format of cfg_name is targetmodules_rank_scale\n",
    "cfg_name = \"q_v_r32_s1\"\n",
    "out_dir = os.path.join('submission', cfg_name)\n",
    "log_dir = os.path.join(out_dir, 'logs')\n",
    "\n",
    "if b_train:    \n",
    "    # Lora config with rank 16, additional tgt modules\n",
    "    lora_config = LoraConfig(\n",
    "        task_type=TaskType.SEQ_CLS, r=32, target_modules=[\"q_lin\", \"v_lin\"], bias=\"none\", lora_alpha=32, lora_dropout=0.2\n",
    "    )\n",
    "    \n",
    "    trainer, _, _ = train_eval_setup(model_name, tokenized_ds, device, training_args, out_dir, log_dir, lora_config=lora_config)"
   ]
  },
  {
   "cell_type": "code",
   "execution_count": 86,
   "id": "3b2900e0-1351-4d12-91d2-91b87eb895f1",
   "metadata": {},
   "outputs": [
    {
     "name": "stderr",
     "output_type": "stream",
     "text": [
      "/usr/lib/python3/dist-packages/torch/nn/parallel/_functions.py:68: UserWarning: Was asked to gather along dimension 0, but all input tensors were scalars; will instead unsqueeze and return a vector.\n",
      "  warnings.warn('Was asked to gather along dimension 0, but all '\n"
     ]
    },
    {
     "data": {
      "text/html": [
       "\n",
       "    <div>\n",
       "      \n",
       "      <progress value='2352' max='2352' style='width:300px; height:20px; vertical-align: middle;'></progress>\n",
       "      [2352/2352 04:12, Epoch 16/16]\n",
       "    </div>\n",
       "    <table border=\"1\" class=\"dataframe\">\n",
       "  <thead>\n",
       " <tr style=\"text-align: left;\">\n",
       "      <th>Epoch</th>\n",
       "      <th>Training Loss</th>\n",
       "      <th>Validation Loss</th>\n",
       "      <th>Accuracy</th>\n",
       "      <th>F1</th>\n",
       "    </tr>\n",
       "  </thead>\n",
       "  <tbody>\n",
       "    <tr>\n",
       "      <td>1</td>\n",
       "      <td>0.255600</td>\n",
       "      <td>0.180132</td>\n",
       "      <td>0.930668</td>\n",
       "      <td>0.929743</td>\n",
       "    </tr>\n",
       "    <tr>\n",
       "      <td>2</td>\n",
       "      <td>0.101200</td>\n",
       "      <td>0.153642</td>\n",
       "      <td>0.936623</td>\n",
       "      <td>0.937130</td>\n",
       "    </tr>\n",
       "    <tr>\n",
       "      <td>3</td>\n",
       "      <td>0.097600</td>\n",
       "      <td>0.161661</td>\n",
       "      <td>0.934496</td>\n",
       "      <td>0.935398</td>\n",
       "    </tr>\n",
       "    <tr>\n",
       "      <td>4</td>\n",
       "      <td>0.103100</td>\n",
       "      <td>0.137911</td>\n",
       "      <td>0.951935</td>\n",
       "      <td>0.951612</td>\n",
       "    </tr>\n",
       "    <tr>\n",
       "      <td>5</td>\n",
       "      <td>0.082800</td>\n",
       "      <td>0.155484</td>\n",
       "      <td>0.944279</td>\n",
       "      <td>0.944684</td>\n",
       "    </tr>\n",
       "    <tr>\n",
       "      <td>6</td>\n",
       "      <td>0.080300</td>\n",
       "      <td>0.155800</td>\n",
       "      <td>0.945555</td>\n",
       "      <td>0.945510</td>\n",
       "    </tr>\n",
       "    <tr>\n",
       "      <td>7</td>\n",
       "      <td>0.041200</td>\n",
       "      <td>0.176235</td>\n",
       "      <td>0.942152</td>\n",
       "      <td>0.942584</td>\n",
       "    </tr>\n",
       "    <tr>\n",
       "      <td>8</td>\n",
       "      <td>0.033200</td>\n",
       "      <td>0.180663</td>\n",
       "      <td>0.939175</td>\n",
       "      <td>0.939982</td>\n",
       "    </tr>\n",
       "    <tr>\n",
       "      <td>9</td>\n",
       "      <td>0.066800</td>\n",
       "      <td>0.202075</td>\n",
       "      <td>0.950234</td>\n",
       "      <td>0.950118</td>\n",
       "    </tr>\n",
       "    <tr>\n",
       "      <td>10</td>\n",
       "      <td>0.035900</td>\n",
       "      <td>0.216922</td>\n",
       "      <td>0.948533</td>\n",
       "      <td>0.948829</td>\n",
       "    </tr>\n",
       "    <tr>\n",
       "      <td>11</td>\n",
       "      <td>0.032100</td>\n",
       "      <td>0.205047</td>\n",
       "      <td>0.949383</td>\n",
       "      <td>0.949577</td>\n",
       "    </tr>\n",
       "    <tr>\n",
       "      <td>12</td>\n",
       "      <td>0.015900</td>\n",
       "      <td>0.222827</td>\n",
       "      <td>0.951085</td>\n",
       "      <td>0.951115</td>\n",
       "    </tr>\n",
       "    <tr>\n",
       "      <td>13</td>\n",
       "      <td>0.033800</td>\n",
       "      <td>0.264698</td>\n",
       "      <td>0.950234</td>\n",
       "      <td>0.950502</td>\n",
       "    </tr>\n",
       "    <tr>\n",
       "      <td>14</td>\n",
       "      <td>0.038800</td>\n",
       "      <td>0.276393</td>\n",
       "      <td>0.951085</td>\n",
       "      <td>0.951175</td>\n",
       "    </tr>\n",
       "    <tr>\n",
       "      <td>15</td>\n",
       "      <td>0.027500</td>\n",
       "      <td>0.267653</td>\n",
       "      <td>0.952361</td>\n",
       "      <td>0.952458</td>\n",
       "    </tr>\n",
       "    <tr>\n",
       "      <td>16</td>\n",
       "      <td>0.006800</td>\n",
       "      <td>0.269672</td>\n",
       "      <td>0.951085</td>\n",
       "      <td>0.951234</td>\n",
       "    </tr>\n",
       "  </tbody>\n",
       "</table><p>"
      ],
      "text/plain": [
       "<IPython.core.display.HTML object>"
      ]
     },
     "metadata": {},
     "output_type": "display_data"
    },
    {
     "name": "stderr",
     "output_type": "stream",
     "text": [
      "/usr/lib/python3/dist-packages/torch/nn/parallel/_functions.py:68: UserWarning: Was asked to gather along dimension 0, but all input tensors were scalars; will instead unsqueeze and return a vector.\n",
      "  warnings.warn('Was asked to gather along dimension 0, but all '\n",
      "/usr/lib/python3/dist-packages/torch/nn/parallel/_functions.py:68: UserWarning: Was asked to gather along dimension 0, but all input tensors were scalars; will instead unsqueeze and return a vector.\n",
      "  warnings.warn('Was asked to gather along dimension 0, but all '\n",
      "/usr/lib/python3/dist-packages/torch/nn/parallel/_functions.py:68: UserWarning: Was asked to gather along dimension 0, but all input tensors were scalars; will instead unsqueeze and return a vector.\n",
      "  warnings.warn('Was asked to gather along dimension 0, but all '\n",
      "/usr/lib/python3/dist-packages/torch/nn/parallel/_functions.py:68: UserWarning: Was asked to gather along dimension 0, but all input tensors were scalars; will instead unsqueeze and return a vector.\n",
      "  warnings.warn('Was asked to gather along dimension 0, but all '\n",
      "/usr/lib/python3/dist-packages/torch/nn/parallel/_functions.py:68: UserWarning: Was asked to gather along dimension 0, but all input tensors were scalars; will instead unsqueeze and return a vector.\n",
      "  warnings.warn('Was asked to gather along dimension 0, but all '\n",
      "/usr/lib/python3/dist-packages/torch/nn/parallel/_functions.py:68: UserWarning: Was asked to gather along dimension 0, but all input tensors were scalars; will instead unsqueeze and return a vector.\n",
      "  warnings.warn('Was asked to gather along dimension 0, but all '\n",
      "/usr/lib/python3/dist-packages/torch/nn/parallel/_functions.py:68: UserWarning: Was asked to gather along dimension 0, but all input tensors were scalars; will instead unsqueeze and return a vector.\n",
      "  warnings.warn('Was asked to gather along dimension 0, but all '\n",
      "/usr/lib/python3/dist-packages/torch/nn/parallel/_functions.py:68: UserWarning: Was asked to gather along dimension 0, but all input tensors were scalars; will instead unsqueeze and return a vector.\n",
      "  warnings.warn('Was asked to gather along dimension 0, but all '\n",
      "/usr/lib/python3/dist-packages/torch/nn/parallel/_functions.py:68: UserWarning: Was asked to gather along dimension 0, but all input tensors were scalars; will instead unsqueeze and return a vector.\n",
      "  warnings.warn('Was asked to gather along dimension 0, but all '\n",
      "/usr/lib/python3/dist-packages/torch/nn/parallel/_functions.py:68: UserWarning: Was asked to gather along dimension 0, but all input tensors were scalars; will instead unsqueeze and return a vector.\n",
      "  warnings.warn('Was asked to gather along dimension 0, but all '\n",
      "/usr/lib/python3/dist-packages/torch/nn/parallel/_functions.py:68: UserWarning: Was asked to gather along dimension 0, but all input tensors were scalars; will instead unsqueeze and return a vector.\n",
      "  warnings.warn('Was asked to gather along dimension 0, but all '\n",
      "/usr/lib/python3/dist-packages/torch/nn/parallel/_functions.py:68: UserWarning: Was asked to gather along dimension 0, but all input tensors were scalars; will instead unsqueeze and return a vector.\n",
      "  warnings.warn('Was asked to gather along dimension 0, but all '\n",
      "/usr/lib/python3/dist-packages/torch/nn/parallel/_functions.py:68: UserWarning: Was asked to gather along dimension 0, but all input tensors were scalars; will instead unsqueeze and return a vector.\n",
      "  warnings.warn('Was asked to gather along dimension 0, but all '\n",
      "/usr/lib/python3/dist-packages/torch/nn/parallel/_functions.py:68: UserWarning: Was asked to gather along dimension 0, but all input tensors were scalars; will instead unsqueeze and return a vector.\n",
      "  warnings.warn('Was asked to gather along dimension 0, but all '\n",
      "/usr/lib/python3/dist-packages/torch/nn/parallel/_functions.py:68: UserWarning: Was asked to gather along dimension 0, but all input tensors were scalars; will instead unsqueeze and return a vector.\n",
      "  warnings.warn('Was asked to gather along dimension 0, but all '\n"
     ]
    }
   ],
   "source": [
    "# Train and save the PEFT model\n",
    "\n",
    "if b_train:\n",
    "    if b_accelerator:\n",
    "        trainer = accelerator.prepare(trainer)\n",
    "    \n",
    "    trainer.train()\n",
    "    trainer.save_model(out_dir)\n",
    "    trainer.save_state()"
   ]
  },
  {
   "cell_type": "code",
   "execution_count": 87,
   "id": "c440403c-e909-464d-84b8-dab9d85c37ec",
   "metadata": {},
   "outputs": [
    {
     "data": {
      "image/png": "[encoded data removed]",
      "text/plain": [
       "<Figure size 1296x432 with 2 Axes>"
      ]
     },
     "metadata": {
      "needs_background": "light"
     },
     "output_type": "display_data"
    }
   ],
   "source": [
    "if b_train:\n",
    "    batch_step = len(tokenized_ds['train'])/(trainer.args._n_gpu*batch_size)\n",
    "    batch_step = int(round(batch_step+0.5))\n",
    "\n",
    "    plot_train_log_history(trainer.state.log_history, num_epochs, batch_step)"
   ]
  },
  {
   "cell_type": "code",
   "execution_count": 88,
   "id": "2058f160-febc-4195-be87-b8246a390d82",
   "metadata": {},
   "outputs": [],
   "source": [
    "# Load the saved PEFT model\n",
    "\n",
    "trainer, trainable_params, all_param = train_eval_setup(out_dir, tokenized_ds, device, training_args, out_dir, log_dir, lora_config=None)\n",
    "model_params[cfg_name] = [trainable_params, all_param]"
   ]
  },
  {
   "cell_type": "code",
   "execution_count": 89,
   "id": "96f16af5-1c96-44fc-8d3d-41c4318b6b82",
   "metadata": {},
   "outputs": [
    {
     "name": "stderr",
     "output_type": "stream",
     "text": [
      "/usr/lib/python3/dist-packages/torch/nn/parallel/_functions.py:68: UserWarning: Was asked to gather along dimension 0, but all input tensors were scalars; will instead unsqueeze and return a vector.\n",
      "  warnings.warn('Was asked to gather along dimension 0, but all '\n"
     ]
    },
    {
     "data": {
      "text/html": [],
      "text/plain": [
       "<IPython.core.display.HTML object>"
      ]
     },
     "metadata": {},
     "output_type": "display_data"
    },
    {
     "data": {
      "text/plain": [
       "{'test_loss': 0.14528757333755493,\n",
       " 'test_accuracy': 0.9470663265306123,\n",
       " 'test_f1': 0.9469076179826642,\n",
       " 'test_runtime': 2.0671,\n",
       " 'test_samples_per_second': 2275.669,\n",
       " 'test_steps_per_second': 17.9}"
      ]
     },
     "execution_count": 89,
     "metadata": {},
     "output_type": "execute_result"
    }
   ],
   "source": [
    "# Evaluate the fine-tuned model\n",
    "\n",
    "preds_val_test = trainer.predict(tokenized_ds[\"val_test\"])\n",
    "test_metrics[cfg_name] = preds_val_test.metrics\n",
    "\n",
    "preds_val_test.metrics"
   ]
  },
  {
   "cell_type": "code",
   "execution_count": 90,
   "id": "1bf68fe9-447a-4012-9561-54b9bd28887c",
   "metadata": {},
   "outputs": [
    {
     "data": {
      "image/png": "[encoded data removed]",
      "text/plain": [
       "<Figure size 432x432 with 1 Axes>"
      ]
     },
     "metadata": {
      "needs_background": "light"
     },
     "output_type": "display_data"
    }
   ],
   "source": [
    "preds_val_test = np.argmax(preds_val_test.predictions, axis=1)\n",
    "\n",
    "plot_confusion_matrix([preds_val_test], [ds['val_test']['label']], labels)"
   ]
  },
  {
   "cell_type": "code",
   "execution_count": 91,
   "id": "3a100d7e-02ae-41e5-88e8-6eebfee62744",
   "metadata": {},
   "outputs": [
    {
     "name": "stdout",
     "output_type": "stream",
     "text": [
      "              precision    recall  f1-score   support\n",
      "\n",
      "           0       0.96      0.97      0.96      3343\n",
      "           1       0.92      0.90      0.91      1361\n",
      "\n",
      "    accuracy                           0.95      4704\n",
      "   macro avg       0.94      0.93      0.94      4704\n",
      "weighted avg       0.95      0.95      0.95      4704\n",
      "\n"
     ]
    }
   ],
   "source": [
    "report_val_test = classification_report(ds['val_test']['label'], preds_val_test)\n",
    "print(report_val_test)"
   ]
  },
  {
   "cell_type": "code",
   "execution_count": 92,
   "id": "5e79ebb5-fc88-47bd-ad10-005a987bb63e",
   "metadata": {},
   "outputs": [
    {
     "data": {
      "text/html": [
       "<div>\n",
       "<style scoped>\n",
       "    .dataframe tbody tr th:only-of-type {\n",
       "        vertical-align: middle;\n",
       "    }\n",
       "\n",
       "    .dataframe tbody tr th {\n",
       "        vertical-align: top;\n",
       "    }\n",
       "\n",
       "    .dataframe thead th {\n",
       "        text-align: right;\n",
       "    }\n",
       "</style>\n",
       "<table border=\"1\" class=\"dataframe\">\n",
       "  <thead>\n",
       "    <tr style=\"text-align: right;\">\n",
       "      <th></th>\n",
       "      <th>pretrain</th>\n",
       "      <th>q_v_r1_s1</th>\n",
       "      <th>q_v_r1_s2</th>\n",
       "      <th>q_v_r4_s1</th>\n",
       "      <th>q_v_r8_s1</th>\n",
       "      <th>q_v_r16_s1</th>\n",
       "      <th>q_v_r32_s1</th>\n",
       "    </tr>\n",
       "  </thead>\n",
       "  <tbody>\n",
       "    <tr>\n",
       "      <th>accuracy</th>\n",
       "      <td>0.408588</td>\n",
       "      <td>0.940264</td>\n",
       "      <td>0.940901</td>\n",
       "      <td>0.939838</td>\n",
       "      <td>0.941539</td>\n",
       "      <td>0.941539</td>\n",
       "      <td>0.947066</td>\n",
       "    </tr>\n",
       "    <tr>\n",
       "      <th>f1</th>\n",
       "      <td>0.425754</td>\n",
       "      <td>0.940322</td>\n",
       "      <td>0.940837</td>\n",
       "      <td>0.940087</td>\n",
       "      <td>0.941481</td>\n",
       "      <td>0.941351</td>\n",
       "      <td>0.946908</td>\n",
       "    </tr>\n",
       "    <tr>\n",
       "      <th>trainable_params</th>\n",
       "      <td>66955010</td>\n",
       "      <td>610562</td>\n",
       "      <td>610562</td>\n",
       "      <td>665858</td>\n",
       "      <td>739586</td>\n",
       "      <td>887042</td>\n",
       "      <td>1181954</td>\n",
       "    </tr>\n",
       "    <tr>\n",
       "      <th>all_params</th>\n",
       "      <td>66955010</td>\n",
       "      <td>67565572</td>\n",
       "      <td>67565572</td>\n",
       "      <td>67620868</td>\n",
       "      <td>67694596</td>\n",
       "      <td>67842052</td>\n",
       "      <td>68136964</td>\n",
       "    </tr>\n",
       "  </tbody>\n",
       "</table>\n",
       "</div>"
      ],
      "text/plain": [
       "                  pretrain q_v_r1_s1 q_v_r1_s2 q_v_r4_s1 q_v_r8_s1 q_v_r16_s1  \\\n",
       "accuracy          0.408588  0.940264  0.940901  0.939838  0.941539   0.941539   \n",
       "f1                0.425754  0.940322  0.940837  0.940087  0.941481   0.941351   \n",
       "trainable_params  66955010    610562    610562    665858    739586     887042   \n",
       "all_params        66955010  67565572  67565572  67620868  67694596   67842052   \n",
       "\n",
       "                 q_v_r32_s1  \n",
       "accuracy           0.947066  \n",
       "f1                 0.946908  \n",
       "trainable_params    1181954  \n",
       "all_params         68136964  "
      ]
     },
     "execution_count": 92,
     "metadata": {},
     "output_type": "execute_result"
    }
   ],
   "source": [
    "compare_metrics(test_metrics, model_params)"
   ]
  },
  {
   "cell_type": "code",
   "execution_count": 93,
   "id": "0d66a468-85ee-4778-b9f9-8993792db818",
   "metadata": {},
   "outputs": [],
   "source": [
    "# QLoRA — Quantized Low Rank Adaption Method\n",
    "# Create a PEFT model for a new lora config\n",
    "\n",
    "# format of cfg_name is targetmodules_rank_scale\n",
    "cfg_name = \"qlora_q_v_r8_s1\"\n",
    "out_dir = os.path.join('submission', cfg_name)\n",
    "log_dir = os.path.join(out_dir, 'logs')\n",
    "\n",
    "if b_train:    \n",
    "    quant_config = BitsAndBytesConfig(\n",
    "        load_in_4bit=True,\n",
    "        bnb_4bit_quant_type=\"nf4\"\n",
    "        # bnb_4bit_use_double_quant=True,\n",
    "        # bnb_4bit_compute_dtype=\"torch.float16\"\n",
    "    )\n",
    "    \n",
    "    # Lora config with rank 16, additional tgt modules\n",
    "    lora_config = LoraConfig(\n",
    "        task_type=TaskType.SEQ_CLS, r=8, target_modules=[\"q_lin\", \"v_lin\"], bias=\"none\", lora_alpha=8, lora_dropout=0.2\n",
    "    )\n",
    "    \n",
    "    trainer, _, _ = train_eval_setup(model_name, tokenized_ds, device, training_args, out_dir, log_dir, lora_config=lora_config, quant_config=quant_config)"
   ]
  },
  {
   "cell_type": "code",
   "execution_count": 94,
   "id": "4fa3948b-a53f-4fb8-8f64-a2535d444968",
   "metadata": {},
   "outputs": [
    {
     "name": "stderr",
     "output_type": "stream",
     "text": [
      "/usr/lib/python3/dist-packages/torch/nn/parallel/_functions.py:68: UserWarning: Was asked to gather along dimension 0, but all input tensors were scalars; will instead unsqueeze and return a vector.\n",
      "  warnings.warn('Was asked to gather along dimension 0, but all '\n"
     ]
    },
    {
     "data": {
      "text/html": [
       "\n",
       "    <div>\n",
       "      \n",
       "      <progress value='2352' max='2352' style='width:300px; height:20px; vertical-align: middle;'></progress>\n",
       "      [2352/2352 08:18, Epoch 16/16]\n",
       "    </div>\n",
       "    <table border=\"1\" class=\"dataframe\">\n",
       "  <thead>\n",
       " <tr style=\"text-align: left;\">\n",
       "      <th>Epoch</th>\n",
       "      <th>Training Loss</th>\n",
       "      <th>Validation Loss</th>\n",
       "      <th>Accuracy</th>\n",
       "      <th>F1</th>\n",
       "    </tr>\n",
       "  </thead>\n",
       "  <tbody>\n",
       "    <tr>\n",
       "      <td>1</td>\n",
       "      <td>0.254000</td>\n",
       "      <td>0.200768</td>\n",
       "      <td>0.920459</td>\n",
       "      <td>0.918915</td>\n",
       "    </tr>\n",
       "    <tr>\n",
       "      <td>2</td>\n",
       "      <td>0.120700</td>\n",
       "      <td>0.172437</td>\n",
       "      <td>0.928966</td>\n",
       "      <td>0.929040</td>\n",
       "    </tr>\n",
       "    <tr>\n",
       "      <td>3</td>\n",
       "      <td>0.103800</td>\n",
       "      <td>0.181973</td>\n",
       "      <td>0.919183</td>\n",
       "      <td>0.920628</td>\n",
       "    </tr>\n",
       "    <tr>\n",
       "      <td>4</td>\n",
       "      <td>0.134900</td>\n",
       "      <td>0.154418</td>\n",
       "      <td>0.940026</td>\n",
       "      <td>0.939313</td>\n",
       "    </tr>\n",
       "    <tr>\n",
       "      <td>5</td>\n",
       "      <td>0.128800</td>\n",
       "      <td>0.150674</td>\n",
       "      <td>0.940026</td>\n",
       "      <td>0.940506</td>\n",
       "    </tr>\n",
       "    <tr>\n",
       "      <td>6</td>\n",
       "      <td>0.123700</td>\n",
       "      <td>0.149828</td>\n",
       "      <td>0.947256</td>\n",
       "      <td>0.947054</td>\n",
       "    </tr>\n",
       "    <tr>\n",
       "      <td>7</td>\n",
       "      <td>0.141400</td>\n",
       "      <td>0.143952</td>\n",
       "      <td>0.944279</td>\n",
       "      <td>0.944515</td>\n",
       "    </tr>\n",
       "    <tr>\n",
       "      <td>8</td>\n",
       "      <td>0.136600</td>\n",
       "      <td>0.160788</td>\n",
       "      <td>0.939600</td>\n",
       "      <td>0.940268</td>\n",
       "    </tr>\n",
       "    <tr>\n",
       "      <td>9</td>\n",
       "      <td>0.068500</td>\n",
       "      <td>0.163135</td>\n",
       "      <td>0.945980</td>\n",
       "      <td>0.946036</td>\n",
       "    </tr>\n",
       "    <tr>\n",
       "      <td>10</td>\n",
       "      <td>0.048200</td>\n",
       "      <td>0.170093</td>\n",
       "      <td>0.947256</td>\n",
       "      <td>0.947530</td>\n",
       "    </tr>\n",
       "    <tr>\n",
       "      <td>11</td>\n",
       "      <td>0.054600</td>\n",
       "      <td>0.161155</td>\n",
       "      <td>0.943854</td>\n",
       "      <td>0.944293</td>\n",
       "    </tr>\n",
       "    <tr>\n",
       "      <td>12</td>\n",
       "      <td>0.081300</td>\n",
       "      <td>0.159968</td>\n",
       "      <td>0.946831</td>\n",
       "      <td>0.947014</td>\n",
       "    </tr>\n",
       "    <tr>\n",
       "      <td>13</td>\n",
       "      <td>0.070700</td>\n",
       "      <td>0.167973</td>\n",
       "      <td>0.947682</td>\n",
       "      <td>0.948023</td>\n",
       "    </tr>\n",
       "    <tr>\n",
       "      <td>14</td>\n",
       "      <td>0.023100</td>\n",
       "      <td>0.183961</td>\n",
       "      <td>0.945130</td>\n",
       "      <td>0.945508</td>\n",
       "    </tr>\n",
       "    <tr>\n",
       "      <td>15</td>\n",
       "      <td>0.029500</td>\n",
       "      <td>0.176943</td>\n",
       "      <td>0.946406</td>\n",
       "      <td>0.946622</td>\n",
       "    </tr>\n",
       "    <tr>\n",
       "      <td>16</td>\n",
       "      <td>0.070100</td>\n",
       "      <td>0.181413</td>\n",
       "      <td>0.947682</td>\n",
       "      <td>0.947984</td>\n",
       "    </tr>\n",
       "  </tbody>\n",
       "</table><p>"
      ],
      "text/plain": [
       "<IPython.core.display.HTML object>"
      ]
     },
     "metadata": {},
     "output_type": "display_data"
    },
    {
     "name": "stderr",
     "output_type": "stream",
     "text": [
      "/usr/lib/python3/dist-packages/torch/nn/parallel/_functions.py:68: UserWarning: Was asked to gather along dimension 0, but all input tensors were scalars; will instead unsqueeze and return a vector.\n",
      "  warnings.warn('Was asked to gather along dimension 0, but all '\n",
      "/usr/lib/python3/dist-packages/torch/nn/parallel/_functions.py:68: UserWarning: Was asked to gather along dimension 0, but all input tensors were scalars; will instead unsqueeze and return a vector.\n",
      "  warnings.warn('Was asked to gather along dimension 0, but all '\n",
      "/usr/lib/python3/dist-packages/torch/nn/parallel/_functions.py:68: UserWarning: Was asked to gather along dimension 0, but all input tensors were scalars; will instead unsqueeze and return a vector.\n",
      "  warnings.warn('Was asked to gather along dimension 0, but all '\n",
      "/usr/lib/python3/dist-packages/torch/nn/parallel/_functions.py:68: UserWarning: Was asked to gather along dimension 0, but all input tensors were scalars; will instead unsqueeze and return a vector.\n",
      "  warnings.warn('Was asked to gather along dimension 0, but all '\n",
      "/usr/lib/python3/dist-packages/torch/nn/parallel/_functions.py:68: UserWarning: Was asked to gather along dimension 0, but all input tensors were scalars; will instead unsqueeze and return a vector.\n",
      "  warnings.warn('Was asked to gather along dimension 0, but all '\n",
      "/usr/lib/python3/dist-packages/torch/nn/parallel/_functions.py:68: UserWarning: Was asked to gather along dimension 0, but all input tensors were scalars; will instead unsqueeze and return a vector.\n",
      "  warnings.warn('Was asked to gather along dimension 0, but all '\n",
      "/usr/lib/python3/dist-packages/torch/nn/parallel/_functions.py:68: UserWarning: Was asked to gather along dimension 0, but all input tensors were scalars; will instead unsqueeze and return a vector.\n",
      "  warnings.warn('Was asked to gather along dimension 0, but all '\n",
      "/usr/lib/python3/dist-packages/torch/nn/parallel/_functions.py:68: UserWarning: Was asked to gather along dimension 0, but all input tensors were scalars; will instead unsqueeze and return a vector.\n",
      "  warnings.warn('Was asked to gather along dimension 0, but all '\n",
      "/usr/lib/python3/dist-packages/torch/nn/parallel/_functions.py:68: UserWarning: Was asked to gather along dimension 0, but all input tensors were scalars; will instead unsqueeze and return a vector.\n",
      "  warnings.warn('Was asked to gather along dimension 0, but all '\n",
      "/usr/lib/python3/dist-packages/torch/nn/parallel/_functions.py:68: UserWarning: Was asked to gather along dimension 0, but all input tensors were scalars; will instead unsqueeze and return a vector.\n",
      "  warnings.warn('Was asked to gather along dimension 0, but all '\n",
      "/usr/lib/python3/dist-packages/torch/nn/parallel/_functions.py:68: UserWarning: Was asked to gather along dimension 0, but all input tensors were scalars; will instead unsqueeze and return a vector.\n",
      "  warnings.warn('Was asked to gather along dimension 0, but all '\n",
      "/usr/lib/python3/dist-packages/torch/nn/parallel/_functions.py:68: UserWarning: Was asked to gather along dimension 0, but all input tensors were scalars; will instead unsqueeze and return a vector.\n",
      "  warnings.warn('Was asked to gather along dimension 0, but all '\n",
      "/usr/lib/python3/dist-packages/torch/nn/parallel/_functions.py:68: UserWarning: Was asked to gather along dimension 0, but all input tensors were scalars; will instead unsqueeze and return a vector.\n",
      "  warnings.warn('Was asked to gather along dimension 0, but all '\n",
      "/usr/lib/python3/dist-packages/torch/nn/parallel/_functions.py:68: UserWarning: Was asked to gather along dimension 0, but all input tensors were scalars; will instead unsqueeze and return a vector.\n",
      "  warnings.warn('Was asked to gather along dimension 0, but all '\n",
      "/usr/lib/python3/dist-packages/torch/nn/parallel/_functions.py:68: UserWarning: Was asked to gather along dimension 0, but all input tensors were scalars; will instead unsqueeze and return a vector.\n",
      "  warnings.warn('Was asked to gather along dimension 0, but all '\n"
     ]
    }
   ],
   "source": [
    "# Train and save the PEFT model\n",
    "\n",
    "if b_train:\n",
    "    if b_accelerator:\n",
    "        trainer = accelerator.prepare(trainer)\n",
    "    \n",
    "    trainer.train()\n",
    "    trainer.save_model(out_dir)\n",
    "    trainer.save_state()"
   ]
  },
  {
   "cell_type": "code",
   "execution_count": 95,
   "id": "0df598d9-568f-44d2-9437-2070439636a5",
   "metadata": {},
   "outputs": [
    {
     "data": {
      "image/png": "[encoded data removed]",
      "text/plain": [
       "<Figure size 1296x432 with 2 Axes>"
      ]
     },
     "metadata": {
      "needs_background": "light"
     },
     "output_type": "display_data"
    }
   ],
   "source": [
    "if b_train:\n",
    "    batch_step = len(tokenized_ds['train'])/(trainer.args._n_gpu*batch_size)\n",
    "    batch_step = int(round(batch_step+0.5))\n",
    "\n",
    "    plot_train_log_history(trainer.state.log_history, num_epochs, batch_step)"
   ]
  },
  {
   "cell_type": "code",
   "execution_count": 96,
   "id": "ec5ac42c-89be-49c3-93e6-c4024f69390f",
   "metadata": {},
   "outputs": [],
   "source": [
    "# Load the saved PEFT model\n",
    "\n",
    "trainer, trainable_params, all_param = train_eval_setup(out_dir, tokenized_ds, device, training_args, out_dir, log_dir, lora_config=None)\n",
    "model_params[cfg_name] = [trainable_params, all_param]"
   ]
  },
  {
   "cell_type": "code",
   "execution_count": 97,
   "id": "1238d913-5a7e-461c-b5da-7a725e4344ae",
   "metadata": {},
   "outputs": [
    {
     "name": "stderr",
     "output_type": "stream",
     "text": [
      "/usr/lib/python3/dist-packages/torch/nn/parallel/_functions.py:68: UserWarning: Was asked to gather along dimension 0, but all input tensors were scalars; will instead unsqueeze and return a vector.\n",
      "  warnings.warn('Was asked to gather along dimension 0, but all '\n"
     ]
    },
    {
     "data": {
      "text/html": [],
      "text/plain": [
       "<IPython.core.display.HTML object>"
      ]
     },
     "metadata": {},
     "output_type": "display_data"
    },
    {
     "data": {
      "text/plain": [
       "{'test_loss': 0.15724065899848938,\n",
       " 'test_accuracy': 0.9413265306122449,\n",
       " 'test_f1': 0.9415868611568118,\n",
       " 'test_runtime': 4.9331,\n",
       " 'test_samples_per_second': 953.566,\n",
       " 'test_steps_per_second': 7.5}"
      ]
     },
     "execution_count": 97,
     "metadata": {},
     "output_type": "execute_result"
    }
   ],
   "source": [
    "# Evaluate the fine-tuned model\n",
    "\n",
    "preds_val_test = trainer.predict(tokenized_ds[\"val_test\"])\n",
    "test_metrics[cfg_name] = preds_val_test.metrics\n",
    "\n",
    "preds_val_test.metrics"
   ]
  },
  {
   "cell_type": "code",
   "execution_count": 98,
   "id": "2305d1a9-7afd-457a-8eeb-91e681ad1ba6",
   "metadata": {},
   "outputs": [
    {
     "data": {
      "image/png": "[encoded data removed]",
      "text/plain": [
       "<Figure size 432x432 with 1 Axes>"
      ]
     },
     "metadata": {
      "needs_background": "light"
     },
     "output_type": "display_data"
    }
   ],
   "source": [
    "preds_val_test = np.argmax(preds_val_test.predictions, axis=1)\n",
    "\n",
    "plot_confusion_matrix([preds_val_test], [ds['val_test']['label']], labels)"
   ]
  },
  {
   "cell_type": "code",
   "execution_count": 99,
   "id": "170a87d4-2a1c-4113-8ae5-b83676c7d044",
   "metadata": {},
   "outputs": [
    {
     "name": "stdout",
     "output_type": "stream",
     "text": [
      "              precision    recall  f1-score   support\n",
      "\n",
      "           0       0.96      0.95      0.96      3343\n",
      "           1       0.89      0.91      0.90      1361\n",
      "\n",
      "    accuracy                           0.94      4704\n",
      "   macro avg       0.93      0.93      0.93      4704\n",
      "weighted avg       0.94      0.94      0.94      4704\n",
      "\n"
     ]
    }
   ],
   "source": [
    "report_val_test = classification_report(ds['val_test']['label'], preds_val_test)\n",
    "print(report_val_test)"
   ]
  },
  {
   "cell_type": "code",
   "execution_count": 100,
   "id": "a5844c15-cdda-4821-88bd-3e569d67feca",
   "metadata": {},
   "outputs": [
    {
     "data": {
      "text/html": [
       "<div>\n",
       "<style scoped>\n",
       "    .dataframe tbody tr th:only-of-type {\n",
       "        vertical-align: middle;\n",
       "    }\n",
       "\n",
       "    .dataframe tbody tr th {\n",
       "        vertical-align: top;\n",
       "    }\n",
       "\n",
       "    .dataframe thead th {\n",
       "        text-align: right;\n",
       "    }\n",
       "</style>\n",
       "<table border=\"1\" class=\"dataframe\">\n",
       "  <thead>\n",
       "    <tr style=\"text-align: right;\">\n",
       "      <th></th>\n",
       "      <th>pretrain</th>\n",
       "      <th>q_v_r1_s1</th>\n",
       "      <th>q_v_r1_s2</th>\n",
       "      <th>q_v_r4_s1</th>\n",
       "      <th>q_v_r8_s1</th>\n",
       "      <th>q_v_r16_s1</th>\n",
       "      <th>q_v_r32_s1</th>\n",
       "      <th>qlora_q_v_r8_s1</th>\n",
       "    </tr>\n",
       "  </thead>\n",
       "  <tbody>\n",
       "    <tr>\n",
       "      <th>accuracy</th>\n",
       "      <td>0.408588</td>\n",
       "      <td>0.940264</td>\n",
       "      <td>0.940901</td>\n",
       "      <td>0.939838</td>\n",
       "      <td>0.941539</td>\n",
       "      <td>0.941539</td>\n",
       "      <td>0.947066</td>\n",
       "      <td>0.941327</td>\n",
       "    </tr>\n",
       "    <tr>\n",
       "      <th>f1</th>\n",
       "      <td>0.425754</td>\n",
       "      <td>0.940322</td>\n",
       "      <td>0.940837</td>\n",
       "      <td>0.940087</td>\n",
       "      <td>0.941481</td>\n",
       "      <td>0.941351</td>\n",
       "      <td>0.946908</td>\n",
       "      <td>0.941587</td>\n",
       "    </tr>\n",
       "    <tr>\n",
       "      <th>trainable_params</th>\n",
       "      <td>66955010</td>\n",
       "      <td>610562</td>\n",
       "      <td>610562</td>\n",
       "      <td>665858</td>\n",
       "      <td>739586</td>\n",
       "      <td>887042</td>\n",
       "      <td>1181954</td>\n",
       "      <td>739586</td>\n",
       "    </tr>\n",
       "    <tr>\n",
       "      <th>all_params</th>\n",
       "      <td>66955010</td>\n",
       "      <td>67565572</td>\n",
       "      <td>67565572</td>\n",
       "      <td>67620868</td>\n",
       "      <td>67694596</td>\n",
       "      <td>67842052</td>\n",
       "      <td>68136964</td>\n",
       "      <td>67694596</td>\n",
       "    </tr>\n",
       "  </tbody>\n",
       "</table>\n",
       "</div>"
      ],
      "text/plain": [
       "                  pretrain q_v_r1_s1 q_v_r1_s2 q_v_r4_s1 q_v_r8_s1 q_v_r16_s1  \\\n",
       "accuracy          0.408588  0.940264  0.940901  0.939838  0.941539   0.941539   \n",
       "f1                0.425754  0.940322  0.940837  0.940087  0.941481   0.941351   \n",
       "trainable_params  66955010    610562    610562    665858    739586     887042   \n",
       "all_params        66955010  67565572  67565572  67620868  67694596   67842052   \n",
       "\n",
       "                 q_v_r32_s1 qlora_q_v_r8_s1  \n",
       "accuracy           0.947066        0.941327  \n",
       "f1                 0.946908        0.941587  \n",
       "trainable_params    1181954          739586  \n",
       "all_params         68136964        67694596  "
      ]
     },
     "execution_count": 100,
     "metadata": {},
     "output_type": "execute_result"
    }
   ],
   "source": [
    "compare_metrics(test_metrics, model_params)"
   ]
  },
  {
   "cell_type": "code",
   "execution_count": null,
   "id": "a4f9106c-e69f-4f11-ab38-0d3288ea3c3a",
   "metadata": {},
   "outputs": [],
   "source": [
    "# Observations\n",
    "# In general there's not a big difference in metrics for different ranks. \n",
    "# q_v_r8_s1 has the best results. \n",
    "# And qlora_q_v_r8_s1 matches q_v_r8_s1"
   ]
  }
 ],
 "metadata": {
  "kernelspec": {
   "display_name": "Python 3 (ipykernel)",
   "language": "python",
   "name": "python3"
  },
  "language_info": {
   "codemirror_mode": {
    "name": "ipython",
    "version": 3
   },
   "file_extension": ".py",
   "mimetype": "text/x-python",
   "name": "python",
   "nbconvert_exporter": "python",
   "pygments_lexer": "ipython3",
   "version": "3.10.12"
  }
 },
 "nbformat": 4,
 "nbformat_minor": 5
}
